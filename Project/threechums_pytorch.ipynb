{
  "nbformat": 4,
  "nbformat_minor": 0,
  "metadata": {
    "colab": {
      "name": "threechums_pytorch.ipynb",
      "provenance": [],
      "collapsed_sections": []
    },
    "kernelspec": {
      "name": "python3",
      "display_name": "Python 3"
    },
    "language_info": {
      "name": "python"
    },
    "accelerator": "GPU",
    "widgets": {
      "application/vnd.jupyter.widget-state+json": {
        "c8e43819c79f4038b78b815a89462e91": {
          "model_module": "@jupyter-widgets/controls",
          "model_name": "HBoxModel",
          "state": {
            "_view_name": "HBoxView",
            "_dom_classes": [],
            "_model_name": "HBoxModel",
            "_view_module": "@jupyter-widgets/controls",
            "_model_module_version": "1.5.0",
            "_view_count": null,
            "_view_module_version": "1.5.0",
            "box_style": "",
            "layout": "IPY_MODEL_2cc8c24068e84300bcb9863b96bdbf7a",
            "_model_module": "@jupyter-widgets/controls",
            "children": [
              "IPY_MODEL_814bbd59359048d19af984602a0438bb",
              "IPY_MODEL_932771f7be064135ad35b4d763186b15"
            ]
          }
        },
        "2cc8c24068e84300bcb9863b96bdbf7a": {
          "model_module": "@jupyter-widgets/base",
          "model_name": "LayoutModel",
          "state": {
            "_view_name": "LayoutView",
            "grid_template_rows": null,
            "right": null,
            "justify_content": null,
            "_view_module": "@jupyter-widgets/base",
            "overflow": null,
            "_model_module_version": "1.2.0",
            "_view_count": null,
            "flex_flow": null,
            "width": null,
            "min_width": null,
            "border": null,
            "align_items": null,
            "bottom": null,
            "_model_module": "@jupyter-widgets/base",
            "top": null,
            "grid_column": null,
            "overflow_y": null,
            "overflow_x": null,
            "grid_auto_flow": null,
            "grid_area": null,
            "grid_template_columns": null,
            "flex": null,
            "_model_name": "LayoutModel",
            "justify_items": null,
            "grid_row": null,
            "max_height": null,
            "align_content": null,
            "visibility": null,
            "align_self": null,
            "height": null,
            "min_height": null,
            "padding": null,
            "grid_auto_rows": null,
            "grid_gap": null,
            "max_width": null,
            "order": null,
            "_view_module_version": "1.2.0",
            "grid_template_areas": null,
            "object_position": null,
            "object_fit": null,
            "grid_auto_columns": null,
            "margin": null,
            "display": null,
            "left": null
          }
        },
        "814bbd59359048d19af984602a0438bb": {
          "model_module": "@jupyter-widgets/controls",
          "model_name": "FloatProgressModel",
          "state": {
            "_view_name": "ProgressView",
            "style": "IPY_MODEL_1880186ffc2843859f2d94915fa891c5",
            "_dom_classes": [],
            "description": "",
            "_model_name": "FloatProgressModel",
            "bar_style": "success",
            "max": 9912422,
            "_view_module": "@jupyter-widgets/controls",
            "_model_module_version": "1.5.0",
            "value": 9912422,
            "_view_count": null,
            "_view_module_version": "1.5.0",
            "orientation": "horizontal",
            "min": 0,
            "description_tooltip": null,
            "_model_module": "@jupyter-widgets/controls",
            "layout": "IPY_MODEL_71f2baf55b684b1cb4d9cb88968bd526"
          }
        },
        "932771f7be064135ad35b4d763186b15": {
          "model_module": "@jupyter-widgets/controls",
          "model_name": "HTMLModel",
          "state": {
            "_view_name": "HTMLView",
            "style": "IPY_MODEL_81f01da3dbd4427fb445b88fcf462e4f",
            "_dom_classes": [],
            "description": "",
            "_model_name": "HTMLModel",
            "placeholder": "​",
            "_view_module": "@jupyter-widgets/controls",
            "_model_module_version": "1.5.0",
            "value": " 9913344/? [00:08&lt;00:00, 1236211.40it/s]",
            "_view_count": null,
            "_view_module_version": "1.5.0",
            "description_tooltip": null,
            "_model_module": "@jupyter-widgets/controls",
            "layout": "IPY_MODEL_25bbe5882c464aa1a1383aaec3271073"
          }
        },
        "1880186ffc2843859f2d94915fa891c5": {
          "model_module": "@jupyter-widgets/controls",
          "model_name": "ProgressStyleModel",
          "state": {
            "_view_name": "StyleView",
            "_model_name": "ProgressStyleModel",
            "description_width": "initial",
            "_view_module": "@jupyter-widgets/base",
            "_model_module_version": "1.5.0",
            "_view_count": null,
            "_view_module_version": "1.2.0",
            "bar_color": null,
            "_model_module": "@jupyter-widgets/controls"
          }
        },
        "71f2baf55b684b1cb4d9cb88968bd526": {
          "model_module": "@jupyter-widgets/base",
          "model_name": "LayoutModel",
          "state": {
            "_view_name": "LayoutView",
            "grid_template_rows": null,
            "right": null,
            "justify_content": null,
            "_view_module": "@jupyter-widgets/base",
            "overflow": null,
            "_model_module_version": "1.2.0",
            "_view_count": null,
            "flex_flow": null,
            "width": null,
            "min_width": null,
            "border": null,
            "align_items": null,
            "bottom": null,
            "_model_module": "@jupyter-widgets/base",
            "top": null,
            "grid_column": null,
            "overflow_y": null,
            "overflow_x": null,
            "grid_auto_flow": null,
            "grid_area": null,
            "grid_template_columns": null,
            "flex": null,
            "_model_name": "LayoutModel",
            "justify_items": null,
            "grid_row": null,
            "max_height": null,
            "align_content": null,
            "visibility": null,
            "align_self": null,
            "height": null,
            "min_height": null,
            "padding": null,
            "grid_auto_rows": null,
            "grid_gap": null,
            "max_width": null,
            "order": null,
            "_view_module_version": "1.2.0",
            "grid_template_areas": null,
            "object_position": null,
            "object_fit": null,
            "grid_auto_columns": null,
            "margin": null,
            "display": null,
            "left": null
          }
        },
        "81f01da3dbd4427fb445b88fcf462e4f": {
          "model_module": "@jupyter-widgets/controls",
          "model_name": "DescriptionStyleModel",
          "state": {
            "_view_name": "StyleView",
            "_model_name": "DescriptionStyleModel",
            "description_width": "",
            "_view_module": "@jupyter-widgets/base",
            "_model_module_version": "1.5.0",
            "_view_count": null,
            "_view_module_version": "1.2.0",
            "_model_module": "@jupyter-widgets/controls"
          }
        },
        "25bbe5882c464aa1a1383aaec3271073": {
          "model_module": "@jupyter-widgets/base",
          "model_name": "LayoutModel",
          "state": {
            "_view_name": "LayoutView",
            "grid_template_rows": null,
            "right": null,
            "justify_content": null,
            "_view_module": "@jupyter-widgets/base",
            "overflow": null,
            "_model_module_version": "1.2.0",
            "_view_count": null,
            "flex_flow": null,
            "width": null,
            "min_width": null,
            "border": null,
            "align_items": null,
            "bottom": null,
            "_model_module": "@jupyter-widgets/base",
            "top": null,
            "grid_column": null,
            "overflow_y": null,
            "overflow_x": null,
            "grid_auto_flow": null,
            "grid_area": null,
            "grid_template_columns": null,
            "flex": null,
            "_model_name": "LayoutModel",
            "justify_items": null,
            "grid_row": null,
            "max_height": null,
            "align_content": null,
            "visibility": null,
            "align_self": null,
            "height": null,
            "min_height": null,
            "padding": null,
            "grid_auto_rows": null,
            "grid_gap": null,
            "max_width": null,
            "order": null,
            "_view_module_version": "1.2.0",
            "grid_template_areas": null,
            "object_position": null,
            "object_fit": null,
            "grid_auto_columns": null,
            "margin": null,
            "display": null,
            "left": null
          }
        },
        "8c209573ead14e5180d303b525338ff7": {
          "model_module": "@jupyter-widgets/controls",
          "model_name": "HBoxModel",
          "state": {
            "_view_name": "HBoxView",
            "_dom_classes": [],
            "_model_name": "HBoxModel",
            "_view_module": "@jupyter-widgets/controls",
            "_model_module_version": "1.5.0",
            "_view_count": null,
            "_view_module_version": "1.5.0",
            "box_style": "",
            "layout": "IPY_MODEL_baa267adfea844cc83f056d3909543da",
            "_model_module": "@jupyter-widgets/controls",
            "children": [
              "IPY_MODEL_5d9ffdd45d0b4096b400677eacf9469f",
              "IPY_MODEL_ca1834437ba94a4cb85b6c4f0f7fe9db"
            ]
          }
        },
        "baa267adfea844cc83f056d3909543da": {
          "model_module": "@jupyter-widgets/base",
          "model_name": "LayoutModel",
          "state": {
            "_view_name": "LayoutView",
            "grid_template_rows": null,
            "right": null,
            "justify_content": null,
            "_view_module": "@jupyter-widgets/base",
            "overflow": null,
            "_model_module_version": "1.2.0",
            "_view_count": null,
            "flex_flow": null,
            "width": null,
            "min_width": null,
            "border": null,
            "align_items": null,
            "bottom": null,
            "_model_module": "@jupyter-widgets/base",
            "top": null,
            "grid_column": null,
            "overflow_y": null,
            "overflow_x": null,
            "grid_auto_flow": null,
            "grid_area": null,
            "grid_template_columns": null,
            "flex": null,
            "_model_name": "LayoutModel",
            "justify_items": null,
            "grid_row": null,
            "max_height": null,
            "align_content": null,
            "visibility": null,
            "align_self": null,
            "height": null,
            "min_height": null,
            "padding": null,
            "grid_auto_rows": null,
            "grid_gap": null,
            "max_width": null,
            "order": null,
            "_view_module_version": "1.2.0",
            "grid_template_areas": null,
            "object_position": null,
            "object_fit": null,
            "grid_auto_columns": null,
            "margin": null,
            "display": null,
            "left": null
          }
        },
        "5d9ffdd45d0b4096b400677eacf9469f": {
          "model_module": "@jupyter-widgets/controls",
          "model_name": "FloatProgressModel",
          "state": {
            "_view_name": "ProgressView",
            "style": "IPY_MODEL_0b5ad1cd30024d12818457541e4c5fc0",
            "_dom_classes": [],
            "description": "",
            "_model_name": "FloatProgressModel",
            "bar_style": "success",
            "max": 28881,
            "_view_module": "@jupyter-widgets/controls",
            "_model_module_version": "1.5.0",
            "value": 28881,
            "_view_count": null,
            "_view_module_version": "1.5.0",
            "orientation": "horizontal",
            "min": 0,
            "description_tooltip": null,
            "_model_module": "@jupyter-widgets/controls",
            "layout": "IPY_MODEL_c8d3e9adf921415aac083d48147e6326"
          }
        },
        "ca1834437ba94a4cb85b6c4f0f7fe9db": {
          "model_module": "@jupyter-widgets/controls",
          "model_name": "HTMLModel",
          "state": {
            "_view_name": "HTMLView",
            "style": "IPY_MODEL_9c1dc1f2dc58488ea67b47fa38fcf2bd",
            "_dom_classes": [],
            "description": "",
            "_model_name": "HTMLModel",
            "placeholder": "​",
            "_view_module": "@jupyter-widgets/controls",
            "_model_module_version": "1.5.0",
            "value": " 29696/? [00:00&lt;00:00, 154269.62it/s]",
            "_view_count": null,
            "_view_module_version": "1.5.0",
            "description_tooltip": null,
            "_model_module": "@jupyter-widgets/controls",
            "layout": "IPY_MODEL_5dcd05fff6ef4a208af87033aa3f240c"
          }
        },
        "0b5ad1cd30024d12818457541e4c5fc0": {
          "model_module": "@jupyter-widgets/controls",
          "model_name": "ProgressStyleModel",
          "state": {
            "_view_name": "StyleView",
            "_model_name": "ProgressStyleModel",
            "description_width": "initial",
            "_view_module": "@jupyter-widgets/base",
            "_model_module_version": "1.5.0",
            "_view_count": null,
            "_view_module_version": "1.2.0",
            "bar_color": null,
            "_model_module": "@jupyter-widgets/controls"
          }
        },
        "c8d3e9adf921415aac083d48147e6326": {
          "model_module": "@jupyter-widgets/base",
          "model_name": "LayoutModel",
          "state": {
            "_view_name": "LayoutView",
            "grid_template_rows": null,
            "right": null,
            "justify_content": null,
            "_view_module": "@jupyter-widgets/base",
            "overflow": null,
            "_model_module_version": "1.2.0",
            "_view_count": null,
            "flex_flow": null,
            "width": null,
            "min_width": null,
            "border": null,
            "align_items": null,
            "bottom": null,
            "_model_module": "@jupyter-widgets/base",
            "top": null,
            "grid_column": null,
            "overflow_y": null,
            "overflow_x": null,
            "grid_auto_flow": null,
            "grid_area": null,
            "grid_template_columns": null,
            "flex": null,
            "_model_name": "LayoutModel",
            "justify_items": null,
            "grid_row": null,
            "max_height": null,
            "align_content": null,
            "visibility": null,
            "align_self": null,
            "height": null,
            "min_height": null,
            "padding": null,
            "grid_auto_rows": null,
            "grid_gap": null,
            "max_width": null,
            "order": null,
            "_view_module_version": "1.2.0",
            "grid_template_areas": null,
            "object_position": null,
            "object_fit": null,
            "grid_auto_columns": null,
            "margin": null,
            "display": null,
            "left": null
          }
        },
        "9c1dc1f2dc58488ea67b47fa38fcf2bd": {
          "model_module": "@jupyter-widgets/controls",
          "model_name": "DescriptionStyleModel",
          "state": {
            "_view_name": "StyleView",
            "_model_name": "DescriptionStyleModel",
            "description_width": "",
            "_view_module": "@jupyter-widgets/base",
            "_model_module_version": "1.5.0",
            "_view_count": null,
            "_view_module_version": "1.2.0",
            "_model_module": "@jupyter-widgets/controls"
          }
        },
        "5dcd05fff6ef4a208af87033aa3f240c": {
          "model_module": "@jupyter-widgets/base",
          "model_name": "LayoutModel",
          "state": {
            "_view_name": "LayoutView",
            "grid_template_rows": null,
            "right": null,
            "justify_content": null,
            "_view_module": "@jupyter-widgets/base",
            "overflow": null,
            "_model_module_version": "1.2.0",
            "_view_count": null,
            "flex_flow": null,
            "width": null,
            "min_width": null,
            "border": null,
            "align_items": null,
            "bottom": null,
            "_model_module": "@jupyter-widgets/base",
            "top": null,
            "grid_column": null,
            "overflow_y": null,
            "overflow_x": null,
            "grid_auto_flow": null,
            "grid_area": null,
            "grid_template_columns": null,
            "flex": null,
            "_model_name": "LayoutModel",
            "justify_items": null,
            "grid_row": null,
            "max_height": null,
            "align_content": null,
            "visibility": null,
            "align_self": null,
            "height": null,
            "min_height": null,
            "padding": null,
            "grid_auto_rows": null,
            "grid_gap": null,
            "max_width": null,
            "order": null,
            "_view_module_version": "1.2.0",
            "grid_template_areas": null,
            "object_position": null,
            "object_fit": null,
            "grid_auto_columns": null,
            "margin": null,
            "display": null,
            "left": null
          }
        },
        "740e455719ae42f7a9dfdc1d5b7f7b9d": {
          "model_module": "@jupyter-widgets/controls",
          "model_name": "HBoxModel",
          "state": {
            "_view_name": "HBoxView",
            "_dom_classes": [],
            "_model_name": "HBoxModel",
            "_view_module": "@jupyter-widgets/controls",
            "_model_module_version": "1.5.0",
            "_view_count": null,
            "_view_module_version": "1.5.0",
            "box_style": "",
            "layout": "IPY_MODEL_8f358ba6e56a4695998bbb0d22152405",
            "_model_module": "@jupyter-widgets/controls",
            "children": [
              "IPY_MODEL_718608a381da450492a1a9d14058a537",
              "IPY_MODEL_5b77d2c3037745eab65d53e8dbafb097"
            ]
          }
        },
        "8f358ba6e56a4695998bbb0d22152405": {
          "model_module": "@jupyter-widgets/base",
          "model_name": "LayoutModel",
          "state": {
            "_view_name": "LayoutView",
            "grid_template_rows": null,
            "right": null,
            "justify_content": null,
            "_view_module": "@jupyter-widgets/base",
            "overflow": null,
            "_model_module_version": "1.2.0",
            "_view_count": null,
            "flex_flow": null,
            "width": null,
            "min_width": null,
            "border": null,
            "align_items": null,
            "bottom": null,
            "_model_module": "@jupyter-widgets/base",
            "top": null,
            "grid_column": null,
            "overflow_y": null,
            "overflow_x": null,
            "grid_auto_flow": null,
            "grid_area": null,
            "grid_template_columns": null,
            "flex": null,
            "_model_name": "LayoutModel",
            "justify_items": null,
            "grid_row": null,
            "max_height": null,
            "align_content": null,
            "visibility": null,
            "align_self": null,
            "height": null,
            "min_height": null,
            "padding": null,
            "grid_auto_rows": null,
            "grid_gap": null,
            "max_width": null,
            "order": null,
            "_view_module_version": "1.2.0",
            "grid_template_areas": null,
            "object_position": null,
            "object_fit": null,
            "grid_auto_columns": null,
            "margin": null,
            "display": null,
            "left": null
          }
        },
        "718608a381da450492a1a9d14058a537": {
          "model_module": "@jupyter-widgets/controls",
          "model_name": "FloatProgressModel",
          "state": {
            "_view_name": "ProgressView",
            "style": "IPY_MODEL_75bd86b1f6be4b0b83291bb5f00c39c8",
            "_dom_classes": [],
            "description": "",
            "_model_name": "FloatProgressModel",
            "bar_style": "success",
            "max": 1648877,
            "_view_module": "@jupyter-widgets/controls",
            "_model_module_version": "1.5.0",
            "value": 1648877,
            "_view_count": null,
            "_view_module_version": "1.5.0",
            "orientation": "horizontal",
            "min": 0,
            "description_tooltip": null,
            "_model_module": "@jupyter-widgets/controls",
            "layout": "IPY_MODEL_5f882053c0774455bac6daf2846fa602"
          }
        },
        "5b77d2c3037745eab65d53e8dbafb097": {
          "model_module": "@jupyter-widgets/controls",
          "model_name": "HTMLModel",
          "state": {
            "_view_name": "HTMLView",
            "style": "IPY_MODEL_b01d46575b9c45c0add529f704d0d9ff",
            "_dom_classes": [],
            "description": "",
            "_model_name": "HTMLModel",
            "placeholder": "​",
            "_view_module": "@jupyter-widgets/controls",
            "_model_module_version": "1.5.0",
            "value": " 1649664/? [00:07&lt;00:00, 230889.98it/s]",
            "_view_count": null,
            "_view_module_version": "1.5.0",
            "description_tooltip": null,
            "_model_module": "@jupyter-widgets/controls",
            "layout": "IPY_MODEL_3ffed4054cf840ab850a8f9554b86944"
          }
        },
        "75bd86b1f6be4b0b83291bb5f00c39c8": {
          "model_module": "@jupyter-widgets/controls",
          "model_name": "ProgressStyleModel",
          "state": {
            "_view_name": "StyleView",
            "_model_name": "ProgressStyleModel",
            "description_width": "initial",
            "_view_module": "@jupyter-widgets/base",
            "_model_module_version": "1.5.0",
            "_view_count": null,
            "_view_module_version": "1.2.0",
            "bar_color": null,
            "_model_module": "@jupyter-widgets/controls"
          }
        },
        "5f882053c0774455bac6daf2846fa602": {
          "model_module": "@jupyter-widgets/base",
          "model_name": "LayoutModel",
          "state": {
            "_view_name": "LayoutView",
            "grid_template_rows": null,
            "right": null,
            "justify_content": null,
            "_view_module": "@jupyter-widgets/base",
            "overflow": null,
            "_model_module_version": "1.2.0",
            "_view_count": null,
            "flex_flow": null,
            "width": null,
            "min_width": null,
            "border": null,
            "align_items": null,
            "bottom": null,
            "_model_module": "@jupyter-widgets/base",
            "top": null,
            "grid_column": null,
            "overflow_y": null,
            "overflow_x": null,
            "grid_auto_flow": null,
            "grid_area": null,
            "grid_template_columns": null,
            "flex": null,
            "_model_name": "LayoutModel",
            "justify_items": null,
            "grid_row": null,
            "max_height": null,
            "align_content": null,
            "visibility": null,
            "align_self": null,
            "height": null,
            "min_height": null,
            "padding": null,
            "grid_auto_rows": null,
            "grid_gap": null,
            "max_width": null,
            "order": null,
            "_view_module_version": "1.2.0",
            "grid_template_areas": null,
            "object_position": null,
            "object_fit": null,
            "grid_auto_columns": null,
            "margin": null,
            "display": null,
            "left": null
          }
        },
        "b01d46575b9c45c0add529f704d0d9ff": {
          "model_module": "@jupyter-widgets/controls",
          "model_name": "DescriptionStyleModel",
          "state": {
            "_view_name": "StyleView",
            "_model_name": "DescriptionStyleModel",
            "description_width": "",
            "_view_module": "@jupyter-widgets/base",
            "_model_module_version": "1.5.0",
            "_view_count": null,
            "_view_module_version": "1.2.0",
            "_model_module": "@jupyter-widgets/controls"
          }
        },
        "3ffed4054cf840ab850a8f9554b86944": {
          "model_module": "@jupyter-widgets/base",
          "model_name": "LayoutModel",
          "state": {
            "_view_name": "LayoutView",
            "grid_template_rows": null,
            "right": null,
            "justify_content": null,
            "_view_module": "@jupyter-widgets/base",
            "overflow": null,
            "_model_module_version": "1.2.0",
            "_view_count": null,
            "flex_flow": null,
            "width": null,
            "min_width": null,
            "border": null,
            "align_items": null,
            "bottom": null,
            "_model_module": "@jupyter-widgets/base",
            "top": null,
            "grid_column": null,
            "overflow_y": null,
            "overflow_x": null,
            "grid_auto_flow": null,
            "grid_area": null,
            "grid_template_columns": null,
            "flex": null,
            "_model_name": "LayoutModel",
            "justify_items": null,
            "grid_row": null,
            "max_height": null,
            "align_content": null,
            "visibility": null,
            "align_self": null,
            "height": null,
            "min_height": null,
            "padding": null,
            "grid_auto_rows": null,
            "grid_gap": null,
            "max_width": null,
            "order": null,
            "_view_module_version": "1.2.0",
            "grid_template_areas": null,
            "object_position": null,
            "object_fit": null,
            "grid_auto_columns": null,
            "margin": null,
            "display": null,
            "left": null
          }
        },
        "80b1e2ab1a52489daeb33bbdb1180566": {
          "model_module": "@jupyter-widgets/controls",
          "model_name": "HBoxModel",
          "state": {
            "_view_name": "HBoxView",
            "_dom_classes": [],
            "_model_name": "HBoxModel",
            "_view_module": "@jupyter-widgets/controls",
            "_model_module_version": "1.5.0",
            "_view_count": null,
            "_view_module_version": "1.5.0",
            "box_style": "",
            "layout": "IPY_MODEL_8da58987a66449d5997a8a35f22ebec5",
            "_model_module": "@jupyter-widgets/controls",
            "children": [
              "IPY_MODEL_f55addaa4087464aa4271ccfe7aa1c44",
              "IPY_MODEL_ca0f1f46d4574fb7892bacc0a9e181a2"
            ]
          }
        },
        "8da58987a66449d5997a8a35f22ebec5": {
          "model_module": "@jupyter-widgets/base",
          "model_name": "LayoutModel",
          "state": {
            "_view_name": "LayoutView",
            "grid_template_rows": null,
            "right": null,
            "justify_content": null,
            "_view_module": "@jupyter-widgets/base",
            "overflow": null,
            "_model_module_version": "1.2.0",
            "_view_count": null,
            "flex_flow": null,
            "width": null,
            "min_width": null,
            "border": null,
            "align_items": null,
            "bottom": null,
            "_model_module": "@jupyter-widgets/base",
            "top": null,
            "grid_column": null,
            "overflow_y": null,
            "overflow_x": null,
            "grid_auto_flow": null,
            "grid_area": null,
            "grid_template_columns": null,
            "flex": null,
            "_model_name": "LayoutModel",
            "justify_items": null,
            "grid_row": null,
            "max_height": null,
            "align_content": null,
            "visibility": null,
            "align_self": null,
            "height": null,
            "min_height": null,
            "padding": null,
            "grid_auto_rows": null,
            "grid_gap": null,
            "max_width": null,
            "order": null,
            "_view_module_version": "1.2.0",
            "grid_template_areas": null,
            "object_position": null,
            "object_fit": null,
            "grid_auto_columns": null,
            "margin": null,
            "display": null,
            "left": null
          }
        },
        "f55addaa4087464aa4271ccfe7aa1c44": {
          "model_module": "@jupyter-widgets/controls",
          "model_name": "FloatProgressModel",
          "state": {
            "_view_name": "ProgressView",
            "style": "IPY_MODEL_980df57a8bf2461eac569cb6c3e3dc34",
            "_dom_classes": [],
            "description": "",
            "_model_name": "FloatProgressModel",
            "bar_style": "success",
            "max": 4542,
            "_view_module": "@jupyter-widgets/controls",
            "_model_module_version": "1.5.0",
            "value": 4542,
            "_view_count": null,
            "_view_module_version": "1.5.0",
            "orientation": "horizontal",
            "min": 0,
            "description_tooltip": null,
            "_model_module": "@jupyter-widgets/controls",
            "layout": "IPY_MODEL_68e3079c2e8441bb812028198d0fff77"
          }
        },
        "ca0f1f46d4574fb7892bacc0a9e181a2": {
          "model_module": "@jupyter-widgets/controls",
          "model_name": "HTMLModel",
          "state": {
            "_view_name": "HTMLView",
            "style": "IPY_MODEL_c63011c30c59438d82e06e979fde101e",
            "_dom_classes": [],
            "description": "",
            "_model_name": "HTMLModel",
            "placeholder": "​",
            "_view_module": "@jupyter-widgets/controls",
            "_model_module_version": "1.5.0",
            "value": " 5120/? [00:03&lt;00:00, 1363.61it/s]",
            "_view_count": null,
            "_view_module_version": "1.5.0",
            "description_tooltip": null,
            "_model_module": "@jupyter-widgets/controls",
            "layout": "IPY_MODEL_95648fd9801d4d1fa2c773b18363c4be"
          }
        },
        "980df57a8bf2461eac569cb6c3e3dc34": {
          "model_module": "@jupyter-widgets/controls",
          "model_name": "ProgressStyleModel",
          "state": {
            "_view_name": "StyleView",
            "_model_name": "ProgressStyleModel",
            "description_width": "initial",
            "_view_module": "@jupyter-widgets/base",
            "_model_module_version": "1.5.0",
            "_view_count": null,
            "_view_module_version": "1.2.0",
            "bar_color": null,
            "_model_module": "@jupyter-widgets/controls"
          }
        },
        "68e3079c2e8441bb812028198d0fff77": {
          "model_module": "@jupyter-widgets/base",
          "model_name": "LayoutModel",
          "state": {
            "_view_name": "LayoutView",
            "grid_template_rows": null,
            "right": null,
            "justify_content": null,
            "_view_module": "@jupyter-widgets/base",
            "overflow": null,
            "_model_module_version": "1.2.0",
            "_view_count": null,
            "flex_flow": null,
            "width": null,
            "min_width": null,
            "border": null,
            "align_items": null,
            "bottom": null,
            "_model_module": "@jupyter-widgets/base",
            "top": null,
            "grid_column": null,
            "overflow_y": null,
            "overflow_x": null,
            "grid_auto_flow": null,
            "grid_area": null,
            "grid_template_columns": null,
            "flex": null,
            "_model_name": "LayoutModel",
            "justify_items": null,
            "grid_row": null,
            "max_height": null,
            "align_content": null,
            "visibility": null,
            "align_self": null,
            "height": null,
            "min_height": null,
            "padding": null,
            "grid_auto_rows": null,
            "grid_gap": null,
            "max_width": null,
            "order": null,
            "_view_module_version": "1.2.0",
            "grid_template_areas": null,
            "object_position": null,
            "object_fit": null,
            "grid_auto_columns": null,
            "margin": null,
            "display": null,
            "left": null
          }
        },
        "c63011c30c59438d82e06e979fde101e": {
          "model_module": "@jupyter-widgets/controls",
          "model_name": "DescriptionStyleModel",
          "state": {
            "_view_name": "StyleView",
            "_model_name": "DescriptionStyleModel",
            "description_width": "",
            "_view_module": "@jupyter-widgets/base",
            "_model_module_version": "1.5.0",
            "_view_count": null,
            "_view_module_version": "1.2.0",
            "_model_module": "@jupyter-widgets/controls"
          }
        },
        "95648fd9801d4d1fa2c773b18363c4be": {
          "model_module": "@jupyter-widgets/base",
          "model_name": "LayoutModel",
          "state": {
            "_view_name": "LayoutView",
            "grid_template_rows": null,
            "right": null,
            "justify_content": null,
            "_view_module": "@jupyter-widgets/base",
            "overflow": null,
            "_model_module_version": "1.2.0",
            "_view_count": null,
            "flex_flow": null,
            "width": null,
            "min_width": null,
            "border": null,
            "align_items": null,
            "bottom": null,
            "_model_module": "@jupyter-widgets/base",
            "top": null,
            "grid_column": null,
            "overflow_y": null,
            "overflow_x": null,
            "grid_auto_flow": null,
            "grid_area": null,
            "grid_template_columns": null,
            "flex": null,
            "_model_name": "LayoutModel",
            "justify_items": null,
            "grid_row": null,
            "max_height": null,
            "align_content": null,
            "visibility": null,
            "align_self": null,
            "height": null,
            "min_height": null,
            "padding": null,
            "grid_auto_rows": null,
            "grid_gap": null,
            "max_width": null,
            "order": null,
            "_view_module_version": "1.2.0",
            "grid_template_areas": null,
            "object_position": null,
            "object_fit": null,
            "grid_auto_columns": null,
            "margin": null,
            "display": null,
            "left": null
          }
        }
      }
    }
  },
  "cells": [
    {
      "cell_type": "code",
      "metadata": {
        "id": "QLOCJ5tPKcec"
      },
      "source": [
        "import torch\n",
        "import torchvision\n",
        "import torchvision.transforms as transforms\n",
        "import matplotlib.pyplot as plt\n",
        "import numpy as np\n",
        "import torch.nn as nn\n",
        "import torch.nn.functional as F\n",
        "import torch.optim as optim\n",
        "from torchsummary import summary\n",
        "from torch.optim.lr_scheduler import ExponentialLR"
      ],
      "execution_count": null,
      "outputs": []
    },
    {
      "cell_type": "code",
      "metadata": {
        "colab": {
          "base_uri": "https://localhost:8080/"
        },
        "id": "XASiFE18xS3u",
        "outputId": "a2241f40-9a2c-4f96-c7ce-d9455e14a258"
      },
      "source": [
        "device = torch.device(\"cuda:0\" if torch.cuda.is_available() else \"cpu\")\n",
        "# Assuming that we are on a CUDA machine, this should print a CUDA device:\n",
        "print(device)"
      ],
      "execution_count": null,
      "outputs": [
        {
          "output_type": "stream",
          "text": [
            "cuda:0\n"
          ],
          "name": "stdout"
        }
      ]
    },
    {
      "cell_type": "code",
      "metadata": {
        "colab": {
          "base_uri": "https://localhost:8080/",
          "height": 807,
          "referenced_widgets": [
            "c8e43819c79f4038b78b815a89462e91",
            "2cc8c24068e84300bcb9863b96bdbf7a",
            "814bbd59359048d19af984602a0438bb",
            "932771f7be064135ad35b4d763186b15",
            "1880186ffc2843859f2d94915fa891c5",
            "71f2baf55b684b1cb4d9cb88968bd526",
            "81f01da3dbd4427fb445b88fcf462e4f",
            "25bbe5882c464aa1a1383aaec3271073",
            "8c209573ead14e5180d303b525338ff7",
            "baa267adfea844cc83f056d3909543da",
            "5d9ffdd45d0b4096b400677eacf9469f",
            "ca1834437ba94a4cb85b6c4f0f7fe9db",
            "0b5ad1cd30024d12818457541e4c5fc0",
            "c8d3e9adf921415aac083d48147e6326",
            "9c1dc1f2dc58488ea67b47fa38fcf2bd",
            "5dcd05fff6ef4a208af87033aa3f240c",
            "740e455719ae42f7a9dfdc1d5b7f7b9d",
            "8f358ba6e56a4695998bbb0d22152405",
            "718608a381da450492a1a9d14058a537",
            "5b77d2c3037745eab65d53e8dbafb097",
            "75bd86b1f6be4b0b83291bb5f00c39c8",
            "5f882053c0774455bac6daf2846fa602",
            "b01d46575b9c45c0add529f704d0d9ff",
            "3ffed4054cf840ab850a8f9554b86944",
            "80b1e2ab1a52489daeb33bbdb1180566",
            "8da58987a66449d5997a8a35f22ebec5",
            "f55addaa4087464aa4271ccfe7aa1c44",
            "ca0f1f46d4574fb7892bacc0a9e181a2",
            "980df57a8bf2461eac569cb6c3e3dc34",
            "68e3079c2e8441bb812028198d0fff77",
            "c63011c30c59438d82e06e979fde101e",
            "95648fd9801d4d1fa2c773b18363c4be"
          ]
        },
        "id": "6eOpjjkOxV1_",
        "outputId": "82f76d95-02e7-43cf-ae65-ff7d8990c166"
      },
      "source": [
        "train_set = torchvision.datasets.MNIST(root='dataset/',train=True,transform=transforms.ToTensor(),download=True)\n",
        "test_set = torchvision.datasets.MNIST(root='dataset/',train=False,transform=transforms.ToTensor(),download=True)"
      ],
      "execution_count": null,
      "outputs": [
        {
          "output_type": "stream",
          "text": [
            "Downloading http://yann.lecun.com/exdb/mnist/train-images-idx3-ubyte.gz\n",
            "Downloading http://yann.lecun.com/exdb/mnist/train-images-idx3-ubyte.gz to dataset/MNIST/raw/train-images-idx3-ubyte.gz\n",
            "Failed to download (trying next):\n",
            "HTTP Error 503: Service Unavailable\n",
            "\n",
            "Downloading https://ossci-datasets.s3.amazonaws.com/mnist/train-images-idx3-ubyte.gz\n",
            "Downloading https://ossci-datasets.s3.amazonaws.com/mnist/train-images-idx3-ubyte.gz to dataset/MNIST/raw/train-images-idx3-ubyte.gz\n"
          ],
          "name": "stdout"
        },
        {
          "output_type": "display_data",
          "data": {
            "application/vnd.jupyter.widget-view+json": {
              "model_id": "c8e43819c79f4038b78b815a89462e91",
              "version_minor": 0,
              "version_major": 2
            },
            "text/plain": [
              "HBox(children=(FloatProgress(value=0.0, max=9912422.0), HTML(value='')))"
            ]
          },
          "metadata": {
            "tags": []
          }
        },
        {
          "output_type": "stream",
          "text": [
            "\n",
            "Extracting dataset/MNIST/raw/train-images-idx3-ubyte.gz to dataset/MNIST/raw\n",
            "\n",
            "Downloading http://yann.lecun.com/exdb/mnist/train-labels-idx1-ubyte.gz\n",
            "Failed to download (trying next):\n",
            "HTTP Error 503: Service Unavailable\n",
            "\n",
            "Downloading https://ossci-datasets.s3.amazonaws.com/mnist/train-labels-idx1-ubyte.gz\n",
            "Downloading https://ossci-datasets.s3.amazonaws.com/mnist/train-labels-idx1-ubyte.gz to dataset/MNIST/raw/train-labels-idx1-ubyte.gz\n"
          ],
          "name": "stdout"
        },
        {
          "output_type": "display_data",
          "data": {
            "application/vnd.jupyter.widget-view+json": {
              "model_id": "8c209573ead14e5180d303b525338ff7",
              "version_minor": 0,
              "version_major": 2
            },
            "text/plain": [
              "HBox(children=(FloatProgress(value=0.0, max=28881.0), HTML(value='')))"
            ]
          },
          "metadata": {
            "tags": []
          }
        },
        {
          "output_type": "stream",
          "text": [
            "\n",
            "Extracting dataset/MNIST/raw/train-labels-idx1-ubyte.gz to dataset/MNIST/raw\n",
            "\n",
            "Downloading http://yann.lecun.com/exdb/mnist/t10k-images-idx3-ubyte.gz\n",
            "Failed to download (trying next):\n",
            "HTTP Error 503: Service Unavailable\n",
            "\n",
            "Downloading https://ossci-datasets.s3.amazonaws.com/mnist/t10k-images-idx3-ubyte.gz\n",
            "Downloading https://ossci-datasets.s3.amazonaws.com/mnist/t10k-images-idx3-ubyte.gz to dataset/MNIST/raw/t10k-images-idx3-ubyte.gz\n"
          ],
          "name": "stdout"
        },
        {
          "output_type": "display_data",
          "data": {
            "application/vnd.jupyter.widget-view+json": {
              "model_id": "740e455719ae42f7a9dfdc1d5b7f7b9d",
              "version_minor": 0,
              "version_major": 2
            },
            "text/plain": [
              "HBox(children=(FloatProgress(value=0.0, max=1648877.0), HTML(value='')))"
            ]
          },
          "metadata": {
            "tags": []
          }
        },
        {
          "output_type": "stream",
          "text": [
            "\n",
            "Extracting dataset/MNIST/raw/t10k-images-idx3-ubyte.gz to dataset/MNIST/raw\n",
            "\n",
            "Downloading http://yann.lecun.com/exdb/mnist/t10k-labels-idx1-ubyte.gz\n",
            "Downloading http://yann.lecun.com/exdb/mnist/t10k-labels-idx1-ubyte.gz to dataset/MNIST/raw/t10k-labels-idx1-ubyte.gz\n"
          ],
          "name": "stdout"
        },
        {
          "output_type": "display_data",
          "data": {
            "application/vnd.jupyter.widget-view+json": {
              "model_id": "80b1e2ab1a52489daeb33bbdb1180566",
              "version_minor": 0,
              "version_major": 2
            },
            "text/plain": [
              "HBox(children=(FloatProgress(value=0.0, max=4542.0), HTML(value='')))"
            ]
          },
          "metadata": {
            "tags": []
          }
        },
        {
          "output_type": "stream",
          "text": [
            "\n",
            "Extracting dataset/MNIST/raw/t10k-labels-idx1-ubyte.gz to dataset/MNIST/raw\n",
            "\n",
            "Processing...\n",
            "Done!\n"
          ],
          "name": "stdout"
        },
        {
          "output_type": "stream",
          "text": [
            "/usr/local/lib/python3.7/dist-packages/torchvision/datasets/mnist.py:502: UserWarning: The given NumPy array is not writeable, and PyTorch does not support non-writeable tensors. This means you can write to the underlying (supposedly non-writeable) NumPy array using the tensor. You may want to copy the array to protect its data or make it writeable before converting it to a tensor. This type of warning will be suppressed for the rest of this program. (Triggered internally at  /pytorch/torch/csrc/utils/tensor_numpy.cpp:143.)\n",
            "  return torch.from_numpy(parsed.astype(m[2], copy=False)).view(*s)\n"
          ],
          "name": "stderr"
        }
      ]
    },
    {
      "cell_type": "code",
      "metadata": {
        "id": "NvZwwajFxaYI"
      },
      "source": [
        "train_loader = torch.utils.data.DataLoader(train_set,batch_size=50)\n",
        "test_loader = torch.utils.data.DataLoader(test_set,batch_size=50)"
      ],
      "execution_count": null,
      "outputs": []
    },
    {
      "cell_type": "code",
      "metadata": {
        "colab": {
          "base_uri": "https://localhost:8080/",
          "height": 1000
        },
        "id": "IOSQZu-OyyXC",
        "outputId": "b1835b85-7617-4d48-edd1-d95869837ab8"
      },
      "source": [
        "# experimenting how to divide the images\n",
        "batch = next(iter(train_loader))\n",
        "images, labels = batch\n",
        "print(images.shape)\n",
        "images_l = images[:,:,:,:14]\n",
        "print(images_l.shape)\n",
        "\n",
        "images_r = images[:,:,:,14:]\n",
        "print(images_r.shape)\n",
        "\n",
        "grid_l = torchvision.utils.make_grid(images_l, nrow=10)\n",
        "grid_r = torchvision.utils.make_grid(images_r, nrow=10)\n",
        "\n",
        "plt.figure(figsize=(15,15))\n",
        "plt.imshow(np.transpose(grid_l,(1,2,0)))\n",
        "plt.figure(figsize=(15,15))\n",
        "plt.imshow(np.transpose(grid_r,(1,2,0)))\n",
        "\n",
        "print('labels:',labels)"
      ],
      "execution_count": null,
      "outputs": [
        {
          "output_type": "stream",
          "text": [
            "torch.Size([50, 1, 28, 28])\n",
            "torch.Size([50, 1, 28, 14])\n",
            "torch.Size([50, 1, 28, 14])\n",
            "labels: tensor([5, 0, 4, 1, 9, 2, 1, 3, 1, 4, 3, 5, 3, 6, 1, 7, 2, 8, 6, 9, 4, 0, 9, 1,\n",
            "        1, 2, 4, 3, 2, 7, 3, 8, 6, 9, 0, 5, 6, 0, 7, 6, 1, 8, 7, 9, 3, 9, 8, 5,\n",
            "        9, 3])\n"
          ],
          "name": "stdout"
        },
        {
          "output_type": "display_data",
          "data": {
            "image/png": "[encoded data removed]",
            "text/plain": [
              "<Figure size 1080x1080 with 1 Axes>"
            ]
          },
          "metadata": {
            "tags": [],
            "needs_background": "light"
          }
        },
        {
          "output_type": "display_data",
          "data": {
            "image/png": "[encoded data removed]",
            "text/plain": [
              "<Figure size 1080x1080 with 1 Axes>"
            ]
          },
          "metadata": {
            "tags": [],
            "needs_background": "light"
          }
        }
      ]
    },
    {
      "cell_type": "code",
      "metadata": {
        "id": "fgr2nUFbLeyP"
      },
      "source": [
        "def corrLoss(x,y):\n",
        "  vx = x - torch.mean(x)\n",
        "  vy = y - torch.mean(y)\n",
        "  cost = torch.sum(vx * vy) / (torch.sqrt(torch.sum(vx ** 2)) * torch.sqrt(torch.sum(vy ** 2)))\n",
        "  return cost"
      ],
      "execution_count": null,
      "outputs": []
    },
    {
      "cell_type": "code",
      "metadata": {
        "id": "Gxyu2fyExf1y"
      },
      "source": [
        "class Network(nn.Module):\n",
        "    def __init__(self):\n",
        "        super(Network,self).__init__()\n",
        "        \n",
        "        # X part of the model\n",
        "        self.hx_conv1 = nn.Conv2d(in_channels=1,out_channels=128,kernel_size=3) #  1*28*14 --> 128*28*14\n",
        "        self.pool = nn.MaxPool2d(2,stride=2) # 128*28*14 --> 128*13*6\n",
        "        self.batch_norm_x_1 = nn.BatchNorm2d(128) #  \n",
        "        self.hx_conv2 = nn.Conv2d(in_channels=128,out_channels=64,kernel_size=3) # 128*13*6 --> 64*13*6\n",
        "        #self.pool = nn.MaxPool2d(2,stride=2) # 64*13*6 --> 64*5*2\n",
        "        self.batch_norm_x_2 = nn.BatchNorm2d(64)\n",
        "        # two layers of convolution now using 2 dense layers\n",
        "        self.hx_fc1 = nn.Linear(in_features=64*5*2,out_features=500 ) # 64*5*2 -->500\n",
        "        self.hx_fc2 = nn.Linear(in_features=500,out_features=300) # 500 --> 300\n",
        "\n",
        "        # Y part of the model\n",
        "        self.hy_conv1 = nn.Conv2d(in_channels=1,out_channels=128,kernel_size=3) #  1*28*14 --> 128*28*14\n",
        "        #self.pool = nn.MaxPool2d(2,stride=2) # 128*28*14 --> 128*13*6 # --> already defined just use it in forward\n",
        "        self.batch_norm_y_1 = nn.BatchNorm2d(128)\n",
        "        self.hy_conv2 = nn.Conv2d(in_channels=128,out_channels=64,kernel_size=3) # 128*13*6 --> 64*13*6\n",
        "        #self.pool = nn.MaxPool2d(2,stride=2) # 64*13*6 --> 64*5*2 --> already defined just use it in forward\n",
        "        self.batch_norm_y_2 = nn.BatchNorm2d(64)\n",
        "        # apply reshape in forward\n",
        "        # two layers of convolution now using 2 dense layers\n",
        "        self.hy_fc1 = nn.Linear(in_features=64*5*2,out_features=500 ) # 64*5*2 -->500\n",
        "        self.hy_fc2 = nn.Linear(in_features=500,out_features=300) # 500 --> 300\n",
        "\n",
        "        # this is the common rep layer\n",
        "        self.h = nn.Linear(in_features=300,out_features=50) #input to this layer is sum of output of hx_fc2 * hy_fc2\n",
        "\n",
        "        # reconstructing x\n",
        "        self.recx_fc1 = nn.Linear(in_features=50,out_features=294) # reshape 294 to 1*3*14*7 --> upsample this to 1*3*26*12 --> decon to 1*28*14\n",
        "        #self.recx_fc2 = nn.Linear(in_features=200,out_features=28*14) # apply deconvolution layer later\n",
        "        self.upsample_x= nn.Upsample(size=(26,12)) # 3*26*12\n",
        "        self.deconv_x = nn.ConvTranspose2d(in_channels=3,out_channels=1,kernel_size=3) # 28*14\n",
        "\n",
        "\n",
        "        # reconstructing y\n",
        "        self.recy_fc1 = nn.Linear(in_features=50,out_features=294)\n",
        "        #self.recy_fc2 = nn.Linear(in_features=200,out_features=28*14) # apply deconvolution layer later\n",
        "        self.upsample_y= nn.Upsample(size=(26,12))\n",
        "        self.deconv_y = nn.ConvTranspose2d(in_channels=3,out_channels=1,kernel_size=3)\n",
        "\n",
        "        self.dropout = nn.Dropout(0.2)\n",
        "\n",
        "    def forward(self,inpx,inpy):\n",
        "        #print(\"0 :\",inpx.shape)\n",
        "        x = self.pool(F.relu(self.hx_conv1(inpx)))\n",
        "        x = self.batch_norm_x_1(x)\n",
        "        #print(\"1 :\",x.shape)\n",
        "        x = self.pool(F.relu(self.hx_conv2(x)))\n",
        "        x = self.batch_norm_x_2(x)\n",
        "        #print(\"2 :\",x.shape)\n",
        "        x = x.view(-1,64*5*2)\n",
        "        #print(\"3 :\",x.shape)\n",
        "        hx1 = F.relu(self.hx_fc1(x))\n",
        "        hx1 = self.dropout(hx1)\n",
        "        hx2 = F.relu(self.hx_fc2(hx1))\n",
        "\n",
        "\n",
        "        y = self.pool(F.relu(self.hy_conv1(inpy)))\n",
        "        y = self.batch_norm_y_1(y)\n",
        "        y = self.pool(F.relu(self.hy_conv2(y)))\n",
        "        x = self.batch_norm_y_2(y)\n",
        "\n",
        "        #print(y.shape)\n",
        "        y = y.view(-1,64*5*2)\n",
        "        hy1 = F.relu(self.hy_fc1(y))\n",
        "        hy1 = self.dropout(hy1)\n",
        "        hy2 = F.relu(self.hy_fc2(hy1))\n",
        "\n",
        "        hidden_rep = hx2 + hy2 # \n",
        "        hidden_rep = F.relu(self.h(hidden_rep)) # input 300 output 50\n",
        "\n",
        "        recx = F.relu(self.recx_fc1(hidden_rep)) # 50 to 294\n",
        "        #recx = F.relu(self.recx_fc2(recx))\n",
        "        recx = recx.reshape(-1,3,14,7)\n",
        "        #print(\"1 recx size : \",recx.shape)\n",
        "        recx = self.upsample_x(recx) # 3*26*12\n",
        "        #print(\"2 recx size : \",recx.shape)\n",
        "        recx = F.relu(self.deconv_x(recx)) # 1*28*14\n",
        "        #print(\"3 recx size : \",recx.shape)\n",
        "\n",
        "        recy = F.relu(self.recy_fc1(hidden_rep))\n",
        "        recy = recy.reshape(-1,3,14,7)\n",
        "        recy = self.upsample_y(recy)\n",
        "        recy = F.relu(self.deconv_y(recy))\n",
        "        #recy = F.relu(self.recy_fc2(recy))\n",
        "        #recy = recy.reshape(-1,1,28,14)\n",
        "\n",
        "        return hidden_rep,recx,recy,hx1,hx2,hy1,hy2"
      ],
      "execution_count": null,
      "outputs": []
    },
    {
      "cell_type": "code",
      "metadata": {
        "id": "8jxGCnJrOlSj"
      },
      "source": [
        "network = Network()\n",
        "network.to(device)\n",
        "\n",
        "optimizer = optim.Adam(network.parameters(),lr=0.001)"
      ],
      "execution_count": null,
      "outputs": []
    },
    {
      "cell_type": "code",
      "metadata": {
        "colab": {
          "base_uri": "https://localhost:8080/"
        },
        "id": "Hmrq3WSdOtHI",
        "outputId": "70b9be24-61af-4a75-b798-d43e3104e00e"
      },
      "source": [
        "summary(network,[(1,28,14),(1,28,14)])"
      ],
      "execution_count": null,
      "outputs": [
        {
          "output_type": "stream",
          "text": [
            "----------------------------------------------------------------\n",
            "        Layer (type)               Output Shape         Param #\n",
            "================================================================\n",
            "            Conv2d-1          [-1, 128, 26, 12]           1,280\n",
            "         MaxPool2d-2           [-1, 128, 13, 6]               0\n",
            "       BatchNorm2d-3           [-1, 128, 13, 6]             256\n",
            "            Conv2d-4            [-1, 64, 11, 4]          73,792\n",
            "         MaxPool2d-5             [-1, 64, 5, 2]               0\n",
            "       BatchNorm2d-6             [-1, 64, 5, 2]             128\n",
            "            Linear-7                  [-1, 500]         320,500\n",
            "           Dropout-8                  [-1, 500]               0\n",
            "            Linear-9                  [-1, 300]         150,300\n",
            "           Conv2d-10          [-1, 128, 26, 12]           1,280\n",
            "        MaxPool2d-11           [-1, 128, 13, 6]               0\n",
            "      BatchNorm2d-12           [-1, 128, 13, 6]             256\n",
            "           Conv2d-13            [-1, 64, 11, 4]          73,792\n",
            "        MaxPool2d-14             [-1, 64, 5, 2]               0\n",
            "      BatchNorm2d-15             [-1, 64, 5, 2]             128\n",
            "           Linear-16                  [-1, 500]         320,500\n",
            "          Dropout-17                  [-1, 500]               0\n",
            "           Linear-18                  [-1, 300]         150,300\n",
            "           Linear-19                   [-1, 50]          15,050\n",
            "           Linear-20                  [-1, 294]          14,994\n",
            "         Upsample-21            [-1, 3, 26, 12]               0\n",
            "  ConvTranspose2d-22            [-1, 1, 28, 14]              28\n",
            "           Linear-23                  [-1, 294]          14,994\n",
            "         Upsample-24            [-1, 3, 26, 12]               0\n",
            "  ConvTranspose2d-25            [-1, 1, 28, 14]              28\n",
            "================================================================\n",
            "Total params: 1,137,606\n",
            "Trainable params: 1,137,606\n",
            "Non-trainable params: 0\n",
            "----------------------------------------------------------------\n",
            "Input size (MB): 0.59\n",
            "Forward/backward pass size (MB): 1.02\n",
            "Params size (MB): 4.34\n",
            "Estimated Total Size (MB): 5.95\n",
            "----------------------------------------------------------------\n"
          ],
          "name": "stdout"
        }
      ]
    },
    {
      "cell_type": "code",
      "metadata": {
        "id": "lmh_eZENR87j",
        "colab": {
          "base_uri": "https://localhost:8080/"
        },
        "outputId": "a0246e4e-edaf-4d1a-a1a5-00cff9327589"
      },
      "source": [
        "network_loss = []\n",
        "network_accuracy = []\n",
        "for epoch in range(50):\n",
        "    total_loss = 0.0\n",
        "    for batch in train_loader:\n",
        "        images, labels = batch[0].to(device),batch[1].to(device)\n",
        "        images_l = images[:,:,:,:14]\n",
        "        images_r = images[:,:,:,14:]\n",
        "        \n",
        "        image_l_zero = torch.zeros(images_l.shape).to(device)\n",
        "        image_r_zero = torch.zeros(images_r.shape).to(device)\n",
        "\n",
        "        hidden_rep,recx,recy,hx1,hx2,hy1,hy2 = network(images_l,images_r)\n",
        "        hidden_rep_l,recx_l,recy_l,hx1_l,hx2_l,hy1_l,hy2_l = network(images_l,image_r_zero)\n",
        "        hidden_rep_r,recx_r,recy_r,hx1_r,hx2_r,hy1_r,hy2_r = network(image_l_zero,images_r)\n",
        "\n",
        "        loss1 = F.mse_loss(recx,images_l) + F.mse_loss(recy,images_r) # reconstruction using both views ()\n",
        "        loss2 = F.mse_loss(recx_l,images_l) + F.mse_loss(recy_l,images_r) # reconstruction using only left view\n",
        "        loss3 = F.mse_loss(recx_r,images_l) + F.mse_loss(recy_r,images_r) # reconstruction using only right view\n",
        "\n",
        "        loss4 = F.mse_loss(hx1,hy1) + F.mse_loss(hx2,hy2) # step computation want hidden layers --> started working after adding batch norm\n",
        "        \n",
        "        loss5 = F.mse_loss(recx_l,recx_r) + F.mse_loss(recy_l,recy_r) \n",
        "\n",
        "        loss6 = 0.02 * corrLoss(hidden_rep_l,hidden_rep_r) # regularization lamba = 0.02\n",
        "\n",
        "        loss7 = 0.003 * corrLoss(hx1,hy1) + 0.05 * corrLoss(hx2,hy2) \n",
        "        \n",
        "        loss = loss1 + loss2 + loss3 + loss4 + loss5 - loss6 - loss7\n",
        "\n",
        "        optimizer.zero_grad()\n",
        "        loss.backward()\n",
        "        optimizer.step()\n",
        "        \n",
        "        total_loss += loss.item()\n",
        "    network_loss.append(total_loss)\n",
        "    print(\"epoch: \",epoch,\"loss: \",total_loss)"
      ],
      "execution_count": null,
      "outputs": [
        {
          "output_type": "stream",
          "text": [
            "epoch:  0 loss:  388.67988657951355\n",
            "epoch:  1 loss:  320.97832657396793\n",
            "epoch:  2 loss:  249.77567137777805\n",
            "epoch:  3 loss:  214.32473781704903\n",
            "epoch:  4 loss:  194.99180600047112\n",
            "epoch:  5 loss:  183.04968523979187\n",
            "epoch:  6 loss:  174.59875433146954\n",
            "epoch:  7 loss:  167.53580185770988\n",
            "epoch:  8 loss:  162.84593475610018\n",
            "epoch:  9 loss:  158.85256765037775\n",
            "epoch:  10 loss:  155.7118693292141\n",
            "epoch:  11 loss:  152.7915217280388\n",
            "epoch:  12 loss:  150.64319699257612\n",
            "epoch:  13 loss:  148.53602547198534\n",
            "epoch:  14 loss:  146.84833370149136\n",
            "epoch:  15 loss:  145.2983147352934\n",
            "epoch:  16 loss:  144.02449352294207\n",
            "epoch:  17 loss:  142.97941128909588\n",
            "epoch:  18 loss:  141.76828571408987\n",
            "epoch:  19 loss:  140.87597649544477\n",
            "epoch:  20 loss:  139.91154166311026\n",
            "epoch:  21 loss:  139.10153111070395\n",
            "epoch:  22 loss:  138.25976080447435\n",
            "epoch:  23 loss:  137.58514741808176\n",
            "epoch:  24 loss:  136.89525777101517\n",
            "epoch:  25 loss:  136.1526741310954\n",
            "epoch:  26 loss:  135.60145150870085\n",
            "epoch:  27 loss:  134.97448702156544\n",
            "epoch:  28 loss:  134.59584526717663\n",
            "epoch:  29 loss:  134.00074518471956\n",
            "epoch:  30 loss:  133.60650155693293\n",
            "epoch:  31 loss:  133.26545717567205\n",
            "epoch:  32 loss:  132.58809505403042\n",
            "epoch:  33 loss:  132.24785108864307\n",
            "epoch:  34 loss:  131.59485978633165\n",
            "epoch:  35 loss:  131.4162678718567\n",
            "epoch:  36 loss:  131.12369517236948\n",
            "epoch:  37 loss:  130.81531071662903\n",
            "epoch:  38 loss:  130.48488573729992\n",
            "epoch:  39 loss:  130.15688064694405\n",
            "epoch:  40 loss:  129.8592658266425\n",
            "epoch:  41 loss:  129.64726285636425\n",
            "epoch:  42 loss:  129.35806412249804\n",
            "epoch:  43 loss:  128.99022325128317\n",
            "epoch:  44 loss:  128.9869114384055\n",
            "epoch:  45 loss:  128.546022310853\n",
            "epoch:  46 loss:  128.50376691669226\n",
            "epoch:  47 loss:  128.02764795348048\n",
            "epoch:  48 loss:  127.85131226107478\n",
            "epoch:  49 loss:  127.40301767736673\n"
          ],
          "name": "stdout"
        }
      ]
    },
    {
      "cell_type": "code",
      "metadata": {
        "id": "GBJ22JksiBYF"
      },
      "source": [
        "torch.save(network.state_dict(), \"finalModel_100\")"
      ],
      "execution_count": null,
      "outputs": []
    },
    {
      "cell_type": "code",
      "metadata": {
        "id": "2BTQVHo5QhhM"
      },
      "source": [
        "# network = Network()\n",
        "# network.load_state_dict(torch.load('finalModel_100'))\n",
        "# network.eval()\n",
        "# network.to(device)"
      ],
      "execution_count": null,
      "outputs": []
    },
    {
      "cell_type": "code",
      "metadata": {
        "id": "AJqipisyV2Af"
      },
      "source": [
        "batch = next(iter(test_loader))\n",
        "images, labels = batch[0].to(device),batch[1].to(device)\n",
        "\n",
        "images_l = images[:,:,:,:14]\n",
        "images_r = images[:,:,:,14:]\n",
        "\n",
        "image_l_zero = torch.zeros(images_l.shape).to(device)\n",
        "image_r_zero = torch.zeros(images_r.shape).to(device)\n",
        "\n",
        "hidden_rep,recx,recy,hx1,hx2,hy1,hy2 = network(images_l,images_r)\n",
        "hidden_rep_l,recx_l,recy_l,hx1_l,hx2_l,hy1_l,hy2_l = network(images_l,image_r_zero)\n",
        "hidden_rep_r,recx_r,recy_r,hx1_r,hx2_r,hy1_r,hy2_r = network(image_l_zero,images_r)"
      ],
      "execution_count": null,
      "outputs": []
    },
    {
      "cell_type": "code",
      "metadata": {
        "colab": {
          "base_uri": "https://localhost:8080/",
          "height": 552
        },
        "id": "K1SjPCA1jfAI",
        "outputId": "e77fb744-3c6b-4cba-9555-165843f0bd87"
      },
      "source": [
        "plt.figure()\n",
        "index = 3\n",
        "\n",
        "plt.figure(figsize=(6,10))\n",
        "plt.subplot(1,4,1)\n",
        "plt.imshow(images_l[index].detach().cpu().reshape(28,14))\n",
        "plt.subplot(1,4,2)\n",
        "plt.imshow(images_r[index].detach().cpu().reshape(28,14))\n",
        "plt.subplot(1,4,3)\n",
        "plt.imshow(recx[index].detach().cpu().reshape(28,14))\n",
        "plt.subplot(1,4,4)\n",
        "plt.imshow(recy[index].detach().cpu().reshape(28,14))\n",
        "\n",
        "\n",
        "fig, axs = plt.subplots(1, 5, gridspec_kw={'width_ratios': [2, 2,2,2,4]})\n",
        "fig.set_size_inches(8, 12)\n",
        "axs[0].imshow(images_l[index].detach().cpu().reshape(28,14))\n",
        "axs[1].imshow(image_r_zero[index].detach().cpu().reshape(28,14))\n",
        "axs[2].imshow(recx_l[index].detach().cpu().reshape(28,14))\n",
        "axs[3].imshow(recy_l[index].detach().cpu().reshape(28,14))\n",
        "comp_image = np.zeros((28,28))\n",
        "comp_image[:,0:14] = images_l[index].detach().cpu().reshape(28,14)\n",
        "comp_image[:,14:] = recy_l[index].detach().cpu().reshape(28,14)\n",
        "axs[4].imshow(comp_image)\n",
        "\n",
        "\n",
        "fig1, axs1 = plt.subplots(1, 5, gridspec_kw={'width_ratios': [2, 2,2,2,4]})\n",
        "fig1.set_size_inches(8, 12)\n",
        "axs1[0].imshow(image_l_zero[index].detach().cpu().reshape(28,14))\n",
        "axs1[1].imshow(images_r[index].detach().cpu().reshape(28,14))\n",
        "axs1[2].imshow(recx_r[index].detach().cpu().reshape(28,14))\n",
        "axs1[3].imshow(recy_r[index].detach().cpu().reshape(28,14))\n",
        "comp_image = np.zeros((28,28))\n",
        "comp_image[:,0:14] = recx_r[index].detach().cpu().reshape(28,14)\n",
        "comp_image[:,14:] = images_r[index].detach().cpu().reshape(28,14)\n",
        "axs1[4].imshow(comp_image)"
      ],
      "execution_count": null,
      "outputs": [
        {
          "output_type": "execute_result",
          "data": {
            "text/plain": [
              "<matplotlib.image.AxesImage at 0x7efe995b45d0>"
            ]
          },
          "metadata": {
            "tags": []
          },
          "execution_count": 92
        },
        {
          "output_type": "display_data",
          "data": {
            "text/plain": [
              "<Figure size 432x288 with 0 Axes>"
            ]
          },
          "metadata": {
            "tags": []
          }
        },
        {
          "output_type": "display_data",
          "data": {
            "image/png": "[encoded data removed]",
            "text/plain": [
              "<Figure size 432x720 with 4 Axes>"
            ]
          },
          "metadata": {
            "tags": [],
            "needs_background": "light"
          }
        },
        {
          "output_type": "display_data",
          "data": {
            "image/png": "[encoded data removed]",
            "text/plain": [
              "<Figure size 576x864 with 5 Axes>"
            ]
          },
          "metadata": {
            "tags": [],
            "needs_background": "light"
          }
        },
        {
          "output_type": "display_data",
          "data": {
            "image/png": "[encoded data removed]",
            "text/plain": [
              "<Figure size 576x864 with 5 Axes>"
            ]
          },
          "metadata": {
            "tags": [],
            "needs_background": "light"
          }
        }
      ]
    },
    {
      "cell_type": "code",
      "metadata": {
        "colab": {
          "base_uri": "https://localhost:8080/",
          "height": 552
        },
        "id": "Uxpu6T8j2FS0",
        "outputId": "eee86765-9209-4f8f-bb2d-e544f56e7f27"
      },
      "source": [
        "plt.figure()\n",
        "index = 40\n",
        "\n",
        "plt.figure(figsize=(6,10))\n",
        "plt.subplot(1,4,1)\n",
        "plt.imshow(images_l[index].detach().cpu().reshape(28,14))\n",
        "plt.subplot(1,4,2)\n",
        "plt.imshow(images_r[index].detach().cpu().reshape(28,14))\n",
        "plt.subplot(1,4,3)\n",
        "plt.imshow(recx[index].detach().cpu().reshape(28,14))\n",
        "plt.subplot(1,4,4)\n",
        "plt.imshow(recy[index].detach().cpu().reshape(28,14))\n",
        "\n",
        "\n",
        "fig, axs = plt.subplots(1, 5, gridspec_kw={'width_ratios': [2, 2,2,2,4]})\n",
        "fig.set_size_inches(8, 12)\n",
        "axs[0].imshow(images_l[index].detach().cpu().reshape(28,14))\n",
        "axs[1].imshow(image_r_zero[index].detach().cpu().reshape(28,14))\n",
        "axs[2].imshow(recx_l[index].detach().cpu().reshape(28,14))\n",
        "axs[3].imshow(recy_l[index].detach().cpu().reshape(28,14))\n",
        "comp_image = np.zeros((28,28))\n",
        "comp_image[:,0:14] = images_l[index].detach().cpu().reshape(28,14)\n",
        "comp_image[:,14:] = recy_l[index].detach().cpu().reshape(28,14)\n",
        "axs[4].imshow(comp_image)\n",
        "\n",
        "\n",
        "fig1, axs1 = plt.subplots(1, 5, gridspec_kw={'width_ratios': [2, 2,2,2,4]})\n",
        "fig1.set_size_inches(8, 12)\n",
        "axs1[0].imshow(image_l_zero[index].detach().cpu().reshape(28,14))\n",
        "axs1[1].imshow(images_r[index].detach().cpu().reshape(28,14))\n",
        "axs1[2].imshow(recx_r[index].detach().cpu().reshape(28,14))\n",
        "axs1[3].imshow(recy_r[index].detach().cpu().reshape(28,14))\n",
        "comp_image = np.zeros((28,28))\n",
        "comp_image[:,0:14] = recx_r[index].detach().cpu().reshape(28,14)\n",
        "comp_image[:,14:] = images_r[index].detach().cpu().reshape(28,14)\n",
        "axs1[4].imshow(comp_image)"
      ],
      "execution_count": null,
      "outputs": [
        {
          "output_type": "execute_result",
          "data": {
            "text/plain": [
              "<matplotlib.image.AxesImage at 0x7efe9c67d7d0>"
            ]
          },
          "metadata": {
            "tags": []
          },
          "execution_count": 93
        },
        {
          "output_type": "display_data",
          "data": {
            "text/plain": [
              "<Figure size 432x288 with 0 Axes>"
            ]
          },
          "metadata": {
            "tags": []
          }
        },
        {
          "output_type": "display_data",
          "data": {
            "image/png": "[encoded data removed]",
            "text/plain": [
              "<Figure size 432x720 with 4 Axes>"
            ]
          },
          "metadata": {
            "tags": [],
            "needs_background": "light"
          }
        },
        {
          "output_type": "display_data",
          "data": {
            "image/png": "[encoded data removed]",
            "text/plain": [
              "<Figure size 576x864 with 5 Axes>"
            ]
          },
          "metadata": {
            "tags": [],
            "needs_background": "light"
          }
        },
        {
          "output_type": "display_data",
          "data": {
            "image/png": "[encoded data removed]",
            "text/plain": [
              "<Figure size 576x864 with 5 Axes>"
            ]
          },
          "metadata": {
            "tags": [],
            "needs_background": "light"
          }
        }
      ]
    },
    {
      "cell_type": "code",
      "metadata": {
        "colab": {
          "base_uri": "https://localhost:8080/",
          "height": 552
        },
        "id": "eZHjmEWxjR9X",
        "outputId": "c99d0d46-a0f4-4421-c212-5bde8ca9da3e"
      },
      "source": [
        "plt.figure()\n",
        "index = 1\n",
        "\n",
        "plt.figure(figsize=(6,10))\n",
        "plt.subplot(1,4,1)\n",
        "plt.imshow(images_l[index].detach().cpu().reshape(28,14))\n",
        "plt.subplot(1,4,2)\n",
        "plt.imshow(images_r[index].detach().cpu().reshape(28,14))\n",
        "plt.subplot(1,4,3)\n",
        "plt.imshow(recx[index].detach().cpu().reshape(28,14))\n",
        "plt.subplot(1,4,4)\n",
        "plt.imshow(recy[index].detach().cpu().reshape(28,14))\n",
        "\n",
        "\n",
        "fig, axs = plt.subplots(1, 5, gridspec_kw={'width_ratios': [2, 2,2,2,4]})\n",
        "fig.set_size_inches(8, 12)\n",
        "axs[0].imshow(images_l[index].detach().cpu().reshape(28,14))\n",
        "axs[1].imshow(image_r_zero[index].detach().cpu().reshape(28,14))\n",
        "axs[2].imshow(recx_l[index].detach().cpu().reshape(28,14))\n",
        "axs[3].imshow(recy_l[index].detach().cpu().reshape(28,14))\n",
        "comp_image = np.zeros((28,28))\n",
        "comp_image[:,0:14] = images_l[index].detach().cpu().reshape(28,14)\n",
        "comp_image[:,14:] = recy_l[index].detach().cpu().reshape(28,14)\n",
        "axs[4].imshow(comp_image)\n",
        "\n",
        "\n",
        "fig1, axs1 = plt.subplots(1, 5, gridspec_kw={'width_ratios': [2, 2,2,2,4]})\n",
        "fig1.set_size_inches(8, 12)\n",
        "axs1[0].imshow(image_l_zero[index].detach().cpu().reshape(28,14))\n",
        "axs1[1].imshow(images_r[index].detach().cpu().reshape(28,14))\n",
        "axs1[2].imshow(recx_r[index].detach().cpu().reshape(28,14))\n",
        "axs1[3].imshow(recy_r[index].detach().cpu().reshape(28,14))\n",
        "comp_image = np.zeros((28,28))\n",
        "comp_image[:,0:14] = recx_r[index].detach().cpu().reshape(28,14)\n",
        "comp_image[:,14:] = images_r[index].detach().cpu().reshape(28,14)\n",
        "axs1[4].imshow(comp_image)"
      ],
      "execution_count": null,
      "outputs": [
        {
          "output_type": "execute_result",
          "data": {
            "text/plain": [
              "<matplotlib.image.AxesImage at 0x7efe99932f10>"
            ]
          },
          "metadata": {
            "tags": []
          },
          "execution_count": 94
        },
        {
          "output_type": "display_data",
          "data": {
            "text/plain": [
              "<Figure size 432x288 with 0 Axes>"
            ]
          },
          "metadata": {
            "tags": []
          }
        },
        {
          "output_type": "display_data",
          "data": {
            "image/png": "[encoded data removed]",
            "text/plain": [
              "<Figure size 432x720 with 4 Axes>"
            ]
          },
          "metadata": {
            "tags": [],
            "needs_background": "light"
          }
        },
        {
          "output_type": "display_data",
          "data": {
            "image/png": "[encoded data removed]",
            "text/plain": [
              "<Figure size 576x864 with 5 Axes>"
            ]
          },
          "metadata": {
            "tags": [],
            "needs_background": "light"
          }
        },
        {
          "output_type": "display_data",
          "data": {
            "image/png": "[encoded data removed]",
            "text/plain": [
              "<Figure size 576x864 with 5 Axes>"
            ]
          },
          "metadata": {
            "tags": [],
            "needs_background": "light"
          }
        }
      ]
    },
    {
      "cell_type": "code",
      "metadata": {
        "colab": {
          "base_uri": "https://localhost:8080/",
          "height": 552
        },
        "id": "1JBPiyfOkLVa",
        "outputId": "8422ccc1-a104-4a38-d43c-8bbea278060a"
      },
      "source": [
        "plt.figure()\n",
        "index = 30\n",
        "\n",
        "plt.figure(figsize=(6,10))\n",
        "plt.subplot(1,4,1)\n",
        "plt.imshow(images_l[index].detach().cpu().reshape(28,14))\n",
        "plt.subplot(1,4,2)\n",
        "plt.imshow(images_r[index].detach().cpu().reshape(28,14))\n",
        "plt.subplot(1,4,3)\n",
        "plt.imshow(recx[index].detach().cpu().reshape(28,14))\n",
        "plt.subplot(1,4,4)\n",
        "plt.imshow(recy[index].detach().cpu().reshape(28,14))\n",
        "\n",
        "\n",
        "fig, axs = plt.subplots(1, 5, gridspec_kw={'width_ratios': [2, 2,2,2,4]})\n",
        "fig.set_size_inches(8, 12)\n",
        "axs[0].imshow(images_l[index].detach().cpu().reshape(28,14))\n",
        "axs[1].imshow(image_r_zero[index].detach().cpu().reshape(28,14))\n",
        "axs[2].imshow(recx_l[index].detach().cpu().reshape(28,14))\n",
        "axs[3].imshow(recy_l[index].detach().cpu().reshape(28,14))\n",
        "comp_image = np.zeros((28,28))\n",
        "comp_image[:,0:14] = images_l[index].detach().cpu().reshape(28,14)\n",
        "comp_image[:,14:] = recy_l[index].detach().cpu().reshape(28,14)\n",
        "axs[4].imshow(comp_image)\n",
        "\n",
        "\n",
        "fig1, axs1 = plt.subplots(1, 5, gridspec_kw={'width_ratios': [2, 2,2,2,4]})\n",
        "fig1.set_size_inches(8, 12)\n",
        "axs1[0].imshow(image_l_zero[index].detach().cpu().reshape(28,14))\n",
        "axs1[1].imshow(images_r[index].detach().cpu().reshape(28,14))\n",
        "axs1[2].imshow(recx_r[index].detach().cpu().reshape(28,14))\n",
        "axs1[3].imshow(recy_r[index].detach().cpu().reshape(28,14))\n",
        "comp_image = np.zeros((28,28))\n",
        "comp_image[:,0:14] = recx_r[index].detach().cpu().reshape(28,14)\n",
        "comp_image[:,14:] = images_r[index].detach().cpu().reshape(28,14)\n",
        "axs1[4].imshow(comp_image)"
      ],
      "execution_count": null,
      "outputs": [
        {
          "output_type": "execute_result",
          "data": {
            "text/plain": [
              "<matplotlib.image.AxesImage at 0x7efe99a1ae90>"
            ]
          },
          "metadata": {
            "tags": []
          },
          "execution_count": 95
        },
        {
          "output_type": "display_data",
          "data": {
            "text/plain": [
              "<Figure size 432x288 with 0 Axes>"
            ]
          },
          "metadata": {
            "tags": []
          }
        },
        {
          "output_type": "display_data",
          "data": {
            "image/png": "[encoded data removed]",
            "text/plain": [
              "<Figure size 432x720 with 4 Axes>"
            ]
          },
          "metadata": {
            "tags": [],
            "needs_background": "light"
          }
        },
        {
          "output_type": "display_data",
          "data": {
            "image/png": "[encoded data removed]",
            "text/plain": [
              "<Figure size 576x864 with 5 Axes>"
            ]
          },
          "metadata": {
            "tags": [],
            "needs_background": "light"
          }
        },
        {
          "output_type": "display_data",
          "data": {
            "image/png": "[encoded data removed]",
            "text/plain": [
              "<Figure size 576x864 with 5 Axes>"
            ]
          },
          "metadata": {
            "tags": [],
            "needs_background": "light"
          }
        }
      ]
    },
    {
      "cell_type": "code",
      "metadata": {
        "colab": {
          "base_uri": "https://localhost:8080/",
          "height": 552
        },
        "id": "frutIKFDjo1Z",
        "outputId": "f915e84e-c4c5-4e56-b384-33f745205fae"
      },
      "source": [
        "plt.figure()\n",
        "index = 4\n",
        "plt.figure(figsize=(6,10))\n",
        "plt.subplot(1,4,1)\n",
        "plt.imshow(images_l[index].detach().cpu().reshape(28,14))\n",
        "plt.subplot(1,4,2)\n",
        "plt.imshow(images_r[index].detach().cpu().reshape(28,14))\n",
        "plt.subplot(1,4,3)\n",
        "plt.imshow(recx[index].detach().cpu().reshape(28,14))\n",
        "plt.subplot(1,4,4)\n",
        "plt.imshow(recy[index].detach().cpu().reshape(28,14))\n",
        "\n",
        "\n",
        "fig, axs = plt.subplots(1, 5, gridspec_kw={'width_ratios': [2, 2,2,2,4]})\n",
        "fig.set_size_inches(8, 12)\n",
        "axs[0].imshow(images_l[index].detach().cpu().reshape(28,14))\n",
        "axs[1].imshow(image_r_zero[index].detach().cpu().reshape(28,14))\n",
        "axs[2].imshow(recx_l[index].detach().cpu().reshape(28,14))\n",
        "axs[3].imshow(recy_l[index].detach().cpu().reshape(28,14))\n",
        "comp_image = np.zeros((28,28))\n",
        "comp_image[:,0:14] = images_l[index].detach().cpu().reshape(28,14)\n",
        "comp_image[:,14:] = recy_l[index].detach().cpu().reshape(28,14)\n",
        "axs[4].imshow(comp_image)\n",
        "\n",
        "\n",
        "fig1, axs1 = plt.subplots(1, 5, gridspec_kw={'width_ratios': [2, 2,2,2,4]})\n",
        "fig1.set_size_inches(8, 12)\n",
        "axs1[0].imshow(image_l_zero[index].detach().cpu().reshape(28,14))\n",
        "axs1[1].imshow(images_r[index].detach().cpu().reshape(28,14))\n",
        "axs1[2].imshow(recx_r[index].detach().cpu().reshape(28,14))\n",
        "axs1[3].imshow(recy_r[index].detach().cpu().reshape(28,14))\n",
        "comp_image = np.zeros((28,28))\n",
        "comp_image[:,0:14] = recx_r[index].detach().cpu().reshape(28,14)\n",
        "comp_image[:,14:] = images_r[index].detach().cpu().reshape(28,14)\n",
        "axs1[4].imshow(comp_image)"
      ],
      "execution_count": null,
      "outputs": [
        {
          "output_type": "execute_result",
          "data": {
            "text/plain": [
              "<matplotlib.image.AxesImage at 0x7efe98b2edd0>"
            ]
          },
          "metadata": {
            "tags": []
          },
          "execution_count": 96
        },
        {
          "output_type": "display_data",
          "data": {
            "text/plain": [
              "<Figure size 432x288 with 0 Axes>"
            ]
          },
          "metadata": {
            "tags": []
          }
        },
        {
          "output_type": "display_data",
          "data": {
            "image/png": "[encoded data removed]",
            "text/plain": [
              "<Figure size 432x720 with 4 Axes>"
            ]
          },
          "metadata": {
            "tags": [],
            "needs_background": "light"
          }
        },
        {
          "output_type": "display_data",
          "data": {
            "image/png": "[encoded data removed]",
            "text/plain": [
              "<Figure size 576x864 with 5 Axes>"
            ]
          },
          "metadata": {
            "tags": [],
            "needs_background": "light"
          }
        },
        {
          "output_type": "display_data",
          "data": {
            "image/png": "[encoded data removed]",
            "text/plain": [
              "<Figure size 576x864 with 5 Axes>"
            ]
          },
          "metadata": {
            "tags": [],
            "needs_background": "light"
          }
        }
      ]
    },
    {
      "cell_type": "code",
      "metadata": {
        "colab": {
          "base_uri": "https://localhost:8080/",
          "height": 552
        },
        "id": "IAJUoN_Fjwyg",
        "outputId": "abb43588-c2e6-498d-c5a7-8e46929c24f7"
      },
      "source": [
        "plt.figure()\n",
        "index = 8\n",
        "\n",
        "plt.figure(figsize=(6,10))\n",
        "plt.subplot(1,4,1)\n",
        "plt.imshow(images_l[index].detach().cpu().reshape(28,14))\n",
        "plt.subplot(1,4,2)\n",
        "plt.imshow(images_r[index].detach().cpu().reshape(28,14))\n",
        "plt.subplot(1,4,3)\n",
        "plt.imshow(recx[index].detach().cpu().reshape(28,14))\n",
        "plt.subplot(1,4,4)\n",
        "plt.imshow(recy[index].detach().cpu().reshape(28,14))\n",
        "\n",
        "\n",
        "fig, axs = plt.subplots(1, 5, gridspec_kw={'width_ratios': [2, 2,2,2,4]})\n",
        "fig.set_size_inches(8, 12)\n",
        "axs[0].imshow(images_l[index].detach().cpu().reshape(28,14))\n",
        "axs[1].imshow(image_r_zero[index].detach().cpu().reshape(28,14))\n",
        "axs[2].imshow(recx_l[index].detach().cpu().reshape(28,14))\n",
        "axs[3].imshow(recy_l[index].detach().cpu().reshape(28,14))\n",
        "comp_image = np.zeros((28,28))\n",
        "comp_image[:,0:14] = images_l[index].detach().cpu().reshape(28,14)\n",
        "comp_image[:,14:] = recy_l[index].detach().cpu().reshape(28,14)\n",
        "axs[4].imshow(comp_image)\n",
        "\n",
        "\n",
        "fig1, axs1 = plt.subplots(1, 5, gridspec_kw={'width_ratios': [2, 2,2,2,4]})\n",
        "fig1.set_size_inches(8, 12)\n",
        "axs1[0].imshow(image_l_zero[index].detach().cpu().reshape(28,14))\n",
        "axs1[1].imshow(images_r[index].detach().cpu().reshape(28,14))\n",
        "axs1[2].imshow(recx_r[index].detach().cpu().reshape(28,14))\n",
        "axs1[3].imshow(recy_r[index].detach().cpu().reshape(28,14))\n",
        "comp_image = np.zeros((28,28))\n",
        "comp_image[:,0:14] = recx_r[index].detach().cpu().reshape(28,14)\n",
        "comp_image[:,14:] = images_r[index].detach().cpu().reshape(28,14)\n",
        "axs1[4].imshow(comp_image)"
      ],
      "execution_count": null,
      "outputs": [
        {
          "output_type": "execute_result",
          "data": {
            "text/plain": [
              "<matplotlib.image.AxesImage at 0x7efe985ff610>"
            ]
          },
          "metadata": {
            "tags": []
          },
          "execution_count": 97
        },
        {
          "output_type": "display_data",
          "data": {
            "text/plain": [
              "<Figure size 432x288 with 0 Axes>"
            ]
          },
          "metadata": {
            "tags": []
          }
        },
        {
          "output_type": "display_data",
          "data": {
            "image/png": "[encoded data removed]",
            "text/plain": [
              "<Figure size 432x720 with 4 Axes>"
            ]
          },
          "metadata": {
            "tags": [],
            "needs_background": "light"
          }
        },
        {
          "output_type": "display_data",
          "data": {
            "image/png": "[encoded data removed]",
            "text/plain": [
              "<Figure size 576x864 with 5 Axes>"
            ]
          },
          "metadata": {
            "tags": [],
            "needs_background": "light"
          }
        },
        {
          "output_type": "display_data",
          "data": {
            "image/png": "[encoded data removed]",
            "text/plain": [
              "<Figure size 576x864 with 5 Axes>"
            ]
          },
          "metadata": {
            "tags": [],
            "needs_background": "light"
          }
        }
      ]
    },
    {
      "cell_type": "code",
      "metadata": {
        "colab": {
          "base_uri": "https://localhost:8080/",
          "height": 552
        },
        "id": "8laWMGOJkANr",
        "outputId": "bb167926-5a04-4d02-cf9f-9a43d72b268a"
      },
      "source": [
        "plt.figure()\n",
        "index = 11\n",
        "\n",
        "plt.figure(figsize=(6,10))\n",
        "plt.subplot(1,4,1)\n",
        "plt.imshow(images_l[index].detach().cpu().reshape(28,14))\n",
        "plt.subplot(1,4,2)\n",
        "plt.imshow(images_r[index].detach().cpu().reshape(28,14))\n",
        "plt.subplot(1,4,3)\n",
        "plt.imshow(recx[index].detach().cpu().reshape(28,14))\n",
        "plt.subplot(1,4,4)\n",
        "plt.imshow(recy[index].detach().cpu().reshape(28,14))\n",
        "\n",
        "\n",
        "fig, axs = plt.subplots(1, 5, gridspec_kw={'width_ratios': [2, 2,2,2,4]})\n",
        "fig.set_size_inches(8, 12)\n",
        "axs[0].imshow(images_l[index].detach().cpu().reshape(28,14))\n",
        "axs[1].imshow(image_r_zero[index].detach().cpu().reshape(28,14))\n",
        "axs[2].imshow(recx_l[index].detach().cpu().reshape(28,14))\n",
        "axs[3].imshow(recy_l[index].detach().cpu().reshape(28,14))\n",
        "comp_image = np.zeros((28,28))\n",
        "comp_image[:,0:14] = images_l[index].detach().cpu().reshape(28,14)\n",
        "comp_image[:,14:] = recy_l[index].detach().cpu().reshape(28,14)\n",
        "axs[4].imshow(comp_image)\n",
        "\n",
        "\n",
        "fig1, axs1 = plt.subplots(1, 5, gridspec_kw={'width_ratios': [2, 2,2,2,4]})\n",
        "fig1.set_size_inches(8, 12)\n",
        "axs1[0].imshow(image_l_zero[index].detach().cpu().reshape(28,14))\n",
        "axs1[1].imshow(images_r[index].detach().cpu().reshape(28,14))\n",
        "axs1[2].imshow(recx_r[index].detach().cpu().reshape(28,14))\n",
        "axs1[3].imshow(recy_r[index].detach().cpu().reshape(28,14))\n",
        "comp_image = np.zeros((28,28))\n",
        "comp_image[:,0:14] = recx_r[index].detach().cpu().reshape(28,14)\n",
        "comp_image[:,14:] = images_r[index].detach().cpu().reshape(28,14)\n",
        "axs1[4].imshow(comp_image)"
      ],
      "execution_count": null,
      "outputs": [
        {
          "output_type": "execute_result",
          "data": {
            "text/plain": [
              "<matplotlib.image.AxesImage at 0x7efe996054d0>"
            ]
          },
          "metadata": {
            "tags": []
          },
          "execution_count": 98
        },
        {
          "output_type": "display_data",
          "data": {
            "text/plain": [
              "<Figure size 432x288 with 0 Axes>"
            ]
          },
          "metadata": {
            "tags": []
          }
        },
        {
          "output_type": "display_data",
          "data": {
            "image/png": "[encoded data removed]",
            "text/plain": [
              "<Figure size 432x720 with 4 Axes>"
            ]
          },
          "metadata": {
            "tags": [],
            "needs_background": "light"
          }
        },
        {
          "output_type": "display_data",
          "data": {
            "image/png": "[encoded data removed]",
            "text/plain": [
              "<Figure size 576x864 with 5 Axes>"
            ]
          },
          "metadata": {
            "tags": [],
            "needs_background": "light"
          }
        },
        {
          "output_type": "display_data",
          "data": {
            "image/png": "[encoded data removed]",
            "text/plain": [
              "<Figure size 576x864 with 5 Axes>"
            ]
          },
          "metadata": {
            "tags": [],
            "needs_background": "light"
          }
        }
      ]
    },
    {
      "cell_type": "code",
      "metadata": {
        "colab": {
          "base_uri": "https://localhost:8080/",
          "height": 552
        },
        "id": "x5JYHxqYWQmf",
        "outputId": "da535f8d-28d9-476c-c5bd-b43273fef199"
      },
      "source": [
        "plt.figure()\n",
        "index = 0\n",
        "\n",
        "plt.figure(figsize=(6,10))\n",
        "plt.subplot(1,4,1)\n",
        "plt.imshow(images_l[index].detach().cpu().reshape(28,14))\n",
        "plt.subplot(1,4,2)\n",
        "plt.imshow(images_r[index].detach().cpu().reshape(28,14))\n",
        "plt.subplot(1,4,3)\n",
        "plt.imshow(recx[index].detach().cpu().reshape(28,14))\n",
        "plt.subplot(1,4,4)\n",
        "plt.imshow(recy[index].detach().cpu().reshape(28,14))\n",
        "\n",
        "\n",
        "fig, axs = plt.subplots(1, 5, gridspec_kw={'width_ratios': [2, 2,2,2,4]})\n",
        "fig.set_size_inches(8, 12)\n",
        "axs[0].imshow(images_l[index].detach().cpu().reshape(28,14))\n",
        "axs[1].imshow(image_r_zero[index].detach().cpu().reshape(28,14))\n",
        "axs[2].imshow(recx_l[index].detach().cpu().reshape(28,14))\n",
        "axs[3].imshow(recy_l[index].detach().cpu().reshape(28,14))\n",
        "comp_image = np.zeros((28,28))\n",
        "comp_image[:,0:14] = images_l[index].detach().cpu().reshape(28,14)\n",
        "comp_image[:,14:] = recy_l[index].detach().cpu().reshape(28,14)\n",
        "axs[4].imshow(comp_image)\n",
        "\n",
        "\n",
        "fig1, axs1 = plt.subplots(1, 5, gridspec_kw={'width_ratios': [2, 2,2,2,4]})\n",
        "fig1.set_size_inches(8, 12)\n",
        "axs1[0].imshow(image_l_zero[index].detach().cpu().reshape(28,14))\n",
        "axs1[1].imshow(images_r[index].detach().cpu().reshape(28,14))\n",
        "axs1[2].imshow(recx_r[index].detach().cpu().reshape(28,14))\n",
        "axs1[3].imshow(recy_r[index].detach().cpu().reshape(28,14))\n",
        "comp_image = np.zeros((28,28))\n",
        "comp_image[:,0:14] = recx_r[index].detach().cpu().reshape(28,14)\n",
        "comp_image[:,14:] = images_r[index].detach().cpu().reshape(28,14)\n",
        "axs1[4].imshow(comp_image)"
      ],
      "execution_count": null,
      "outputs": [
        {
          "output_type": "execute_result",
          "data": {
            "text/plain": [
              "<matplotlib.image.AxesImage at 0x7efe99787650>"
            ]
          },
          "metadata": {
            "tags": []
          },
          "execution_count": 99
        },
        {
          "output_type": "display_data",
          "data": {
            "text/plain": [
              "<Figure size 432x288 with 0 Axes>"
            ]
          },
          "metadata": {
            "tags": []
          }
        },
        {
          "output_type": "display_data",
          "data": {
            "image/png": "[encoded data removed]",
            "text/plain": [
              "<Figure size 432x720 with 4 Axes>"
            ]
          },
          "metadata": {
            "tags": [],
            "needs_background": "light"
          }
        },
        {
          "output_type": "display_data",
          "data": {
            "image/png": "[encoded data removed]",
            "text/plain": [
              "<Figure size 576x864 with 5 Axes>"
            ]
          },
          "metadata": {
            "tags": [],
            "needs_background": "light"
          }
        },
        {
          "output_type": "display_data",
          "data": {
            "image/png": "[encoded data removed]",
            "text/plain": [
              "<Figure size 576x864 with 5 Axes>"
            ]
          },
          "metadata": {
            "tags": [],
            "needs_background": "light"
          }
        }
      ]
    },
    {
      "cell_type": "code",
      "metadata": {
        "id": "5mnaq-uCljlN"
      },
      "source": [
        "#batch = next(iter(test_loader))\n",
        "i = iter(test_loader)\n",
        "batch = next(i)\n",
        "batch = next(i)\n",
        "images, labels = batch[0].to(device),batch[1].to(device)\n",
        "\n",
        "images_l = images[:,:,:,:14]\n",
        "images_r = images[:,:,:,14:]\n",
        "\n",
        "image_l_zero = torch.zeros(images_l.shape).to(device)\n",
        "image_r_zero = torch.zeros(images_r.shape).to(device)\n",
        "\n",
        "hidden_rep,recx,recy,hx1,hx2,hy1,hy2 = network(images_l,images_r)\n",
        "hidden_rep_l,recx_l,recy_l,hx1_l,hx2_l,hy1_l,hy2_l = network(images_l,image_r_zero)\n",
        "hidden_rep_r,recx_r,recy_r,hx1_r,hx2_r,hy1_r,hy2_r = network(image_l_zero,images_r)"
      ],
      "execution_count": null,
      "outputs": []
    },
    {
      "cell_type": "code",
      "metadata": {
        "colab": {
          "base_uri": "https://localhost:8080/",
          "height": 552
        },
        "id": "V2JT8SYckdPF",
        "outputId": "a911b592-d8d0-401e-c62c-dab2690e94e5"
      },
      "source": [
        "plt.figure()\n",
        "index = 11\n",
        "\n",
        "plt.figure(figsize=(6,10))\n",
        "plt.subplot(1,4,1)\n",
        "plt.imshow(images_l[index].detach().cpu().reshape(28,14))\n",
        "plt.subplot(1,4,2)\n",
        "plt.imshow(images_r[index].detach().cpu().reshape(28,14))\n",
        "plt.subplot(1,4,3)\n",
        "plt.imshow(recx[index].detach().cpu().reshape(28,14))\n",
        "plt.subplot(1,4,4)\n",
        "plt.imshow(recy[index].detach().cpu().reshape(28,14))\n",
        "\n",
        "\n",
        "fig, axs = plt.subplots(1, 5, gridspec_kw={'width_ratios': [2, 2,2,2,4]})\n",
        "fig.set_size_inches(8, 12)\n",
        "axs[0].imshow(images_l[index].detach().cpu().reshape(28,14))\n",
        "axs[1].imshow(image_r_zero[index].detach().cpu().reshape(28,14))\n",
        "axs[2].imshow(recx_l[index].detach().cpu().reshape(28,14))\n",
        "axs[3].imshow(recy_l[index].detach().cpu().reshape(28,14))\n",
        "comp_image = np.zeros((28,28))\n",
        "comp_image[:,0:14] = images_l[index].detach().cpu().reshape(28,14)\n",
        "comp_image[:,14:] = recy_l[index].detach().cpu().reshape(28,14)\n",
        "axs[4].imshow(comp_image)\n",
        "\n",
        "\n",
        "fig1, axs1 = plt.subplots(1, 5, gridspec_kw={'width_ratios': [2, 2,2,2,4]})\n",
        "fig1.set_size_inches(8, 12)\n",
        "axs1[0].imshow(image_l_zero[index].detach().cpu().reshape(28,14))\n",
        "axs1[1].imshow(images_r[index].detach().cpu().reshape(28,14))\n",
        "axs1[2].imshow(recx_r[index].detach().cpu().reshape(28,14))\n",
        "axs1[3].imshow(recy_r[index].detach().cpu().reshape(28,14))\n",
        "comp_image = np.zeros((28,28))\n",
        "comp_image[:,0:14] = recx_r[index].detach().cpu().reshape(28,14)\n",
        "comp_image[:,14:] = images_r[index].detach().cpu().reshape(28,14)\n",
        "axs1[4].imshow(comp_image)"
      ],
      "execution_count": null,
      "outputs": [
        {
          "output_type": "execute_result",
          "data": {
            "text/plain": [
              "<matplotlib.image.AxesImage at 0x7efe990156d0>"
            ]
          },
          "metadata": {
            "tags": []
          },
          "execution_count": 101
        },
        {
          "output_type": "display_data",
          "data": {
            "text/plain": [
              "<Figure size 432x288 with 0 Axes>"
            ]
          },
          "metadata": {
            "tags": []
          }
        },
        {
          "output_type": "display_data",
          "data": {
            "image/png": "[encoded data removed]",
            "text/plain": [
              "<Figure size 432x720 with 4 Axes>"
            ]
          },
          "metadata": {
            "tags": [],
            "needs_background": "light"
          }
        },
        {
          "output_type": "display_data",
          "data": {
            "image/png": "[encoded data removed]",
            "text/plain": [
              "<Figure size 576x864 with 5 Axes>"
            ]
          },
          "metadata": {
            "tags": [],
            "needs_background": "light"
          }
        },
        {
          "output_type": "display_data",
          "data": {
            "image/png": "[encoded data removed]",
            "text/plain": [
              "<Figure size 576x864 with 5 Axes>"
            ]
          },
          "metadata": {
            "tags": [],
            "needs_background": "light"
          }
        }
      ]
    },
    {
      "cell_type": "code",
      "metadata": {
        "colab": {
          "base_uri": "https://localhost:8080/",
          "height": 552
        },
        "id": "KbmRz8G82DGb",
        "outputId": "c9e16bdf-952f-4c5e-e795-3cba7ef46e48"
      },
      "source": [
        "plt.figure()\n",
        "index = 12\n",
        "\n",
        "plt.figure(figsize=(6,10))\n",
        "plt.subplot(1,4,1)\n",
        "plt.imshow(images_l[index].detach().cpu().reshape(28,14))\n",
        "plt.subplot(1,4,2)\n",
        "plt.imshow(images_r[index].detach().cpu().reshape(28,14))\n",
        "plt.subplot(1,4,3)\n",
        "plt.imshow(recx[index].detach().cpu().reshape(28,14))\n",
        "plt.subplot(1,4,4)\n",
        "plt.imshow(recy[index].detach().cpu().reshape(28,14))\n",
        "\n",
        "\n",
        "fig, axs = plt.subplots(1, 5, gridspec_kw={'width_ratios': [2, 2,2,2,4]})\n",
        "fig.set_size_inches(8, 12)\n",
        "axs[0].imshow(images_l[index].detach().cpu().reshape(28,14))\n",
        "axs[1].imshow(image_r_zero[index].detach().cpu().reshape(28,14))\n",
        "axs[2].imshow(recx_l[index].detach().cpu().reshape(28,14))\n",
        "axs[3].imshow(recy_l[index].detach().cpu().reshape(28,14))\n",
        "comp_image = np.zeros((28,28))\n",
        "comp_image[:,0:14] = images_l[index].detach().cpu().reshape(28,14)\n",
        "comp_image[:,14:] = recy_l[index].detach().cpu().reshape(28,14)\n",
        "axs[4].imshow(comp_image)\n",
        "\n",
        "\n",
        "fig1, axs1 = plt.subplots(1, 5, gridspec_kw={'width_ratios': [2, 2,2,2,4]})\n",
        "fig1.set_size_inches(8, 12)\n",
        "axs1[0].imshow(image_l_zero[index].detach().cpu().reshape(28,14))\n",
        "axs1[1].imshow(images_r[index].detach().cpu().reshape(28,14))\n",
        "axs1[2].imshow(recx_r[index].detach().cpu().reshape(28,14))\n",
        "axs1[3].imshow(recy_r[index].detach().cpu().reshape(28,14))\n",
        "comp_image = np.zeros((28,28))\n",
        "comp_image[:,0:14] = recx_r[index].detach().cpu().reshape(28,14)\n",
        "comp_image[:,14:] = images_r[index].detach().cpu().reshape(28,14)\n",
        "axs1[4].imshow(comp_image)"
      ],
      "execution_count": null,
      "outputs": [
        {
          "output_type": "execute_result",
          "data": {
            "text/plain": [
              "<matplotlib.image.AxesImage at 0x7efe982a5990>"
            ]
          },
          "metadata": {
            "tags": []
          },
          "execution_count": 102
        },
        {
          "output_type": "display_data",
          "data": {
            "text/plain": [
              "<Figure size 432x288 with 0 Axes>"
            ]
          },
          "metadata": {
            "tags": []
          }
        },
        {
          "output_type": "display_data",
          "data": {
            "image/png": "[encoded data removed]",
            "text/plain": [
              "<Figure size 432x720 with 4 Axes>"
            ]
          },
          "metadata": {
            "tags": [],
            "needs_background": "light"
          }
        },
        {
          "output_type": "display_data",
          "data": {
            "image/png": "[encoded data removed]",
            "text/plain": [
              "<Figure size 576x864 with 5 Axes>"
            ]
          },
          "metadata": {
            "tags": [],
            "needs_background": "light"
          }
        },
        {
          "output_type": "display_data",
          "data": {
            "image/png": "[encoded data removed]",
            "text/plain": [
              "<Figure size 576x864 with 5 Axes>"
            ]
          },
          "metadata": {
            "tags": [],
            "needs_background": "light"
          }
        }
      ]
    },
    {
      "cell_type": "markdown",
      "metadata": {
        "id": "cOsR1Qgqwcc_"
      },
      "source": [
        "# Try calculating accuracy"
      ]
    },
    {
      "cell_type": "code",
      "metadata": {
        "id": "V4qmnS5RwfiK"
      },
      "source": [
        "class MNIST_classifier(nn.Module):\n",
        "    def __init__(self):\n",
        "        super(MNIST_classifier,self).__init__()\n",
        "        self.fc1 = nn.Linear(in_features=50,out_features=25) # 28*28 --> 512\n",
        "        self.fc3 = nn.Linear(in_features=25,out_features=10) # 512 --> 10\n",
        "        self.dropout = nn.Dropout(0.2)\n",
        "    \n",
        "    def forward(self,x):\n",
        "        #x = x.view(-1,28*28)\n",
        "        x = F.relu(self.fc1(x))\n",
        "        x = self.dropout(x)\n",
        "        x = self.fc3(x)\n",
        "        return x"
      ],
      "execution_count": null,
      "outputs": []
    },
    {
      "cell_type": "code",
      "metadata": {
        "id": "n3xuxhjbwht4"
      },
      "source": [
        "classifier = MNIST_classifier() #\n",
        "classifier.to(device)\n",
        "optimizer_class = optim.Adam(classifier.parameters(),lr=0.0001)\n"
      ],
      "execution_count": null,
      "outputs": []
    },
    {
      "cell_type": "code",
      "metadata": {
        "colab": {
          "base_uri": "https://localhost:8080/"
        },
        "id": "ic0f_FbowqOA",
        "outputId": "fb30c34a-6996-428a-95cb-cf3863154c0a"
      },
      "source": [
        "# training the classifier with hidden layer as the input\n",
        "for epoch in range(10):\n",
        "    total_loss = 0.0\n",
        "    for batch in test_loader:\n",
        "        #images, labels = batch[0].to(device),batch[1].to(device)\n",
        "        images, labels = batch[0].to(device),batch[1].to(device)\n",
        "        images_l = images[:,:,:,:14]\n",
        "        images_r = images[:,:,:,14:]\n",
        "\n",
        "        hidden_rep,recx,recy,hx1,hx2,hy1,hy2 = network(images_l,images_r)\n",
        "        \n",
        "        preds = classifier(hidden_rep)\n",
        "        loss = F.cross_entropy(preds,labels)\n",
        "        \n",
        "        optimizer_class.zero_grad()\n",
        "        loss.backward()\n",
        "        optimizer_class.step()\n",
        "        total_loss += loss.item()\n",
        "    #network_uniform_loss.append(total_loss)\n",
        "\n",
        "    total = 0\n",
        "    correct = 0\n",
        "    for data in test_loader:\n",
        "        images, labels = data[0].to(device),data[1].to(device)\n",
        "       \n",
        "        images_l = images[:,:,:,:14]\n",
        "        images_r = images[:,:,:,14:]\n",
        "\n",
        "        hidden_rep,recx,recy,hx1,hx2,hy1,hy2 = network(images_l,images_r)\n",
        "\n",
        "        outputs = classifier(hidden_rep)\n",
        "        _, predicted = torch.max(outputs.data, 1)\n",
        "        total += labels.size(0)\n",
        "        correct += (predicted == labels).sum().item()\n",
        "\n",
        "    #network_uniform_accuracy.append(correct/total)\n",
        "    print(\"epoch: \",epoch,\"loss: \",total_loss,\"accuracy: \",correct/total)"
      ],
      "execution_count": null,
      "outputs": [
        {
          "output_type": "stream",
          "text": [
            "epoch:  0 loss:  2382.854186296463 accuracy:  0.593\n",
            "epoch:  1 loss:  1616.8273090720177 accuracy:  0.7143\n",
            "epoch:  2 loss:  1169.5008001327515 accuracy:  0.7634\n",
            "epoch:  3 loss:  943.6257965862751 accuracy:  0.7938\n",
            "epoch:  4 loss:  814.8915527164936 accuracy:  0.8073\n",
            "epoch:  5 loss:  733.896488904953 accuracy:  0.8227\n",
            "epoch:  6 loss:  676.8491260260344 accuracy:  0.8365\n",
            "epoch:  7 loss:  636.7565386146307 accuracy:  0.8454\n",
            "epoch:  8 loss:  602.3610807210207 accuracy:  0.8589\n",
            "epoch:  9 loss:  579.5082789957523 accuracy:  0.8584\n"
          ],
          "name": "stdout"
        }
      ]
    },
    {
      "cell_type": "markdown",
      "metadata": {
        "id": "nip7tVefw2-K"
      },
      "source": [
        "- Input is just left view.\n",
        "- First complete image is reconstructed from above trained model\n",
        "- Accuracy is calculated using the MNIST classifier"
      ]
    },
    {
      "cell_type": "code",
      "metadata": {
        "id": "o8XGaaM3w2DP"
      },
      "source": [
        "correct_l = 0\n",
        "total_l  = 0\n",
        "\n",
        "correct_r = 0\n",
        "total_r  = 0\n",
        "for batch in test_loader:\n",
        "    images, labels = batch[0].to(device),batch[1].to(device)\n",
        "    images_l = images[:,:,:,:14]\n",
        "    images_r = images[:,:,:,14:]\n",
        "    \n",
        "    image_l_zero = torch.zeros(images_l.shape).to(device)\n",
        "    image_r_zero = torch.zeros(images_r.shape).to(device)\n",
        "\n",
        "    #hidden_rep,recx,recy,hx1,hx2,hy1,hy2 = network(images_l,images_r)\n",
        "    hidden_rep_l,recx_l,recy_l,hx1_l,hx2_l,hy1_l,hy2_l = network(images_l,image_r_zero)\n",
        "    hidden_rep_r,recx_r,recy_r,hx1_r,hx2_r,hy1_r,hy2_r = network(image_l_zero,images_r)\n",
        "\n",
        "    rec_l = torch.zeros(images.shape).to(device)\n",
        "    rec_l[:,:,:,0:14] = recx_l\n",
        "    rec_l[:,:,:,14:] = recy_l\n",
        "\n",
        "    rec_r = torch.zeros(images.shape).to(device)\n",
        "    rec_r[:,:,:,0:14] = recx_r\n",
        "    rec_r[:,:,:,14:] = recy_r\n",
        "\n",
        "    outputs_l = classifier(hidden_rep_l)\n",
        "    _, predicted_l = torch.max(outputs_l.data, 1)\n",
        "    total_l += labels.size(0)\n",
        "    correct_l += (predicted_l == labels).sum().item()\n",
        "\n",
        "    outputs_r = classifier(hidden_rep_r)\n",
        "    _, predicted_r = torch.max(outputs_r.data, 1)\n",
        "    total_r += labels.size(0)\n",
        "    correct_r += (predicted_r == labels).sum().item()"
      ],
      "execution_count": null,
      "outputs": []
    },
    {
      "cell_type": "code",
      "metadata": {
        "colab": {
          "base_uri": "https://localhost:8080/"
        },
        "id": "l-4Ri6zCxCxO",
        "outputId": "9b2fe110-90f8-44dd-96c8-fdcc4d3edd0f"
      },
      "source": [
        "print(\"Accuracy using only left part of image \",correct_l/total_l)\n",
        "print(\"Accuracy using only right part of image \",correct_r/total_r)"
      ],
      "execution_count": null,
      "outputs": [
        {
          "output_type": "stream",
          "text": [
            "Accuracy using only left part of image  0.7425\n",
            "Accuracy using only right part of image  0.7768\n"
          ],
          "name": "stdout"
        }
      ]
    }
  ]
}