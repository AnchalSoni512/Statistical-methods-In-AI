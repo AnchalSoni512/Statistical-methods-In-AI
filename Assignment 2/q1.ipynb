{
 "cells": [
  {
   "cell_type": "code",
   "execution_count": 230,
   "id": "dense-hierarchy",
   "metadata": {},
   "outputs": [],
   "source": [
    "import numpy as np\n",
    "import pandas as pd\n",
    "import matplotlib.pyplot as plt\n",
    "import random\n",
    "from math import sqrt\n",
    "import seaborn as sns\n",
    "%matplotlib inline"
   ]
  },
  {
   "cell_type": "code",
   "execution_count": 231,
   "id": "olympic-pitch",
   "metadata": {},
   "outputs": [
    {
     "name": "stdout",
     "output_type": "stream",
     "text": [
      "(60000, 28, 28) (60000,)\n",
      "(10000, 28, 28) (60000,)\n"
     ]
    }
   ],
   "source": [
    "from keras.datasets import fashion_mnist\n",
    "(trainX, trainy), (testX, testy) = fashion_mnist.load_data()\n",
    "print(trainX.shape, trainy.shape)\n",
    "print(testX.shape, trainy.shape)"
   ]
  },
  {
   "cell_type": "code",
   "execution_count": 232,
   "id": "conventional-withdrawal",
   "metadata": {},
   "outputs": [
    {
     "name": "stdout",
     "output_type": "stream",
     "text": [
      "(60000, 784) (60000,)\n",
      "(10000, 784) (60000,)\n"
     ]
    }
   ],
   "source": [
    "# Conversion to float\n",
    "trainX = trainX.astype(np.float32) \n",
    "testX = testX.astype(np.float32)\n",
    "# Reshaping input data\n",
    "trainX = trainX.reshape(len(trainX),-1)\n",
    "testX = testX.reshape(len(testX),-1)\n",
    "print(trainX.shape, trainy.shape)\n",
    "print(testX.shape, trainy.shape)"
   ]
  },
  {
   "cell_type": "code",
   "execution_count": 175,
   "id": "banned-louis",
   "metadata": {},
   "outputs": [],
   "source": [
    "class K_Means:\n",
    "    def __init__(self, k = 2, tol = 0.001, max_iter = 300):\n",
    "        self.k = k\n",
    "        self.tol = tol\n",
    "        self.max_iter = max_iter\n",
    "\n",
    "    def fit(self,data, init = None):\n",
    "\n",
    "        self.centroids = {}\n",
    "        \n",
    "        # centroid initialisation\n",
    "        if init == 'forgy':\n",
    "            for i in range(self.k):\n",
    "                self.centroids[i] = random.choice(data)\n",
    "        elif init == None:\n",
    "            for i in range(self.k):\n",
    "                self.centroids[i] = data[i]\n",
    "        else: # random partition\n",
    "            indices = np.random.choice(range(0, self.k), replace = True, size = data.shape[0])\n",
    "            mean = []\n",
    "            for count in range(self.k):\n",
    "                self.centroids[count] = data[indices == count].mean(axis=0)\n",
    "\n",
    "\n",
    "        for i in range(self.max_iter):\n",
    "            self.classifications = {}\n",
    "\n",
    "            for i in range(self.k):\n",
    "                self.classifications[i] = []\n",
    "\n",
    "            for featureset in data:\n",
    "                distances = [np.linalg.norm(featureset-self.centroids[centroid]) for centroid in self.centroids]\n",
    "                classification = distances.index(min(distances))\n",
    "                self.classifications[classification].append(featureset)\n",
    "\n",
    "            prev_centroids = dict(self.centroids)\n",
    "\n",
    "            for classification in self.classifications:\n",
    "                self.centroids[classification] = np.average(self.classifications[classification],axis=0)\n",
    "\n",
    "            optimized = True\n",
    "\n",
    "            for c in self.centroids:\n",
    "                original_centroid = prev_centroids[c]\n",
    "                current_centroid = self.centroids[c]\n",
    "                if np.sum((current_centroid-original_centroid)/original_centroid*100.0) > self.tol:\n",
    "#                     print(np.sum((current_centroid-original_centroid)/original_centroid*100.0))\n",
    "                    optimized = False\n",
    "\n",
    "            if optimized:\n",
    "                break\n",
    "        return self.classifications, self.centroids\n",
    "    \n",
    "    def elbow(self):\n",
    "        D = []\n",
    "        for k in range(self.k):\n",
    "            points = self.classifications[k]\n",
    "            points = np.array(points)\n",
    "#             print(points)\n",
    "            center = self.centroids[k]\n",
    "#             print(self.centroids)\n",
    "#             print(center)\n",
    "#             dists=np.sum(np.square(points[:,np.newaxis]-Center).sum(axis=2))\n",
    "#             print(dists)\n",
    "            dists = []\n",
    "            for p in points:\n",
    "                dists.append(sum((e1-e2)**2 for e1, e2 in zip(p,center)))\n",
    "            dists = np.sum(np.array(dists))\n",
    "#             print(dists)\n",
    "            D.append(dists)\n",
    "        value = np.sum(np.array(D))\n",
    "        return value\n",
    "\n",
    "    def predict(self,data):\n",
    "\n",
    "        distances = [np.linalg.norm(data-self.centroids[centroid]) for centroid in self.centroids]\n",
    "        final_cluster_label = distances.index(min(distances))\n",
    "        return final_cluster_label\n"
   ]
  },
  {
   "cell_type": "code",
   "execution_count": 189,
   "id": "recent-response",
   "metadata": {},
   "outputs": [],
   "source": [
    "model2 = K_Means(k = 10)\n",
    "classification, centroid = model2.fit(trainX)\n",
    "# print(classification)\n",
    "# print(centroid)\n",
    "pred = []\n",
    "for tx in testX:\n",
    "    pred.append(model2.predict(tx))\n",
    "pred = np.array(pred)"
   ]
  },
  {
   "cell_type": "code",
   "execution_count": 190,
   "id": "smoking-sleeve",
   "metadata": {},
   "outputs": [
    {
     "data": {
      "text/plain": [
       "0.8056404908414813"
      ]
     },
     "execution_count": 190,
     "metadata": {},
     "output_type": "execute_result"
    }
   ],
   "source": [
    "from sklearn.metrics.cluster import homogeneity_score\n",
    "print(\"homogeneity score:\")\n",
    "homogeneity_score(pred, testy)"
   ]
  },
  {
   "cell_type": "code",
   "execution_count": 184,
   "id": "sufficient-snake",
   "metadata": {
    "collapsed": true
   },
   "outputs": [
    {
     "data": {
      "text/html": [
       "<div>\n",
       "<style scoped>\n",
       "    .dataframe tbody tr th:only-of-type {\n",
       "        vertical-align: middle;\n",
       "    }\n",
       "\n",
       "    .dataframe tbody tr th {\n",
       "        vertical-align: top;\n",
       "    }\n",
       "\n",
       "    .dataframe thead th {\n",
       "        text-align: right;\n",
       "    }\n",
       "</style>\n",
       "<table border=\"1\" class=\"dataframe\">\n",
       "  <thead>\n",
       "    <tr style=\"text-align: right;\">\n",
       "      <th></th>\n",
       "      <th>Clusters</th>\n",
       "      <th>WSS</th>\n",
       "    </tr>\n",
       "  </thead>\n",
       "  <tbody>\n",
       "    <tr>\n",
       "      <th>0</th>\n",
       "      <td>2</td>\n",
       "      <td>1.651263e+08</td>\n",
       "    </tr>\n",
       "    <tr>\n",
       "      <th>1</th>\n",
       "      <td>3</td>\n",
       "      <td>1.316752e+08</td>\n",
       "    </tr>\n",
       "    <tr>\n",
       "      <th>2</th>\n",
       "      <td>4</td>\n",
       "      <td>1.225566e+08</td>\n",
       "    </tr>\n",
       "    <tr>\n",
       "      <th>3</th>\n",
       "      <td>5</td>\n",
       "      <td>1.187869e+08</td>\n",
       "    </tr>\n",
       "    <tr>\n",
       "      <th>4</th>\n",
       "      <td>6</td>\n",
       "      <td>1.159179e+08</td>\n",
       "    </tr>\n",
       "    <tr>\n",
       "      <th>5</th>\n",
       "      <td>7</td>\n",
       "      <td>1.019911e+08</td>\n",
       "    </tr>\n",
       "    <tr>\n",
       "      <th>6</th>\n",
       "      <td>8</td>\n",
       "      <td>1.012984e+08</td>\n",
       "    </tr>\n",
       "    <tr>\n",
       "      <th>7</th>\n",
       "      <td>9</td>\n",
       "      <td>8.467792e+07</td>\n",
       "    </tr>\n",
       "    <tr>\n",
       "      <th>8</th>\n",
       "      <td>10</td>\n",
       "      <td>8.522886e+07</td>\n",
       "    </tr>\n",
       "    <tr>\n",
       "      <th>9</th>\n",
       "      <td>11</td>\n",
       "      <td>8.401105e+07</td>\n",
       "    </tr>\n",
       "  </tbody>\n",
       "</table>\n",
       "</div>"
      ],
      "text/plain": [
       "   Clusters           WSS\n",
       "0         2  1.651263e+08\n",
       "1         3  1.316752e+08\n",
       "2         4  1.225566e+08\n",
       "3         5  1.187869e+08\n",
       "4         6  1.159179e+08\n",
       "5         7  1.019911e+08\n",
       "6         8  1.012984e+08\n",
       "7         9  8.467792e+07\n",
       "8        10  8.522886e+07\n",
       "9        11  8.401105e+07"
      ]
     },
     "execution_count": 184,
     "metadata": {},
     "output_type": "execute_result"
    }
   ],
   "source": [
    "K=range(2,12)\n",
    "wss = []\n",
    "for k in K:\n",
    "    kmeans = K_Means(k = k)\n",
    "    classification, centroid = kmeans.fit(tdata,init = 'forgy')\n",
    "#     print(centroid)\n",
    "    wss_iter = kmeans.elbow()\n",
    "    wss.append(wss_iter)\n",
    "mycenters = pd.DataFrame({'Clusters' : K, 'WSS' : wss})\n",
    "mycenters"
   ]
  },
  {
   "cell_type": "code",
   "execution_count": 185,
   "id": "configured-pharmaceutical",
   "metadata": {},
   "outputs": [
    {
     "data": {
      "image/png": "[encoded data removed]",
      "text/plain": [
       "<Figure size 432x288 with 1 Axes>"
      ]
     },
     "metadata": {
      "needs_background": "light"
     },
     "output_type": "display_data"
    }
   ],
   "source": [
    "plt.plot(K, wss, 'bx-')\n",
    "plt.xlabel('Values of K')\n",
    "plt.ylabel('Distortion')\n",
    "plt.title('The Elbow Method using Distortion')\n",
    "plt.show()\n"
   ]
  },
  {
   "cell_type": "markdown",
   "id": "coordinated-consciousness",
   "metadata": {},
   "source": [
    "## optimal number of clusters \n",
    "from the bove elbow graph optimal number of clusters can be 9."
   ]
  },
  {
   "cell_type": "markdown",
   "id": "signed-interval",
   "metadata": {},
   "source": [
    "### k means using sklearn"
   ]
  },
  {
   "cell_type": "code",
   "execution_count": 187,
   "id": "occupied-clark",
   "metadata": {},
   "outputs": [],
   "source": [
    "from sklearn.cluster import KMeans\n",
    "kmeans = KMeans(n_clusters=10, random_state=0).fit(tdata)\n",
    "pred_sk = kmeans.predict(tt)"
   ]
  },
  {
   "cell_type": "code",
   "execution_count": 197,
   "id": "twelve-absolute",
   "metadata": {},
   "outputs": [
    {
     "data": {
      "text/plain": [
       "0.7883367065555108"
      ]
     },
     "execution_count": 197,
     "metadata": {},
     "output_type": "execute_result"
    }
   ],
   "source": [
    "from sklearn.metrics.cluster import homogeneity_score\n",
    "homogeneity_score(pred_sk, xx)"
   ]
  },
  {
   "cell_type": "markdown",
   "id": "federal-shopping",
   "metadata": {},
   "source": [
    "## MNIST dataset "
   ]
  },
  {
   "cell_type": "code",
   "execution_count": 213,
   "id": "touched-faith",
   "metadata": {},
   "outputs": [],
   "source": [
    "mnist = pd.read_csv(\"data.csv\")"
   ]
  },
  {
   "cell_type": "code",
   "execution_count": 214,
   "id": "angry-cream",
   "metadata": {},
   "outputs": [
    {
     "data": {
      "text/html": [
       "<div>\n",
       "<style scoped>\n",
       "    .dataframe tbody tr th:only-of-type {\n",
       "        vertical-align: middle;\n",
       "    }\n",
       "\n",
       "    .dataframe tbody tr th {\n",
       "        vertical-align: top;\n",
       "    }\n",
       "\n",
       "    .dataframe thead th {\n",
       "        text-align: right;\n",
       "    }\n",
       "</style>\n",
       "<table border=\"1\" class=\"dataframe\">\n",
       "  <thead>\n",
       "    <tr style=\"text-align: right;\">\n",
       "      <th></th>\n",
       "      <th>[1.0866963863372803</th>\n",
       "      <th>2.3719661235809326</th>\n",
       "      <th>5.534520626068115</th>\n",
       "      <th>3.7711739540100098</th>\n",
       "      <th>1.877306580543518</th>\n",
       "      <th>3.5990941524505615</th>\n",
       "      <th>5.784208297729492</th>\n",
       "      <th>3.871398448944092</th>\n",
       "      <th>2.878445863723755</th>\n",
       "      <th>4.1095147132873535</th>\n",
       "      <th>...</th>\n",
       "      <th>0.0.26</th>\n",
       "      <th>0.0.27</th>\n",
       "      <th>0.0.28</th>\n",
       "      <th>0.0.29</th>\n",
       "      <th>0.0.30</th>\n",
       "      <th>0.0.31</th>\n",
       "      <th>0.0.32</th>\n",
       "      <th>0.0.33</th>\n",
       "      <th>0.0]</th>\n",
       "      <th>Ankle Boot</th>\n",
       "    </tr>\n",
       "  </thead>\n",
       "  <tbody>\n",
       "    <tr>\n",
       "      <th>0</th>\n",
       "      <td>[5.086210250854492</td>\n",
       "      <td>3.526383</td>\n",
       "      <td>3.173435</td>\n",
       "      <td>3.100720</td>\n",
       "      <td>4.561333</td>\n",
       "      <td>4.389340</td>\n",
       "      <td>3.113444</td>\n",
       "      <td>2.403284</td>\n",
       "      <td>4.039598</td>\n",
       "      <td>5.388708</td>\n",
       "      <td>...</td>\n",
       "      <td>0.0</td>\n",
       "      <td>0.0</td>\n",
       "      <td>0.0</td>\n",
       "      <td>0.0</td>\n",
       "      <td>0.0</td>\n",
       "      <td>0.0</td>\n",
       "      <td>0.0</td>\n",
       "      <td>0.0</td>\n",
       "      <td>0.0]</td>\n",
       "      <td>T-Shirt</td>\n",
       "    </tr>\n",
       "    <tr>\n",
       "      <th>1</th>\n",
       "      <td>[1.211804747581482</td>\n",
       "      <td>2.946491</td>\n",
       "      <td>2.014766</td>\n",
       "      <td>0.606742</td>\n",
       "      <td>1.302111</td>\n",
       "      <td>2.517385</td>\n",
       "      <td>1.538354</td>\n",
       "      <td>0.719057</td>\n",
       "      <td>1.375769</td>\n",
       "      <td>2.441072</td>\n",
       "      <td>...</td>\n",
       "      <td>0.0</td>\n",
       "      <td>0.0</td>\n",
       "      <td>0.0</td>\n",
       "      <td>0.0</td>\n",
       "      <td>0.0</td>\n",
       "      <td>0.0</td>\n",
       "      <td>0.0</td>\n",
       "      <td>0.0</td>\n",
       "      <td>0.0]</td>\n",
       "      <td>T-Shirt</td>\n",
       "    </tr>\n",
       "    <tr>\n",
       "      <th>2</th>\n",
       "      <td>[3.1817357540130615</td>\n",
       "      <td>3.386448</td>\n",
       "      <td>1.852063</td>\n",
       "      <td>1.134460</td>\n",
       "      <td>2.596234</td>\n",
       "      <td>3.389648</td>\n",
       "      <td>1.662953</td>\n",
       "      <td>1.038565</td>\n",
       "      <td>2.676021</td>\n",
       "      <td>3.362122</td>\n",
       "      <td>...</td>\n",
       "      <td>0.0</td>\n",
       "      <td>0.0</td>\n",
       "      <td>0.0</td>\n",
       "      <td>0.0</td>\n",
       "      <td>0.0</td>\n",
       "      <td>0.0</td>\n",
       "      <td>0.0</td>\n",
       "      <td>0.0</td>\n",
       "      <td>0.0]</td>\n",
       "      <td>Dress</td>\n",
       "    </tr>\n",
       "    <tr>\n",
       "      <th>3</th>\n",
       "      <td>[3.5364575386047363</td>\n",
       "      <td>5.801409</td>\n",
       "      <td>3.549685</td>\n",
       "      <td>1.483723</td>\n",
       "      <td>3.400284</td>\n",
       "      <td>6.017810</td>\n",
       "      <td>3.560772</td>\n",
       "      <td>0.938271</td>\n",
       "      <td>3.958203</td>\n",
       "      <td>6.236764</td>\n",
       "      <td>...</td>\n",
       "      <td>0.0</td>\n",
       "      <td>0.0</td>\n",
       "      <td>0.0</td>\n",
       "      <td>0.0</td>\n",
       "      <td>0.0</td>\n",
       "      <td>0.0</td>\n",
       "      <td>0.0</td>\n",
       "      <td>0.0</td>\n",
       "      <td>0.0]</td>\n",
       "      <td>T-Shirt</td>\n",
       "    </tr>\n",
       "    <tr>\n",
       "      <th>4</th>\n",
       "      <td>[4.996546268463135</td>\n",
       "      <td>2.998642</td>\n",
       "      <td>2.717624</td>\n",
       "      <td>2.631233</td>\n",
       "      <td>5.073828</td>\n",
       "      <td>3.387869</td>\n",
       "      <td>2.864835</td>\n",
       "      <td>2.815916</td>\n",
       "      <td>5.151153</td>\n",
       "      <td>3.737313</td>\n",
       "      <td>...</td>\n",
       "      <td>0.0</td>\n",
       "      <td>0.0</td>\n",
       "      <td>0.0</td>\n",
       "      <td>0.0</td>\n",
       "      <td>0.0</td>\n",
       "      <td>0.0</td>\n",
       "      <td>0.0</td>\n",
       "      <td>0.0</td>\n",
       "      <td>0.0]</td>\n",
       "      <td>Pullover</td>\n",
       "    </tr>\n",
       "  </tbody>\n",
       "</table>\n",
       "<p>5 rows × 193 columns</p>\n",
       "</div>"
      ],
      "text/plain": [
       "   [1.0866963863372803   2.3719661235809326   5.534520626068115  \\\n",
       "0   [5.086210250854492             3.526383            3.173435   \n",
       "1   [1.211804747581482             2.946491            2.014766   \n",
       "2  [3.1817357540130615             3.386448            1.852063   \n",
       "3  [3.5364575386047363             5.801409            3.549685   \n",
       "4   [4.996546268463135             2.998642            2.717624   \n",
       "\n",
       "    3.7711739540100098   1.877306580543518   3.5990941524505615  \\\n",
       "0             3.100720            4.561333             4.389340   \n",
       "1             0.606742            1.302111             2.517385   \n",
       "2             1.134460            2.596234             3.389648   \n",
       "3             1.483723            3.400284             6.017810   \n",
       "4             2.631233            5.073828             3.387869   \n",
       "\n",
       "    5.784208297729492   3.871398448944092   2.878445863723755  \\\n",
       "0            3.113444            2.403284            4.039598   \n",
       "1            1.538354            0.719057            1.375769   \n",
       "2            1.662953            1.038565            2.676021   \n",
       "3            3.560772            0.938271            3.958203   \n",
       "4            2.864835            2.815916            5.151153   \n",
       "\n",
       "    4.1095147132873535  ...   0.0.26   0.0.27   0.0.28   0.0.29   0.0.30  \\\n",
       "0             5.388708  ...      0.0      0.0      0.0      0.0      0.0   \n",
       "1             2.441072  ...      0.0      0.0      0.0      0.0      0.0   \n",
       "2             3.362122  ...      0.0      0.0      0.0      0.0      0.0   \n",
       "3             6.236764  ...      0.0      0.0      0.0      0.0      0.0   \n",
       "4             3.737313  ...      0.0      0.0      0.0      0.0      0.0   \n",
       "\n",
       "    0.0.31   0.0.32   0.0.33   0.0]   Ankle Boot  \n",
       "0      0.0      0.0      0.0   0.0]      T-Shirt  \n",
       "1      0.0      0.0      0.0   0.0]      T-Shirt  \n",
       "2      0.0      0.0      0.0   0.0]        Dress  \n",
       "3      0.0      0.0      0.0   0.0]      T-Shirt  \n",
       "4      0.0      0.0      0.0   0.0]     Pullover  \n",
       "\n",
       "[5 rows x 193 columns]"
      ]
     },
     "execution_count": 214,
     "metadata": {},
     "output_type": "execute_result"
    }
   ],
   "source": [
    "mnist.head()"
   ]
  },
  {
   "cell_type": "code",
   "execution_count": null,
   "id": "spread-wells",
   "metadata": {},
   "outputs": [],
   "source": [
    "X = mnist.iloc[:, :-1].values\n",
    "y = mnist.iloc[:, -1].values\n",
    "print(type(X),type(y))\n",
    "X.shape,y.shape\n",
    "# X.shape"
   ]
  },
  {
   "cell_type": "code",
   "execution_count": 237,
   "id": "white-picnic",
   "metadata": {},
   "outputs": [
    {
     "name": "stdout",
     "output_type": "stream",
     "text": [
      "(41999, 192) (41999,)\n",
      "(18000, 192) (18000,)\n",
      "<class 'pandas.core.frame.DataFrame'> <class 'pandas.core.series.Series'>\n",
      "<class 'pandas.core.frame.DataFrame'> <class 'pandas.core.series.Series'>\n"
     ]
    }
   ],
   "source": [
    "#splitting into train and test set\n",
    "from sklearn.model_selection import train_test_split\n",
    "X_train, X_test, y_train, y_test = train_test_split(X,y, test_size = 0.30, random_state = 50)\n",
    "print(X_train.shape, y_train.shape)\n",
    "print(X_test.shape,y_test.shape)\n",
    "x_train = X_train.values\n",
    "print(type(X_train), type(y_train))\n",
    "print(type(X_test),type(y_test))"
   ]
  },
  {
   "cell_type": "code",
   "execution_count": 229,
   "id": "tracked-discipline",
   "metadata": {},
   "outputs": [
    {
     "ename": "KeyError",
     "evalue": "0",
     "output_type": "error",
     "traceback": [
      "\u001b[0;31m---------------------------------------------------------------------------\u001b[0m",
      "\u001b[0;31mKeyError\u001b[0m                                  Traceback (most recent call last)",
      "\u001b[0;32m~/anaconda3/lib/python3.8/site-packages/pandas/core/indexes/base.py\u001b[0m in \u001b[0;36mget_loc\u001b[0;34m(self, key, method, tolerance)\u001b[0m\n\u001b[1;32m   3079\u001b[0m             \u001b[0;32mtry\u001b[0m\u001b[0;34m:\u001b[0m\u001b[0;34m\u001b[0m\u001b[0;34m\u001b[0m\u001b[0m\n\u001b[0;32m-> 3080\u001b[0;31m                 \u001b[0;32mreturn\u001b[0m \u001b[0mself\u001b[0m\u001b[0;34m.\u001b[0m\u001b[0m_engine\u001b[0m\u001b[0;34m.\u001b[0m\u001b[0mget_loc\u001b[0m\u001b[0;34m(\u001b[0m\u001b[0mcasted_key\u001b[0m\u001b[0;34m)\u001b[0m\u001b[0;34m\u001b[0m\u001b[0;34m\u001b[0m\u001b[0m\n\u001b[0m\u001b[1;32m   3081\u001b[0m             \u001b[0;32mexcept\u001b[0m \u001b[0mKeyError\u001b[0m \u001b[0;32mas\u001b[0m \u001b[0merr\u001b[0m\u001b[0;34m:\u001b[0m\u001b[0;34m\u001b[0m\u001b[0;34m\u001b[0m\u001b[0m\n",
      "\u001b[0;32mpandas/_libs/index.pyx\u001b[0m in \u001b[0;36mpandas._libs.index.IndexEngine.get_loc\u001b[0;34m()\u001b[0m\n",
      "\u001b[0;32mpandas/_libs/index.pyx\u001b[0m in \u001b[0;36mpandas._libs.index.IndexEngine.get_loc\u001b[0;34m()\u001b[0m\n",
      "\u001b[0;32mpandas/_libs/hashtable_class_helper.pxi\u001b[0m in \u001b[0;36mpandas._libs.hashtable.PyObjectHashTable.get_item\u001b[0;34m()\u001b[0m\n",
      "\u001b[0;32mpandas/_libs/hashtable_class_helper.pxi\u001b[0m in \u001b[0;36mpandas._libs.hashtable.PyObjectHashTable.get_item\u001b[0;34m()\u001b[0m\n",
      "\u001b[0;31mKeyError\u001b[0m: 0",
      "\nThe above exception was the direct cause of the following exception:\n",
      "\u001b[0;31mKeyError\u001b[0m                                  Traceback (most recent call last)",
      "\u001b[0;32m<ipython-input-229-ab2361ba2c4c>\u001b[0m in \u001b[0;36m<module>\u001b[0;34m\u001b[0m\n\u001b[1;32m      1\u001b[0m \u001b[0mmodel3\u001b[0m \u001b[0;34m=\u001b[0m \u001b[0mK_Means\u001b[0m\u001b[0;34m(\u001b[0m\u001b[0mk\u001b[0m \u001b[0;34m=\u001b[0m \u001b[0;36m10\u001b[0m\u001b[0;34m)\u001b[0m\u001b[0;34m\u001b[0m\u001b[0;34m\u001b[0m\u001b[0m\n\u001b[0;32m----> 2\u001b[0;31m \u001b[0mclassification\u001b[0m\u001b[0;34m,\u001b[0m \u001b[0mcentroid\u001b[0m \u001b[0;34m=\u001b[0m \u001b[0mmodel3\u001b[0m\u001b[0;34m.\u001b[0m\u001b[0mfit\u001b[0m\u001b[0;34m(\u001b[0m\u001b[0mX_train\u001b[0m\u001b[0;34m)\u001b[0m\u001b[0;34m\u001b[0m\u001b[0;34m\u001b[0m\u001b[0m\n\u001b[0m\u001b[1;32m      3\u001b[0m \u001b[0;31m# print(classification)\u001b[0m\u001b[0;34m\u001b[0m\u001b[0;34m\u001b[0m\u001b[0;34m\u001b[0m\u001b[0m\n\u001b[1;32m      4\u001b[0m \u001b[0;31m# print(centroid)\u001b[0m\u001b[0;34m\u001b[0m\u001b[0;34m\u001b[0m\u001b[0;34m\u001b[0m\u001b[0m\n\u001b[1;32m      5\u001b[0m \u001b[0mpred3\u001b[0m \u001b[0;34m=\u001b[0m \u001b[0;34m[\u001b[0m\u001b[0;34m]\u001b[0m\u001b[0;34m\u001b[0m\u001b[0;34m\u001b[0m\u001b[0m\n",
      "\u001b[0;32m<ipython-input-175-d629115544cf>\u001b[0m in \u001b[0;36mfit\u001b[0;34m(self, data, init)\u001b[0m\n\u001b[1;32m     15\u001b[0m         \u001b[0;32melif\u001b[0m \u001b[0minit\u001b[0m \u001b[0;34m==\u001b[0m \u001b[0;32mNone\u001b[0m\u001b[0;34m:\u001b[0m\u001b[0;34m\u001b[0m\u001b[0;34m\u001b[0m\u001b[0m\n\u001b[1;32m     16\u001b[0m             \u001b[0;32mfor\u001b[0m \u001b[0mi\u001b[0m \u001b[0;32min\u001b[0m \u001b[0mrange\u001b[0m\u001b[0;34m(\u001b[0m\u001b[0mself\u001b[0m\u001b[0;34m.\u001b[0m\u001b[0mk\u001b[0m\u001b[0;34m)\u001b[0m\u001b[0;34m:\u001b[0m\u001b[0;34m\u001b[0m\u001b[0;34m\u001b[0m\u001b[0m\n\u001b[0;32m---> 17\u001b[0;31m                 \u001b[0mself\u001b[0m\u001b[0;34m.\u001b[0m\u001b[0mcentroids\u001b[0m\u001b[0;34m[\u001b[0m\u001b[0mi\u001b[0m\u001b[0;34m]\u001b[0m \u001b[0;34m=\u001b[0m \u001b[0mdata\u001b[0m\u001b[0;34m[\u001b[0m\u001b[0mi\u001b[0m\u001b[0;34m]\u001b[0m\u001b[0;34m\u001b[0m\u001b[0;34m\u001b[0m\u001b[0m\n\u001b[0m\u001b[1;32m     18\u001b[0m         \u001b[0;32melse\u001b[0m\u001b[0;34m:\u001b[0m \u001b[0;31m# random partition\u001b[0m\u001b[0;34m\u001b[0m\u001b[0;34m\u001b[0m\u001b[0m\n\u001b[1;32m     19\u001b[0m             \u001b[0mindices\u001b[0m \u001b[0;34m=\u001b[0m \u001b[0mnp\u001b[0m\u001b[0;34m.\u001b[0m\u001b[0mrandom\u001b[0m\u001b[0;34m.\u001b[0m\u001b[0mchoice\u001b[0m\u001b[0;34m(\u001b[0m\u001b[0mrange\u001b[0m\u001b[0;34m(\u001b[0m\u001b[0;36m0\u001b[0m\u001b[0;34m,\u001b[0m \u001b[0mself\u001b[0m\u001b[0;34m.\u001b[0m\u001b[0mk\u001b[0m\u001b[0;34m)\u001b[0m\u001b[0;34m,\u001b[0m \u001b[0mreplace\u001b[0m \u001b[0;34m=\u001b[0m \u001b[0;32mTrue\u001b[0m\u001b[0;34m,\u001b[0m \u001b[0msize\u001b[0m \u001b[0;34m=\u001b[0m \u001b[0mdata\u001b[0m\u001b[0;34m.\u001b[0m\u001b[0mshape\u001b[0m\u001b[0;34m[\u001b[0m\u001b[0;36m0\u001b[0m\u001b[0;34m]\u001b[0m\u001b[0;34m)\u001b[0m\u001b[0;34m\u001b[0m\u001b[0;34m\u001b[0m\u001b[0m\n",
      "\u001b[0;32m~/anaconda3/lib/python3.8/site-packages/pandas/core/frame.py\u001b[0m in \u001b[0;36m__getitem__\u001b[0;34m(self, key)\u001b[0m\n\u001b[1;32m   3022\u001b[0m             \u001b[0;32mif\u001b[0m \u001b[0mself\u001b[0m\u001b[0;34m.\u001b[0m\u001b[0mcolumns\u001b[0m\u001b[0;34m.\u001b[0m\u001b[0mnlevels\u001b[0m \u001b[0;34m>\u001b[0m \u001b[0;36m1\u001b[0m\u001b[0;34m:\u001b[0m\u001b[0;34m\u001b[0m\u001b[0;34m\u001b[0m\u001b[0m\n\u001b[1;32m   3023\u001b[0m                 \u001b[0;32mreturn\u001b[0m \u001b[0mself\u001b[0m\u001b[0;34m.\u001b[0m\u001b[0m_getitem_multilevel\u001b[0m\u001b[0;34m(\u001b[0m\u001b[0mkey\u001b[0m\u001b[0;34m)\u001b[0m\u001b[0;34m\u001b[0m\u001b[0;34m\u001b[0m\u001b[0m\n\u001b[0;32m-> 3024\u001b[0;31m             \u001b[0mindexer\u001b[0m \u001b[0;34m=\u001b[0m \u001b[0mself\u001b[0m\u001b[0;34m.\u001b[0m\u001b[0mcolumns\u001b[0m\u001b[0;34m.\u001b[0m\u001b[0mget_loc\u001b[0m\u001b[0;34m(\u001b[0m\u001b[0mkey\u001b[0m\u001b[0;34m)\u001b[0m\u001b[0;34m\u001b[0m\u001b[0;34m\u001b[0m\u001b[0m\n\u001b[0m\u001b[1;32m   3025\u001b[0m             \u001b[0;32mif\u001b[0m \u001b[0mis_integer\u001b[0m\u001b[0;34m(\u001b[0m\u001b[0mindexer\u001b[0m\u001b[0;34m)\u001b[0m\u001b[0;34m:\u001b[0m\u001b[0;34m\u001b[0m\u001b[0;34m\u001b[0m\u001b[0m\n\u001b[1;32m   3026\u001b[0m                 \u001b[0mindexer\u001b[0m \u001b[0;34m=\u001b[0m \u001b[0;34m[\u001b[0m\u001b[0mindexer\u001b[0m\u001b[0;34m]\u001b[0m\u001b[0;34m\u001b[0m\u001b[0;34m\u001b[0m\u001b[0m\n",
      "\u001b[0;32m~/anaconda3/lib/python3.8/site-packages/pandas/core/indexes/base.py\u001b[0m in \u001b[0;36mget_loc\u001b[0;34m(self, key, method, tolerance)\u001b[0m\n\u001b[1;32m   3080\u001b[0m                 \u001b[0;32mreturn\u001b[0m \u001b[0mself\u001b[0m\u001b[0;34m.\u001b[0m\u001b[0m_engine\u001b[0m\u001b[0;34m.\u001b[0m\u001b[0mget_loc\u001b[0m\u001b[0;34m(\u001b[0m\u001b[0mcasted_key\u001b[0m\u001b[0;34m)\u001b[0m\u001b[0;34m\u001b[0m\u001b[0;34m\u001b[0m\u001b[0m\n\u001b[1;32m   3081\u001b[0m             \u001b[0;32mexcept\u001b[0m \u001b[0mKeyError\u001b[0m \u001b[0;32mas\u001b[0m \u001b[0merr\u001b[0m\u001b[0;34m:\u001b[0m\u001b[0;34m\u001b[0m\u001b[0;34m\u001b[0m\u001b[0m\n\u001b[0;32m-> 3082\u001b[0;31m                 \u001b[0;32mraise\u001b[0m \u001b[0mKeyError\u001b[0m\u001b[0;34m(\u001b[0m\u001b[0mkey\u001b[0m\u001b[0;34m)\u001b[0m \u001b[0;32mfrom\u001b[0m \u001b[0merr\u001b[0m\u001b[0;34m\u001b[0m\u001b[0;34m\u001b[0m\u001b[0m\n\u001b[0m\u001b[1;32m   3083\u001b[0m \u001b[0;34m\u001b[0m\u001b[0m\n\u001b[1;32m   3084\u001b[0m         \u001b[0;32mif\u001b[0m \u001b[0mtolerance\u001b[0m \u001b[0;32mis\u001b[0m \u001b[0;32mnot\u001b[0m \u001b[0;32mNone\u001b[0m\u001b[0;34m:\u001b[0m\u001b[0;34m\u001b[0m\u001b[0;34m\u001b[0m\u001b[0m\n",
      "\u001b[0;31mKeyError\u001b[0m: 0"
     ]
    }
   ],
   "source": [
    "model3 = K_Means(k = 10)\n",
    "classification, centroid = model3.fit(X_train)\n",
    "# print(classification)\n",
    "# print(centroid)\n",
    "pred3 = []\n",
    "for x in X_test:\n",
    "    pred.append(model3.predict(x))\n",
    "pred3 = np.array(pred)"
   ]
  },
  {
   "cell_type": "code",
   "execution_count": null,
   "id": "embedded-azerbaijan",
   "metadata": {},
   "outputs": [],
   "source": []
  }
 ],
 "metadata": {
  "kernelspec": {
   "display_name": "Python 3",
   "language": "python",
   "name": "python3"
  },
  "language_info": {
   "codemirror_mode": {
    "name": "ipython",
    "version": 3
   },
   "file_extension": ".py",
   "mimetype": "text/x-python",
   "name": "python",
   "nbconvert_exporter": "python",
   "pygments_lexer": "ipython3",
   "version": "3.8.5"
  }
 },
 "nbformat": 4,
 "nbformat_minor": 5
}
