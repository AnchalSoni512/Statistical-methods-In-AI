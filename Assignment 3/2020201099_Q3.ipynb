{
  "nbformat": 4,
  "nbformat_minor": 0,
  "metadata": {
    "colab": {
      "name": "Ques3.ipynb",
      "provenance": [],
      "collapsed_sections": [
        "BzUBw2vlshwg",
        "HeU6VTzruH7e",
        "z6Ieyi8Rv-ke",
        "axf4ur4auL2S",
        "NCWCRIUPG7Mu",
        "MhiZBZ97HS92",
        "xpVlfE7cJFPV",
        "EhnyWQMEwVht",
        "T9dS8wxQwGlU",
        "l6l6-vVHzyjq",
        "D16tluw80mhp",
        "traH7kD109Ae",
        "iou42S531FIO",
        "uczb4woJ5cBU",
        "BQz0pVAg6Afb"
      ]
    },
    "kernelspec": {
      "name": "python3",
      "display_name": "Python 3"
    },
    "language_info": {
      "name": "python"
    },
    "accelerator": "GPU"
  },
  "cells": [
    {
      "cell_type": "markdown",
      "metadata": {
        "id": "BzUBw2vlshwg"
      },
      "source": [
        "# fully functioning MLP classifier for label classification on MNIST dataset"
      ]
    },
    {
      "cell_type": "code",
      "metadata": {
        "id": "eFhj_esFaz4n"
      },
      "source": [
        "# importing libraries\n",
        "import numpy as np\n",
        "from tensorflow.keras.datasets import mnist\n",
        "from tensorflow.keras.utils import to_categorical\n",
        "from tensorflow.keras.models import Sequential\n",
        "from tensorflow.keras.layers import Dense,Activation,Dropout\n",
        "import matplotlib.pyplot as plt\n",
        "from tensorflow.keras import initializers\n",
        "from keras.optimizers import SGD"
      ],
      "execution_count": 3,
      "outputs": []
    },
    {
      "cell_type": "code",
      "metadata": {
        "colab": {
          "base_uri": "https://localhost:8080/"
        },
        "id": "G4amseL1Cnf7",
        "outputId": "a62fc496-8ce4-413b-888d-0f4b59fca0ba"
      },
      "source": [
        "# load the dataset and split it in train and test data in 70:30 ratio\n",
        "(x_train, y_train), (x_test, y_test) = mnist.load_data()"
      ],
      "execution_count": 4,
      "outputs": [
        {
          "output_type": "stream",
          "text": [
            "Downloading data from https://storage.googleapis.com/tensorflow/tf-keras-datasets/mnist.npz\n",
            "11493376/11490434 [==============================] - 0s 0us/step\n"
          ],
          "name": "stdout"
        }
      ]
    },
    {
      "cell_type": "code",
      "metadata": {
        "colab": {
          "base_uri": "https://localhost:8080/"
        },
        "id": "pkkiRx4xDYre",
        "outputId": "59e7a15b-9127-499e-cb61-d92f9cbd4fb9"
      },
      "source": [
        "num_labels = len(np.unique(y_train))\n",
        "print(\"total labels {}\".format(num_labels))\n",
        "print(\"labels:{0}\".format(np.unique(y_train)))"
      ],
      "execution_count": 5,
      "outputs": [
        {
          "output_type": "stream",
          "text": [
            "total labels 10\n",
            "labels:[0 1 2 3 4 5 6 7 8 9]\n"
          ],
          "name": "stdout"
        }
      ]
    },
    {
      "cell_type": "code",
      "metadata": {
        "colab": {
          "base_uri": "https://localhost:8080/"
        },
        "id": "LHfZaS7HGslE",
        "outputId": "52295341-46c1-405a-f13d-d6301bd53a26"
      },
      "source": [
        "# one hot encodeing\n",
        "y_train = to_categorical(y_train)\n",
        "y_test = to_categorical(y_test)\n",
        "\n",
        "img_size = x_train.shape[1]\n",
        "input_size = img_size*img_size\n",
        "\n",
        "x_train = np.reshape(x_train,[-1,input_size])\n",
        "x_test = np.reshape(x_test,[-1,input_size])\n",
        "\n",
        "x_train = x_train.astype('float32')/255\n",
        "x_test = x_test.astype('float32')/255\n",
        "\n",
        "print(x_train.shape,x_test.shape)"
      ],
      "execution_count": 6,
      "outputs": [
        {
          "output_type": "stream",
          "text": [
            "(60000, 784) (10000, 784)\n"
          ],
          "name": "stdout"
        }
      ]
    },
    {
      "cell_type": "code",
      "metadata": {
        "id": "ayqw4okgbsMo"
      },
      "source": [
        "# training accuracy vs epochs plot\n",
        "def accuracy_plot(History, epochs):\n",
        "  N = np.arange(0, epochs)\n",
        "  plt.style.use(\"ggplot\")\n",
        "  plt.figure()\n",
        "  plt.plot(N, History.history[\"accuracy\"], label=\"accuracy\")\n",
        "  plt.plot(N, History.history[\"val_accuracy\"], label=\"val_accuraccy\")\n",
        "  plt.title(\"Accuracy vs epochs\")\n",
        "  plt.xlabel(\"Epoch #\")\n",
        "  plt.ylabel(\"accuracy\")\n",
        "  plt.legend(loc=\"upper right\")\n",
        "  plt.savefig(\"plot\")"
      ],
      "execution_count": 7,
      "outputs": []
    },
    {
      "cell_type": "code",
      "metadata": {
        "id": "y5d09Uf5MIVk"
      },
      "source": [
        "# training loss vs epochs plot\n",
        "def loss_plot(History, epochs):\n",
        "  N = np.arange(0, epochs)\n",
        "  plt.style.use(\"ggplot\")\n",
        "  plt.figure()\n",
        "  plt.plot(N, History.history[\"loss\"], label=\"train_loss\")\n",
        "  plt.plot(N, History.history[\"val_loss\"], label=\"val_loss\")\n",
        "  plt.title(\"Training Loss vs epochs\")\n",
        "  plt.xlabel(\"Epoch #\")\n",
        "  plt.ylabel(\"Loss\")\n",
        "  plt.legend(loc=\"upper right\")\n",
        "  plt.savefig(\"plot\")"
      ],
      "execution_count": 8,
      "outputs": []
    },
    {
      "cell_type": "code",
      "metadata": {
        "id": "JykApZvVJaQT"
      },
      "source": [
        "# MLP function returning model object\n",
        "batch_Size = 128\n",
        "def MLP(kinit='glorot_normal'):\n",
        "  \n",
        "  hidden_units = 256\n",
        "  dropout = 0.45\n",
        "  model = Sequential()\n",
        "\n",
        "  model.add(Dense(hidden_units,input_dim = input_size, kernel_initializer=kinit))\n",
        "  model.add(Activation('relu'))\n",
        "  model.add(Dropout(dropout))\n",
        "\n",
        "  model.add(Dense(hidden_units,kernel_initializer=kinit))\n",
        "  model.add(Activation('relu'))\n",
        "  model.add(Dropout(dropout))\n",
        "\n",
        "  model.add(Dense(num_labels))\n",
        "  model.add(Activation('softmax'))\n",
        "\n",
        "  return model\n",
        "\n",
        "  # model.summary()"
      ],
      "execution_count": 9,
      "outputs": []
    },
    {
      "cell_type": "markdown",
      "metadata": {
        "id": "HeU6VTzruH7e"
      },
      "source": [
        "# part 1"
      ]
    },
    {
      "cell_type": "markdown",
      "metadata": {
        "id": "z6Ieyi8Rv-ke"
      },
      "source": [
        "## 1. Experiment with different optimizers"
      ]
    },
    {
      "cell_type": "markdown",
      "metadata": {
        "id": "axf4ur4auL2S"
      },
      "source": [
        "### 1.(a) `adam` optimizer"
      ]
    },
    {
      "cell_type": "code",
      "metadata": {
        "colab": {
          "base_uri": "https://localhost:8080/"
        },
        "id": "w9HABLpsLTx4",
        "outputId": "fc1af389-0de5-42e3-e514-1144e10a9967"
      },
      "source": [
        "model1 = MLP()\n",
        "model1.compile(loss='categorical_crossentropy', optimizer='adam',metrics=['accuracy'])\n",
        "history1 = model1.fit(x_train,y_train,epochs = 5, batch_size = batch_Size, validation_data = (x_test, y_test))"
      ],
      "execution_count": 10,
      "outputs": [
        {
          "output_type": "stream",
          "text": [
            "Epoch 1/5\n",
            "469/469 [==============================] - 5s 9ms/step - loss: 0.7350 - accuracy: 0.7668 - val_loss: 0.1474 - val_accuracy: 0.9558\n",
            "Epoch 2/5\n",
            "469/469 [==============================] - 4s 8ms/step - loss: 0.2072 - accuracy: 0.9384 - val_loss: 0.1024 - val_accuracy: 0.9691\n",
            "Epoch 3/5\n",
            "469/469 [==============================] - 4s 8ms/step - loss: 0.1556 - accuracy: 0.9533 - val_loss: 0.0919 - val_accuracy: 0.9713\n",
            "Epoch 4/5\n",
            "469/469 [==============================] - 4s 7ms/step - loss: 0.1302 - accuracy: 0.9614 - val_loss: 0.0791 - val_accuracy: 0.9764\n",
            "Epoch 5/5\n",
            "469/469 [==============================] - 4s 8ms/step - loss: 0.1133 - accuracy: 0.9655 - val_loss: 0.0752 - val_accuracy: 0.9769\n"
          ],
          "name": "stdout"
        }
      ]
    },
    {
      "cell_type": "code",
      "metadata": {
        "colab": {
          "base_uri": "https://localhost:8080/"
        },
        "id": "4o419y1pLgab",
        "outputId": "5f9fa74d-8354-471b-87a7-d796d7faea4d"
      },
      "source": [
        "# Evaluate the model on the test data using `evaluate`\n",
        "_, acc1 = model1.evaluate(x_test,y_test,batch_size = batch_Size, verbose=0)\n",
        "print(\"Test accuracy for adam optimizer: \",acc1*100)"
      ],
      "execution_count": 11,
      "outputs": [
        {
          "output_type": "stream",
          "text": [
            "Test accuracy for adam optimizer:  97.68999814987183\n"
          ],
          "name": "stdout"
        }
      ]
    },
    {
      "cell_type": "code",
      "metadata": {
        "id": "fBwaLUVJCYOv"
      },
      "source": [
        "# accuracy_plot(history1,5),loss_plot(history1,5)"
      ],
      "execution_count": 48,
      "outputs": []
    },
    {
      "cell_type": "markdown",
      "metadata": {
        "id": "NCWCRIUPG7Mu"
      },
      "source": [
        "###  1.(b)`RMSprop` optimiser"
      ]
    },
    {
      "cell_type": "code",
      "metadata": {
        "colab": {
          "base_uri": "https://localhost:8080/"
        },
        "id": "BK6VefZCD83H",
        "outputId": "66b23995-138d-4696-c70c-80bb1928700c"
      },
      "source": [
        "model2 = MLP()\n",
        "model2.compile(loss='categorical_crossentropy', optimizer='RMSprop',metrics=['accuracy'])\n",
        "history2 = model2.fit(x_train,y_train,epochs = 5, batch_size = batch_Size,validation_data = (x_test, y_test))"
      ],
      "execution_count": 13,
      "outputs": [
        {
          "output_type": "stream",
          "text": [
            "Epoch 1/5\n",
            "469/469 [==============================] - 5s 9ms/step - loss: 0.6464 - accuracy: 0.7985 - val_loss: 0.1530 - val_accuracy: 0.9530\n",
            "Epoch 2/5\n",
            "469/469 [==============================] - 4s 8ms/step - loss: 0.2066 - accuracy: 0.9393 - val_loss: 0.1116 - val_accuracy: 0.9660\n",
            "Epoch 3/5\n",
            "469/469 [==============================] - 4s 8ms/step - loss: 0.1551 - accuracy: 0.9556 - val_loss: 0.1014 - val_accuracy: 0.9721\n",
            "Epoch 4/5\n",
            "469/469 [==============================] - 4s 9ms/step - loss: 0.1345 - accuracy: 0.9603 - val_loss: 0.0945 - val_accuracy: 0.9744\n",
            "Epoch 5/5\n",
            "469/469 [==============================] - 4s 8ms/step - loss: 0.1232 - accuracy: 0.9651 - val_loss: 0.0887 - val_accuracy: 0.9778\n"
          ],
          "name": "stdout"
        }
      ]
    },
    {
      "cell_type": "code",
      "metadata": {
        "colab": {
          "base_uri": "https://localhost:8080/"
        },
        "id": "ZK_gWqOmHDrU",
        "outputId": "d65de7c7-b9ea-4d71-8541-c97c1e3a4b5d"
      },
      "source": [
        "_, acc2 = model2.evaluate(x_test,y_test,batch_size = batch_Size, verbose=0)\n",
        "print(\"Test accuracy for RMSprop optimizer: \",acc2*100)"
      ],
      "execution_count": 14,
      "outputs": [
        {
          "output_type": "stream",
          "text": [
            "Test accuracy for RMSprop optimizer:  97.78000116348267\n"
          ],
          "name": "stdout"
        }
      ]
    },
    {
      "cell_type": "code",
      "metadata": {
        "id": "7kxymrYHHIId"
      },
      "source": [
        "# accuracy_plot(history2,5),loss_plot(history2,5)"
      ],
      "execution_count": 47,
      "outputs": []
    },
    {
      "cell_type": "markdown",
      "metadata": {
        "id": "MhiZBZ97HS92"
      },
      "source": [
        "### 1.(c) `SGD with momentum`"
      ]
    },
    {
      "cell_type": "code",
      "metadata": {
        "colab": {
          "base_uri": "https://localhost:8080/"
        },
        "id": "9xx9yMF8HQZr",
        "outputId": "06a5c5f9-9d54-4485-975b-6cb34cebcae9"
      },
      "source": [
        "model3 = MLP()\n",
        "model3.compile(loss='categorical_crossentropy', optimizer=SGD( momentum = 0.7 ),metrics=['accuracy'])\n",
        "history3 = model3.fit(x_train,y_train,epochs = 5, batch_size = batch_Size,validation_data = (x_test, y_test))"
      ],
      "execution_count": 16,
      "outputs": [
        {
          "output_type": "stream",
          "text": [
            "Epoch 1/5\n",
            "469/469 [==============================] - 4s 8ms/step - loss: 1.4706 - accuracy: 0.5118 - val_loss: 0.3713 - val_accuracy: 0.8973\n",
            "Epoch 2/5\n",
            "469/469 [==============================] - 3s 7ms/step - loss: 0.5100 - accuracy: 0.8482 - val_loss: 0.2774 - val_accuracy: 0.9200\n",
            "Epoch 3/5\n",
            "469/469 [==============================] - 3s 7ms/step - loss: 0.4018 - accuracy: 0.8808 - val_loss: 0.2364 - val_accuracy: 0.9323\n",
            "Epoch 4/5\n",
            "469/469 [==============================] - 3s 7ms/step - loss: 0.3415 - accuracy: 0.8984 - val_loss: 0.2061 - val_accuracy: 0.9397\n",
            "Epoch 5/5\n",
            "469/469 [==============================] - 4s 8ms/step - loss: 0.2995 - accuracy: 0.9122 - val_loss: 0.1848 - val_accuracy: 0.9457\n"
          ],
          "name": "stdout"
        }
      ]
    },
    {
      "cell_type": "code",
      "metadata": {
        "colab": {
          "base_uri": "https://localhost:8080/"
        },
        "id": "yr-ou_THHtIj",
        "outputId": "0d0473f3-a02e-44fe-82c4-8569629b0713"
      },
      "source": [
        "_, acc3 = model3.evaluate(x_test,y_test,batch_size = batch_Size, verbose=0)\n",
        "print(\"Test accuracy for SGD with momentum optimizer: \",acc3*100)"
      ],
      "execution_count": 17,
      "outputs": [
        {
          "output_type": "stream",
          "text": [
            "Test accuracy for SGD with momentum optimizer:  94.56999897956848\n"
          ],
          "name": "stdout"
        }
      ]
    },
    {
      "cell_type": "code",
      "metadata": {
        "id": "wF0H_r-oISJl"
      },
      "source": [
        "# accuracy_plot(history3,5)\n",
        "# loss_plot(history3,5)"
      ],
      "execution_count": 46,
      "outputs": []
    },
    {
      "cell_type": "markdown",
      "metadata": {
        "id": "xpVlfE7cJFPV"
      },
      "source": [
        "### 1.(d) `SGD without momentum`"
      ]
    },
    {
      "cell_type": "code",
      "metadata": {
        "colab": {
          "base_uri": "https://localhost:8080/"
        },
        "id": "7QdmsUOfI_KK",
        "outputId": "cc1cfe0f-e847-4fae-abbc-e3c8cfaf5ae8"
      },
      "source": [
        "model4 = MLP()\n",
        "model4.compile(loss='categorical_crossentropy', optimizer=SGD(momentum = 0.0), metrics=['accuracy'])\n",
        "history4 = model4.fit(x_train,y_train,epochs = 5, batch_size = batch_Size,validation_data = (x_test, y_test))"
      ],
      "execution_count": 19,
      "outputs": [
        {
          "output_type": "stream",
          "text": [
            "Epoch 1/5\n",
            "469/469 [==============================] - 4s 8ms/step - loss: 1.9685 - accuracy: 0.3297 - val_loss: 0.7471 - val_accuracy: 0.8334\n",
            "Epoch 2/5\n",
            "469/469 [==============================] - 3s 7ms/step - loss: 0.9165 - accuracy: 0.7154 - val_loss: 0.4645 - val_accuracy: 0.8819\n",
            "Epoch 3/5\n",
            "469/469 [==============================] - 3s 7ms/step - loss: 0.6630 - accuracy: 0.7973 - val_loss: 0.3796 - val_accuracy: 0.8975\n",
            "Epoch 4/5\n",
            "469/469 [==============================] - 3s 7ms/step - loss: 0.5662 - accuracy: 0.8277 - val_loss: 0.3357 - val_accuracy: 0.9041\n",
            "Epoch 5/5\n",
            "469/469 [==============================] - 3s 7ms/step - loss: 0.4988 - accuracy: 0.8504 - val_loss: 0.3076 - val_accuracy: 0.9113\n"
          ],
          "name": "stdout"
        }
      ]
    },
    {
      "cell_type": "code",
      "metadata": {
        "colab": {
          "base_uri": "https://localhost:8080/"
        },
        "id": "h5Ef5frIgcwO",
        "outputId": "d3f35180-0e87-46f0-9051-9506cf8be161"
      },
      "source": [
        "_, acc4 = model4.evaluate(x_test,y_test,batch_size = batch_Size, verbose=0)\n",
        "print(\"Test accuracy for SGD without momentum optimizer: \",acc4*100)"
      ],
      "execution_count": 20,
      "outputs": [
        {
          "output_type": "stream",
          "text": [
            "Test accuracy for SGD without momentum optimizer:  91.1300003528595\n"
          ],
          "name": "stdout"
        }
      ]
    },
    {
      "cell_type": "code",
      "metadata": {
        "id": "tgOwrlqYglRZ"
      },
      "source": [
        "# accuracy_plot(history4,5)\n",
        "# loss_plot(history4,5)"
      ],
      "execution_count": 45,
      "outputs": []
    },
    {
      "cell_type": "markdown",
      "metadata": {
        "id": "yZSwOtW2oqcM"
      },
      "source": [
        "### comparison plot"
      ]
    },
    {
      "cell_type": "code",
      "metadata": {
        "colab": {
          "base_uri": "https://localhost:8080/",
          "height": 299
        },
        "id": "DqMgiFHTos-7",
        "outputId": "8c969412-4fd2-41ba-a352-4f33ca5cb37e"
      },
      "source": [
        "# training loss vs epochs plot\n",
        "epochs = 5\n",
        "hist = [[history1,\"adam\"],[history2,\"RMSprop\"],[history3,\"SGD w momen\"],[history4,\"SGD w/o momen\"]]\n",
        "N = np.arange(0, epochs)\n",
        "plt.style.use(\"ggplot\")\n",
        "plt.figure()\n",
        "for h in hist:\n",
        "  plt.plot(N, h[0].history[\"loss\"], label=h[1])\n",
        "# plt.plot(N, History.history[\"val_loss\"], label=\"val_loss\")\n",
        "plt.title(\"Training Loss vs epochs\")\n",
        "plt.xlabel(\"Epoch #\")\n",
        "plt.ylabel(\"Loss\")\n",
        "plt.legend(loc=\"upper right\")\n",
        "plt.savefig(\"plot\")"
      ],
      "execution_count": 23,
      "outputs": [
        {
          "output_type": "display_data",
          "data": {
            "image/png": "[encoded data removed]",
            "text/plain": [
              "<Figure size 432x288 with 1 Axes>"
            ]
          },
          "metadata": {
            "tags": []
          }
        }
      ]
    },
    {
      "cell_type": "code",
      "metadata": {
        "colab": {
          "base_uri": "https://localhost:8080/",
          "height": 299
        },
        "id": "MNWbw5WuqNdJ",
        "outputId": "eb522980-c533-40a0-e6c6-7c4fbd3786af"
      },
      "source": [
        "# training accuracy vs epochs plot\n",
        "N = np.arange(0, epochs)\n",
        "plt.style.use(\"ggplot\")\n",
        "plt.figure()\n",
        "for h in hist:\n",
        "  plt.plot(N, h[0].history[\"accuracy\"], label=h[1])\n",
        "# plt.plot(N, History.history[\"val_accuracy\"], label=\"val_accuraccy\")\n",
        "plt.title(\"Accuracy vs epochs\")\n",
        "plt.xlabel(\"Epoch #\")\n",
        "plt.ylabel(\"accuracy\")\n",
        "plt.legend(loc=\"upper right\")\n",
        "plt.savefig(\"plot\")"
      ],
      "execution_count": 24,
      "outputs": [
        {
          "output_type": "display_data",
          "data": {
            "image/png": "[encoded data removed]",
            "text/plain": [
              "<Figure size 432x288 with 1 Axes>"
            ]
          },
          "metadata": {
            "tags": []
          }
        }
      ]
    },
    {
      "cell_type": "markdown",
      "metadata": {
        "id": "EhnyWQMEwVht"
      },
      "source": [
        "## 2. Experiment with different weight initialisation "
      ]
    },
    {
      "cell_type": "markdown",
      "metadata": {
        "id": "T9dS8wxQwGlU"
      },
      "source": [
        "### 2.(a) Xavier weight initialization"
      ]
    },
    {
      "cell_type": "code",
      "metadata": {
        "colab": {
          "base_uri": "https://localhost:8080/"
        },
        "id": "xUc2H_4dxhLk",
        "outputId": "02e36d81-718a-4966-e804-b585cfea7c7e"
      },
      "source": [
        "model5 = MLP('glorot_normal')\n",
        "model5.compile(loss='categorical_crossentropy', optimizer=SGD(),metrics=['accuracy'])\n",
        "history5 = model5.fit(x_train,y_train,epochs = 5, batch_size = batch_Size,validation_data = (x_test, y_test))"
      ],
      "execution_count": 25,
      "outputs": [
        {
          "output_type": "stream",
          "text": [
            "Epoch 1/5\n",
            "469/469 [==============================] - 4s 7ms/step - loss: 1.9519 - accuracy: 0.3256 - val_loss: 0.7217 - val_accuracy: 0.8356\n",
            "Epoch 2/5\n",
            "469/469 [==============================] - 3s 7ms/step - loss: 0.8959 - accuracy: 0.7167 - val_loss: 0.4689 - val_accuracy: 0.8790\n",
            "Epoch 3/5\n",
            "469/469 [==============================] - 3s 7ms/step - loss: 0.6656 - accuracy: 0.7945 - val_loss: 0.3841 - val_accuracy: 0.8968\n",
            "Epoch 4/5\n",
            "469/469 [==============================] - 3s 7ms/step - loss: 0.5620 - accuracy: 0.8281 - val_loss: 0.3389 - val_accuracy: 0.9062\n",
            "Epoch 5/5\n",
            "469/469 [==============================] - 3s 7ms/step - loss: 0.5011 - accuracy: 0.8477 - val_loss: 0.3088 - val_accuracy: 0.9121\n"
          ],
          "name": "stdout"
        }
      ]
    },
    {
      "cell_type": "code",
      "metadata": {
        "colab": {
          "base_uri": "https://localhost:8080/"
        },
        "id": "atBmMAeCy3pI",
        "outputId": "3af119a2-c157-43fa-fa9b-bed8f4a73c98"
      },
      "source": [
        "_, acc5 = model5.evaluate(x_test,y_test,batch_size = batch_Size, verbose=0)\n",
        "print(\"test accuracy for Xaviers initialisation\",acc5*100)"
      ],
      "execution_count": 26,
      "outputs": [
        {
          "output_type": "stream",
          "text": [
            "test accuracy for Xaviers initialisation 91.21000170707703\n"
          ],
          "name": "stdout"
        }
      ]
    },
    {
      "cell_type": "code",
      "metadata": {
        "id": "3MEGwkGgzfOT"
      },
      "source": [
        "# accuracy_plot(history5,5)\n",
        "# loss_plot(history5,5)"
      ],
      "execution_count": 49,
      "outputs": []
    },
    {
      "cell_type": "markdown",
      "metadata": {
        "id": "l6l6-vVHzyjq"
      },
      "source": [
        "### 2.(b) uiform weight initialization"
      ]
    },
    {
      "cell_type": "code",
      "metadata": {
        "colab": {
          "base_uri": "https://localhost:8080/"
        },
        "id": "gPrUrTL0z2cY",
        "outputId": "b4439275-245c-43dc-a84b-5d9e45b479ed"
      },
      "source": [
        "model6 = MLP('uniform')\n",
        "model6.compile(loss='categorical_crossentropy', optimizer=SGD(),metrics=['accuracy'])\n",
        "history6 = model6.fit(x_train,y_train,epochs = 5, batch_size = batch_Size,validation_data = (x_test, y_test))"
      ],
      "execution_count": 28,
      "outputs": [
        {
          "output_type": "stream",
          "text": [
            "Epoch 1/5\n",
            "469/469 [==============================] - 4s 8ms/step - loss: 2.1264 - accuracy: 0.2947 - val_loss: 1.0310 - val_accuracy: 0.7960\n",
            "Epoch 2/5\n",
            "469/469 [==============================] - 3s 7ms/step - loss: 1.0426 - accuracy: 0.6944 - val_loss: 0.5410 - val_accuracy: 0.8678\n",
            "Epoch 3/5\n",
            "469/469 [==============================] - 3s 7ms/step - loss: 0.6857 - accuracy: 0.7954 - val_loss: 0.4201 - val_accuracy: 0.8900\n",
            "Epoch 4/5\n",
            "469/469 [==============================] - 3s 7ms/step - loss: 0.5641 - accuracy: 0.8299 - val_loss: 0.3661 - val_accuracy: 0.9013\n",
            "Epoch 5/5\n",
            "469/469 [==============================] - 3s 7ms/step - loss: 0.4949 - accuracy: 0.8525 - val_loss: 0.3320 - val_accuracy: 0.9082\n"
          ],
          "name": "stdout"
        }
      ]
    },
    {
      "cell_type": "code",
      "metadata": {
        "id": "KPqTQZAW0HdU"
      },
      "source": [
        "_, acc6 = model6.evaluate(x_test,y_test,batch_size = batch_Size, verbose=0)\n",
        "print(\"test accuracy for uniform initialisation\",acc6*100)\n",
        "# accuracy_plot(history6,5)\n",
        "# loss_plot(history6,5)"
      ],
      "execution_count": null,
      "outputs": []
    },
    {
      "cell_type": "markdown",
      "metadata": {
        "id": "D16tluw80mhp"
      },
      "source": [
        "### 2.(c) normal weight initialization"
      ]
    },
    {
      "cell_type": "code",
      "metadata": {
        "colab": {
          "base_uri": "https://localhost:8080/"
        },
        "id": "6xD1Fzbs0UB9",
        "outputId": "79bbb422-5783-41f3-d01a-6a8f7b2404fb"
      },
      "source": [
        "model7 = MLP('normal')\n",
        "model7.compile(loss='categorical_crossentropy', optimizer=SGD(),metrics=['accuracy'])\n",
        "history7 = model7.fit(x_train,y_train,epochs = 5, batch_size = batch_Size,validation_data = (x_test, y_test))"
      ],
      "execution_count": 30,
      "outputs": [
        {
          "output_type": "stream",
          "text": [
            "Epoch 1/5\n",
            "469/469 [==============================] - 4s 8ms/step - loss: 1.9695 - accuracy: 0.3247 - val_loss: 0.7486 - val_accuracy: 0.8307\n",
            "Epoch 2/5\n",
            "469/469 [==============================] - 3s 7ms/step - loss: 0.9166 - accuracy: 0.7110 - val_loss: 0.4751 - val_accuracy: 0.8761\n",
            "Epoch 3/5\n",
            "469/469 [==============================] - 3s 7ms/step - loss: 0.6850 - accuracy: 0.7856 - val_loss: 0.3862 - val_accuracy: 0.8960\n",
            "Epoch 4/5\n",
            "469/469 [==============================] - 3s 7ms/step - loss: 0.5693 - accuracy: 0.8280 - val_loss: 0.3416 - val_accuracy: 0.9057\n",
            "Epoch 5/5\n",
            "469/469 [==============================] - 3s 7ms/step - loss: 0.5053 - accuracy: 0.8468 - val_loss: 0.3117 - val_accuracy: 0.9121\n"
          ],
          "name": "stdout"
        }
      ]
    },
    {
      "cell_type": "code",
      "metadata": {
        "id": "45bbAzSm0eZx"
      },
      "source": [
        "_, acc7 = model7.evaluate(x_test,y_test,batch_size = batch_Size, verbose=0)\n",
        "print(\"test accuracy for normal initialisation\",acc7*100)\n",
        "# accuracy_plot(history7,5)\n",
        "# loss_plot(history7,5)"
      ],
      "execution_count": null,
      "outputs": []
    },
    {
      "cell_type": "code",
      "metadata": {
        "colab": {
          "base_uri": "https://localhost:8080/",
          "height": 316
        },
        "id": "tkjmXCd7rGer",
        "outputId": "bdb433fa-6608-430f-85a1-0d4b8712200e"
      },
      "source": [
        "# training loss vs epochs plot\n",
        "epochs = 5\n",
        "hist2 = [[history5,\"Xavier\"],[history6,\"uniorm\"],[history7,\"normal\"]]\n",
        "N = np.arange(0, epochs)\n",
        "plt.style.use(\"ggplot\")\n",
        "plt.figure()\n",
        "for h in hist2:\n",
        "  plt.plot(N, h[0].history[\"loss\"], label=h[1])\n",
        "# plt.plot(N, History.history[\"val_loss\"], label=\"val_loss\")\n",
        "plt.title(\"Training Loss vs epochs\")\n",
        "plt.xlabel(\"Epoch #\")\n",
        "plt.ylabel(\"Loss\")\n",
        "plt.legend(loc=\"upper right\")\n",
        "# plt.savefig(\"plot\")\n"
      ],
      "execution_count": 32,
      "outputs": [
        {
          "output_type": "execute_result",
          "data": {
            "text/plain": [
              "<matplotlib.legend.Legend at 0x7f3530dc5290>"
            ]
          },
          "metadata": {
            "tags": []
          },
          "execution_count": 32
        },
        {
          "output_type": "display_data",
          "data": {
            "image/png": "[encoded data removed]",
            "text/plain": [
              "<Figure size 432x288 with 1 Axes>"
            ]
          },
          "metadata": {
            "tags": []
          }
        }
      ]
    },
    {
      "cell_type": "code",
      "metadata": {
        "colab": {
          "base_uri": "https://localhost:8080/",
          "height": 316
        },
        "id": "auKJhkQHrrE5",
        "outputId": "ab805dcf-946a-45d7-9a2b-e051114599fb"
      },
      "source": [
        "# training accuracy vs epochs plot\n",
        "N = np.arange(0, epochs)\n",
        "plt.style.use(\"ggplot\")\n",
        "plt.figure()\n",
        "for h in hist2:\n",
        "  plt.plot(N, h[0].history[\"accuracy\"], label=h[1])\n",
        "# plt.plot(N, History.history[\"val_accuracy\"], label=\"val_accuraccy\")\n",
        "plt.title(\"Accuracy vs epochs\")\n",
        "plt.xlabel(\"Epoch #\")\n",
        "plt.ylabel(\"accuracy\")\n",
        "plt.legend(loc=\"upper right\")\n",
        "# plt.savefig(\"plot\")"
      ],
      "execution_count": 34,
      "outputs": [
        {
          "output_type": "execute_result",
          "data": {
            "text/plain": [
              "<matplotlib.legend.Legend at 0x7f3530dd6250>"
            ]
          },
          "metadata": {
            "tags": []
          },
          "execution_count": 34
        },
        {
          "output_type": "display_data",
          "data": {
            "image/png": "[encoded data removed]",
            "text/plain": [
              "<Figure size 432x288 with 1 Axes>"
            ]
          },
          "metadata": {
            "tags": []
          }
        }
      ]
    },
    {
      "cell_type": "markdown",
      "metadata": {
        "id": "traH7kD109Ae"
      },
      "source": [
        "## 3. different learning rates and performing exponential annealing on the learning rate."
      ]
    },
    {
      "cell_type": "markdown",
      "metadata": {
        "id": "iou42S531FIO"
      },
      "source": [
        "### 3.(a) learning rates and exponential annealing"
      ]
    },
    {
      "cell_type": "code",
      "metadata": {
        "colab": {
          "base_uri": "https://localhost:8080/"
        },
        "id": "kxPxQlCN1DzC",
        "outputId": "222c27ea-04d9-4892-ce75-2b5a5a6a448e"
      },
      "source": [
        "from tensorflow import keras\n",
        "from keras.optimizers.schedules import ExponentialDecay\n",
        "learning_rates =  [ 0.1, 0.01, 0.001]\n",
        "exponential_loss = []\n",
        "history_3a = []\n",
        "models_3a = []\n",
        "for lr in learning_rates:\n",
        "  lr_schedule = ExponentialDecay(lr, decay_steps=100000, decay_rate=0.96, staircase=True)\n",
        "  opt = keras.optimizers.Adam(learning_rate=lr_schedule)\n",
        "  model = MLP()\n",
        "  model.compile(loss='categorical_crossentropy', optimizer=opt,metrics=['accuracy'])\n",
        "  history = model.fit(x_train,y_train,epochs = 5, batch_size = batch_Size,validation_data = (x_test, y_test))\n",
        "  models_3a.append(model)\n",
        "  history_3a.append(history)\n",
        "  exponential_loss.append(model.history.history['loss'])"
      ],
      "execution_count": 35,
      "outputs": [
        {
          "output_type": "stream",
          "text": [
            "469/469 [==============================] - 4s 8ms/step - loss: 5.3811 - accuracy: 0.1501 - val_loss: 2.1916 - val_accuracy: 0.1473\n",
            "Epoch 2/5\n",
            "469/469 [==============================] - 4s 8ms/step - loss: 2.2462 - accuracy: 0.1288 - val_loss: 2.1287 - val_accuracy: 0.1708\n",
            "Epoch 3/5\n",
            "469/469 [==============================] - 4s 8ms/step - loss: 2.2246 - accuracy: 0.1380 - val_loss: 2.0763 - val_accuracy: 0.1887\n",
            "Epoch 4/5\n",
            "469/469 [==============================] - 4s 8ms/step - loss: 2.2313 - accuracy: 0.1364 - val_loss: 2.1174 - val_accuracy: 0.2033\n",
            "Epoch 5/5\n",
            "469/469 [==============================] - 4s 8ms/step - loss: 2.2403 - accuracy: 0.1328 - val_loss: 2.0579 - val_accuracy: 0.2062\n",
            "Epoch 1/5\n",
            "469/469 [==============================] - 4s 8ms/step - loss: 0.6113 - accuracy: 0.8114 - val_loss: 0.1902 - val_accuracy: 0.9478\n",
            "Epoch 2/5\n",
            "469/469 [==============================] - 4s 8ms/step - loss: 0.3705 - accuracy: 0.8993 - val_loss: 0.1853 - val_accuracy: 0.9509\n",
            "Epoch 3/5\n",
            "469/469 [==============================] - 4s 8ms/step - loss: 0.3651 - accuracy: 0.9062 - val_loss: 0.1799 - val_accuracy: 0.9511\n",
            "Epoch 4/5\n",
            "469/469 [==============================] - 4s 8ms/step - loss: 0.3369 - accuracy: 0.9158 - val_loss: 0.1769 - val_accuracy: 0.9553\n",
            "Epoch 5/5\n",
            "469/469 [==============================] - 4s 8ms/step - loss: 0.3361 - accuracy: 0.9192 - val_loss: 0.1808 - val_accuracy: 0.9548\n",
            "Epoch 1/5\n",
            "469/469 [==============================] - 4s 8ms/step - loss: 0.7278 - accuracy: 0.7700 - val_loss: 0.1468 - val_accuracy: 0.9564\n",
            "Epoch 2/5\n",
            "469/469 [==============================] - 4s 8ms/step - loss: 0.2040 - accuracy: 0.9384 - val_loss: 0.1032 - val_accuracy: 0.9688\n",
            "Epoch 3/5\n",
            "469/469 [==============================] - 4s 8ms/step - loss: 0.1515 - accuracy: 0.9540 - val_loss: 0.0902 - val_accuracy: 0.9726\n",
            "Epoch 4/5\n",
            "469/469 [==============================] - 4s 8ms/step - loss: 0.1243 - accuracy: 0.9607 - val_loss: 0.0811 - val_accuracy: 0.9743\n",
            "Epoch 5/5\n",
            "469/469 [==============================] - 4s 8ms/step - loss: 0.1089 - accuracy: 0.9673 - val_loss: 0.0798 - val_accuracy: 0.9740\n"
          ],
          "name": "stdout"
        }
      ]
    },
    {
      "cell_type": "code",
      "metadata": {
        "colab": {
          "base_uri": "https://localhost:8080/"
        },
        "id": "hTBxxWamM_QW",
        "outputId": "0afc3b2c-090a-40f4-ae32-fc80ae5522ec"
      },
      "source": [
        "# for learning rate 0.1\n",
        "_, accr1 = models_3a[0].evaluate(x_test,y_test,batch_size = batch_Size, verbose=0)\n",
        "print(\"Test accuracy when encoded data is used as input: \",accr1*100)"
      ],
      "execution_count": 40,
      "outputs": [
        {
          "output_type": "stream",
          "text": [
            "Test accuracy when encoded data is used as input:  94.62000036239624\n"
          ],
          "name": "stdout"
        }
      ]
    },
    {
      "cell_type": "code",
      "metadata": {
        "colab": {
          "base_uri": "https://localhost:8080/"
        },
        "id": "Hg2_xQUHQFLh",
        "outputId": "1d526341-68ed-4c65-de82-d6bc29d5824b"
      },
      "source": [
        "# for learning rate 0.01\n",
        "_, accr2 = models_3a[1].evaluate(x_test,y_test,batch_size = batch_Size, verbose=0)\n",
        "print(\"Test accuracy when encoded data is used as input: \",accr2*100)"
      ],
      "execution_count": 38,
      "outputs": [
        {
          "output_type": "stream",
          "text": [
            "Test accuracy when encoded data is used as input:  95.4800009727478\n"
          ],
          "name": "stdout"
        }
      ]
    },
    {
      "cell_type": "code",
      "metadata": {
        "colab": {
          "base_uri": "https://localhost:8080/"
        },
        "id": "jsSTBvLtQFk4",
        "outputId": "c88d6076-431a-4806-95cb-1d24d2ba141a"
      },
      "source": [
        "# for learning rate 0.001\n",
        "_, accr3 = models_3a[2].evaluate(x_test,y_test,batch_size = batch_Size, verbose=0)\n",
        "print(\"Test accuracy when encoded data is used as input: \",accr3*100)"
      ],
      "execution_count": 39,
      "outputs": [
        {
          "output_type": "stream",
          "text": [
            "Test accuracy when encoded data is used as input:  97.39999771118164\n"
          ],
          "name": "stdout"
        }
      ]
    },
    {
      "cell_type": "code",
      "metadata": {
        "colab": {
          "base_uri": "https://localhost:8080/"
        },
        "id": "HKiKpu_ksL_e",
        "outputId": "d654d0b3-e73d-4b48-f3d9-d69ede532625"
      },
      "source": [
        "table = [['Learning rate', 'ACCURACY'],\n",
        "         ['0.1',str(accr1*100)],\n",
        "         ['0.01',str(accr2*100)],\n",
        "         ['0.001',str(accr3*100)]]\n",
        "\n",
        "print()\n",
        "print()\n",
        "from tabulate import tabulate\n",
        "print(tabulate(table, headers='firstrow'))"
      ],
      "execution_count": 41,
      "outputs": [
        {
          "output_type": "stream",
          "text": [
            "\n",
            "\n",
            "  Learning rate    ACCURACY\n",
            "---------------  ----------\n",
            "          0.1         94.62\n",
            "          0.01        95.48\n",
            "          0.001       97.4\n"
          ],
          "name": "stdout"
        }
      ]
    },
    {
      "cell_type": "markdown",
      "metadata": {
        "id": "uczb4woJ5cBU"
      },
      "source": [
        "# part 2"
      ]
    },
    {
      "cell_type": "markdown",
      "metadata": {
        "id": "BQz0pVAg6Afb"
      },
      "source": [
        "## MLP and autoencoder"
      ]
    },
    {
      "cell_type": "code",
      "metadata": {
        "id": "CJNqNZu6424b"
      },
      "source": [
        "# autoencoder class\n",
        "from tensorflow.keras.models import Model\n",
        "import tensorflow as tf\n",
        "from tensorflow.keras import layers, losses\n",
        "class Autoencoder(Model):\n",
        "  def __init__(self, latent_dim):\n",
        "    super(Autoencoder, self).__init__()\n",
        "    self.latent_dim = latent_dim  \n",
        "\n",
        "    self.encoder = tf.keras.Sequential([\n",
        "                                        layers.Flatten(),\n",
        "                                        layers.Dense(latent_dim, activation='relu'),\n",
        "                                      ])\n",
        "\n",
        "    self.decoder = tf.keras.Sequential([\n",
        "                                        layers.Dense(784, activation='sigmoid'),\n",
        "                                        layers.Reshape((28, 28))\n",
        "                                      ])\n",
        "\n",
        "  def call(self, x):\n",
        "    encoded = self.encoder(x)\n",
        "    decoded = self.decoder(encoded)\n",
        "    return decoded"
      ],
      "execution_count": null,
      "outputs": []
    },
    {
      "cell_type": "code",
      "metadata": {
        "colab": {
          "base_uri": "https://localhost:8080/"
        },
        "id": "aVDUZSc3_zWU",
        "outputId": "f322f102-0308-4307-d0d0-0724380a8428"
      },
      "source": [
        "(x_train, y_train), (x_test, y_test) = mnist.load_data()\n",
        "x_train = x_train.astype('float32') / 255.\n",
        "x_test = x_test.astype('float32') / 255.\n",
        "\n",
        "print (x_train.shape)\n",
        "print (x_test.shape)"
      ],
      "execution_count": null,
      "outputs": [
        {
          "output_type": "stream",
          "text": [
            "(60000, 28, 28)\n",
            "(10000, 28, 28)\n"
          ],
          "name": "stdout"
        }
      ]
    },
    {
      "cell_type": "code",
      "metadata": {
        "colab": {
          "base_uri": "https://localhost:8080/"
        },
        "id": "MVXHwSeU5wQc",
        "outputId": "025be5f5-0de4-4658-e8cc-971af8694661"
      },
      "source": [
        "# compile and fit the model\n",
        "latent_dim = 784\n",
        "epochs = 10\n",
        "autoencoder = Autoencoder(latent_dim)\n",
        "autoencoder.compile(optimizer='RMSprop', loss=losses.MeanSquaredError())\n",
        "history = autoencoder.fit(x_train, x_train, epochs = epochs, shuffle=True, validation_data=(x_test, x_test))\n",
        "encoded_data_train = autoencoder.encoder(x_train).numpy()\n",
        "encoded_data_test = autoencoder.encoder(x_test).numpy()"
      ],
      "execution_count": null,
      "outputs": [
        {
          "output_type": "stream",
          "text": [
            "Epoch 1/10\n",
            "1875/1875 [==============================] - 31s 16ms/step - loss: 0.0166 - val_loss: 0.0025\n",
            "Epoch 2/10\n",
            "1875/1875 [==============================] - 31s 16ms/step - loss: 0.0026 - val_loss: 0.0022\n",
            "Epoch 3/10\n",
            "1875/1875 [==============================] - 31s 16ms/step - loss: 0.0019 - val_loss: 0.0021\n",
            "Epoch 4/10\n",
            "1875/1875 [==============================] - 31s 17ms/step - loss: 0.0017 - val_loss: 0.0018\n",
            "Epoch 5/10\n",
            "1875/1875 [==============================] - 31s 16ms/step - loss: 0.0015 - val_loss: 0.0017\n",
            "Epoch 6/10\n",
            "1875/1875 [==============================] - 30s 16ms/step - loss: 0.0014 - val_loss: 0.0014\n",
            "Epoch 7/10\n",
            "1875/1875 [==============================] - 31s 16ms/step - loss: 0.0014 - val_loss: 0.0018\n",
            "Epoch 8/10\n",
            "1875/1875 [==============================] - 30s 16ms/step - loss: 0.0013 - val_loss: 0.0014\n",
            "Epoch 9/10\n",
            "1875/1875 [==============================] - 31s 17ms/step - loss: 0.0013 - val_loss: 0.0014\n",
            "Epoch 10/10\n",
            "1875/1875 [==============================] - 31s 16ms/step - loss: 0.0012 - val_loss: 0.0014\n"
          ],
          "name": "stdout"
        }
      ]
    },
    {
      "cell_type": "code",
      "metadata": {
        "colab": {
          "base_uri": "https://localhost:8080/"
        },
        "id": "FeVeyDAsDs7R",
        "outputId": "09a59c5b-ae71-4fbf-f36b-67a46f16867f"
      },
      "source": [
        "encoded_data_train.shape,encoded_data_test.shape"
      ],
      "execution_count": null,
      "outputs": [
        {
          "output_type": "execute_result",
          "data": {
            "text/plain": [
              "((60000, 784), (10000, 784))"
            ]
          },
          "metadata": {
            "tags": []
          },
          "execution_count": 89
        }
      ]
    },
    {
      "cell_type": "code",
      "metadata": {
        "colab": {
          "base_uri": "https://localhost:8080/"
        },
        "id": "MkTtxl4qEO2z",
        "outputId": "59c9995f-3150-4d6d-cd30-243af687fc6f"
      },
      "source": [
        "y_train = to_categorical(y_train)\n",
        "y_test = to_categorical(y_test)\n",
        "print(y_train.shape)\n",
        "print(y_test.shape)"
      ],
      "execution_count": null,
      "outputs": [
        {
          "output_type": "stream",
          "text": [
            "(60000, 10)\n",
            "(10000, 10)\n"
          ],
          "name": "stdout"
        }
      ]
    },
    {
      "cell_type": "code",
      "metadata": {
        "colab": {
          "base_uri": "https://localhost:8080/"
        },
        "id": "oBXYO0SP-KeC",
        "outputId": "c388f733-3a6a-4d27-f59f-666741129b20"
      },
      "source": [
        "modelp2 = MLP()\n",
        "modelp2.compile(loss='categorical_crossentropy', optimizer='adam',metrics=['accuracy'])\n",
        "historyp2 = modelp2.fit(encoded_data_train,y_train,epochs = 5, batch_size = batch_Size, validation_data = (encoded_data_test, y_test))"
      ],
      "execution_count": null,
      "outputs": [
        {
          "output_type": "stream",
          "text": [
            "Epoch 1/5\n",
            "469/469 [==============================] - 5s 9ms/step - loss: 0.8033 - accuracy: 0.7368 - val_loss: 0.1543 - val_accuracy: 0.9517\n",
            "Epoch 2/5\n",
            "469/469 [==============================] - 4s 8ms/step - loss: 0.2392 - accuracy: 0.9264 - val_loss: 0.1253 - val_accuracy: 0.9607\n",
            "Epoch 3/5\n",
            "469/469 [==============================] - 4s 8ms/step - loss: 0.1833 - accuracy: 0.9439 - val_loss: 0.1070 - val_accuracy: 0.9665\n",
            "Epoch 4/5\n",
            "469/469 [==============================] - 4s 8ms/step - loss: 0.1500 - accuracy: 0.9541 - val_loss: 0.1060 - val_accuracy: 0.9651\n",
            "Epoch 5/5\n",
            "469/469 [==============================] - 4s 8ms/step - loss: 0.1311 - accuracy: 0.9593 - val_loss: 0.0957 - val_accuracy: 0.9710\n"
          ],
          "name": "stdout"
        }
      ]
    },
    {
      "cell_type": "code",
      "metadata": {
        "colab": {
          "base_uri": "https://localhost:8080/"
        },
        "id": "pJPsZ6FSFa53",
        "outputId": "8179c964-0b9a-4d9f-f870-523f15f6f64c"
      },
      "source": [
        "_, accp2 = modelp2.evaluate(encoded_data_test,y_test,batch_size = batch_Size, verbose=0)\n",
        "print(\"Test accuracy when encoded data is used as input: \",accp2*100)"
      ],
      "execution_count": null,
      "outputs": [
        {
          "output_type": "stream",
          "text": [
            "Test accuracy:  97.10000157356262\n"
          ],
          "name": "stdout"
        }
      ]
    },
    {
      "cell_type": "code",
      "metadata": {
        "colab": {
          "base_uri": "https://localhost:8080/"
        },
        "id": "2K6KUZMAL6A7",
        "outputId": "467d1ab9-cb02-439e-f540-67b65d319197"
      },
      "source": [
        "_, accp_raw = model_raw.evaluate(x_test,y_test,batch_size = batch_Size, verbose=0)\n",
        "print(\"Test accuracy when raw data is used as input: \",accp_raw*100)"
      ],
      "execution_count": 42,
      "outputs": [
        {
          "output_type": "stream",
          "text": [
            "Test accuracy when raw data is used as input:  93.450024745275\n"
          ],
          "name": "stdout"
        }
      ]
    },
    {
      "cell_type": "code",
      "metadata": {
        "colab": {
          "base_uri": "https://localhost:8080/"
        },
        "id": "o68Dt8ZptZyW",
        "outputId": "35635f07-b6e4-4a2c-85cf-a5c26327a546"
      },
      "source": [
        "table = [['Model', 'ACCURACY'],\n",
        "         ['MLP',accp2],\n",
        "         ['Autoencoder',accp2_raw],\n",
        "         ]\n",
        "\n",
        "print()\n",
        "print()\n",
        "# from tabulate import tabulate\n",
        "print(tabulate(table, headers='firstrow'))"
      ],
      "execution_count": 44,
      "outputs": [
        {
          "output_type": "stream",
          "text": [
            "\n",
            "\n",
            "Model          ACCURACY\n",
            "-----------  ----------\n",
            "MLP               97.1\n",
            "Autoencoder       93.45\n"
          ],
          "name": "stdout"
        }
      ]
    },
    {
      "cell_type": "markdown",
      "metadata": {
        "id": "yk9iDpEARSWt"
      },
      "source": [
        "* accuracy comparison shows that MLP with input as encoded data has performed better in this experiment. As feeding the netwrok with encoded data takesmuch less space hence it is more powerful and produces better results."
      ]
    }
  ]
}