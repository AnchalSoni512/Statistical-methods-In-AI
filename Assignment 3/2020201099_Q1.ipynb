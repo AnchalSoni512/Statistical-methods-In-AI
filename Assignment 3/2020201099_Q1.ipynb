{
  "nbformat": 4,
  "nbformat_minor": 0,
  "metadata": {
    "colab": {
      "name": "Ques1_new.ipynb",
      "provenance": []
    },
    "kernelspec": {
      "name": "python3",
      "display_name": "Python 3"
    },
    "language_info": {
      "name": "python"
    },
    "accelerator": "GPU"
  },
  "cells": [
    {
      "cell_type": "markdown",
      "metadata": {
        "id": "wETghLUIAZw6"
      },
      "source": [
        "## Fully functioning CNN for classification using CIFAR-10 dataset"
      ]
    },
    {
      "cell_type": "code",
      "metadata": {
        "id": "CS8lNk7PXa_Y"
      },
      "source": [
        "# importing dependencies\n",
        "import numpy as np\n",
        "import matplotlib.pyplot as plt\n",
        "from keras.models import Sequential\n",
        "from keras.layers import Dense, Dropout, Flatten, BatchNormalization, Activation\n",
        "from keras.layers.convolutional import Conv2D, MaxPooling2D\n",
        "from keras.constraints import maxnorm\n",
        "from keras.utils import np_utils\n",
        "from sklearn.model_selection import train_test_split\n"
      ],
      "execution_count": 1,
      "outputs": []
    },
    {
      "cell_type": "code",
      "metadata": {
        "id": "Aal22-HO_Lkz",
        "colab": {
          "base_uri": "https://localhost:8080/"
        },
        "outputId": "efa892ed-27e0-41cd-9ef0-7a09601478f3"
      },
      "source": [
        "# importing the dataset and loading the data\n",
        "from keras.datasets import cifar10\n",
        "(X_train,y_train),(X_test,y_test) = cifar10.load_data()"
      ],
      "execution_count": 2,
      "outputs": [
        {
          "output_type": "stream",
          "text": [
            "Downloading data from https://www.cs.toronto.edu/~kriz/cifar-10-python.tar.gz\n",
            "170500096/170498071 [==============================] - 6s 0us/step\n"
          ],
          "name": "stdout"
        }
      ]
    },
    {
      "cell_type": "code",
      "metadata": {
        "id": "E92PtQjPBhxG"
      },
      "source": [
        "X = np.append(X_train,X_test,axis=0)\n",
        "Y = np.append(y_train,y_test,axis=0)"
      ],
      "execution_count": 3,
      "outputs": []
    },
    {
      "cell_type": "code",
      "metadata": {
        "id": "p5-cmsn6Bm9P"
      },
      "source": [
        "X_train,X_test,y_train,y_test = train_test_split(X,Y,test_size=0.3,random_state = 8)\n",
        "y_train = y_train.reshape(-1,)\n",
        "y_test = y_test.reshape(-1,)"
      ],
      "execution_count": 4,
      "outputs": []
    },
    {
      "cell_type": "code",
      "metadata": {
        "colab": {
          "base_uri": "https://localhost:8080/"
        },
        "id": "dYp-E3pxBy9F",
        "outputId": "e730cfcd-40d2-4fbe-ea92-c3c911eeff6f"
      },
      "source": [
        "print(type(X_train),type(y_train))\n",
        "print(type(X_test),type(y_test))\n",
        "print(X_train.shape,y_train.shape)\n",
        "print(X_test.shape,y_test.shape)"
      ],
      "execution_count": 5,
      "outputs": [
        {
          "output_type": "stream",
          "text": [
            "<class 'numpy.ndarray'> <class 'numpy.ndarray'>\n",
            "<class 'numpy.ndarray'> <class 'numpy.ndarray'>\n",
            "(42000, 32, 32, 3) (42000,)\n",
            "(18000, 32, 32, 3) (18000,)\n"
          ],
          "name": "stdout"
        }
      ]
    },
    {
      "cell_type": "code",
      "metadata": {
        "id": "7PeO-YfRBybV"
      },
      "source": [
        "# normalise th input from 0 - 255 to between 0 and 1 by dividing it by 255\n",
        "X_train = X_train.astype('float32')\n",
        "X_test = X_test.astype('float32')\n",
        "X_train = X_train / 255.0\n",
        "X_test = X_test / 255.0"
      ],
      "execution_count": 6,
      "outputs": []
    },
    {
      "cell_type": "code",
      "metadata": {
        "id": "IM1uXn6JEuPq"
      },
      "source": [
        "y_train = np_utils.to_categorical(y_train)\n",
        "y_test = np_utils.to_categorical(y_test)\n",
        "class_num = y_test.shape[1]\n",
        "# 10"
      ],
      "execution_count": 7,
      "outputs": []
    },
    {
      "cell_type": "code",
      "metadata": {
        "id": "ukCdhpTR7LA0"
      },
      "source": [
        "def loss_plot(History,epochs):\n",
        "  N = np.arange(0, epochs)\n",
        "  plt.style.use(\"ggplot\")\n",
        "  plt.figure()\n",
        "  plt.plot(N, History.history[\"loss\"], label=\"train_loss\")\n",
        "  plt.plot(N, History.history[\"val_loss\"], label=\"val_loss\")\n",
        "  plt.title(\"Training Loss vs epoch\")\n",
        "  plt.xlabel(\"Epoch #\")\n",
        "  plt.ylabel(\"Loss\")\n",
        "  plt.legend(loc=\"upper right\")\n"
      ],
      "execution_count": 8,
      "outputs": []
    },
    {
      "cell_type": "code",
      "metadata": {
        "id": "DFW7e-bEV-ie"
      },
      "source": [
        "def accuracy_plot(History,epochs):\n",
        "  N = np.arange(0, epochs)\n",
        "  plt.style.use(\"ggplot\")\n",
        "  plt.figure()\n",
        "  plt.plot(N, History.history[\"accuracy\"], label=\"train_accuracy\")\n",
        "  plt.plot(N, History.history[\"val_accuracy\"], label=\"val_accuracy\")\n",
        "  plt.title(\"Accuracy vs epoch\")\n",
        "  plt.xlabel(\"Epoch #\")\n",
        "  plt.ylabel(\"accuracy\")\n",
        "  plt.legend(loc=\"upper right\")"
      ],
      "execution_count": 9,
      "outputs": []
    },
    {
      "cell_type": "code",
      "metadata": {
        "id": "6jGU3wkRKNms"
      },
      "source": [
        "epochs = 100"
      ],
      "execution_count": 10,
      "outputs": []
    },
    {
      "cell_type": "markdown",
      "metadata": {
        "id": "6KrM_FQ228P7"
      },
      "source": [
        "## Variation 1"
      ]
    },
    {
      "cell_type": "code",
      "metadata": {
        "id": "mShSzBgwKR6U"
      },
      "source": [
        "#designing the model\n",
        "model1 = Sequential()"
      ],
      "execution_count": 11,
      "outputs": []
    },
    {
      "cell_type": "code",
      "metadata": {
        "id": "Yvw_NlJ3LnT_"
      },
      "source": [
        "# add convlution layer\n",
        "model1.add(Conv2D(32,(3,3), input_shape = X_train.shape[1:], activation = 'relu', padding = 'same'))\n",
        "# dropout a layer\n",
        "model1.add(Dropout(0.2))\n",
        "# add pooling layer\n",
        "# pooling layer helps make the classifier more robust\n",
        "model1.add(MaxPooling2D(pool_size = (2,2)))\n",
        "# dropout a layer\n",
        "model1.add(Dropout(0.2))\n",
        "# adding batch normalisation\n",
        "# model.add(BatchNormalization())"
      ],
      "execution_count": 12,
      "outputs": []
    },
    {
      "cell_type": "code",
      "metadata": {
        "id": "XnfMYQmRReKg"
      },
      "source": [
        "# adding one more convlution layer\n",
        "# but the filter size is increased so that network can learn more complex features\n",
        "model1.add(Conv2D(64,(3,3), activation = 'relu', padding = 'same'))\n",
        "# add pooling layer\n",
        "model1.add(MaxPooling2D(pool_size = (2,2)))\n",
        "model1.add(Dropout(0.2))\n",
        "# model.add(BatchNormalization())\n"
      ],
      "execution_count": 13,
      "outputs": []
    },
    {
      "cell_type": "code",
      "metadata": {
        "id": "NhTETp25R2mk"
      },
      "source": [
        "model1.add(Flatten())\n",
        "model1.add(Dropout(0.2))"
      ],
      "execution_count": 14,
      "outputs": []
    },
    {
      "cell_type": "code",
      "metadata": {
        "id": "ArT088eoQqYm"
      },
      "source": [
        "# add dense layer NN\n",
        "model1.add(Dense(64, kernel_constraint=maxnorm(3), activation = 'relu'))\n",
        "model1.add(Dropout(0.2))\n",
        "# in this dense layer classes fill the number of classes a sthe number of neurons\n",
        "model1.add(Dense(class_num))\n",
        "# softmax activation function selects the neuron with highest probability votinh that \n",
        "# the image belongs to that class\n",
        "model1.add(Activation('softmax'))"
      ],
      "execution_count": 15,
      "outputs": []
    },
    {
      "cell_type": "code",
      "metadata": {
        "id": "QdHErROhTbQP"
      },
      "source": [
        "# epochs = 100\n",
        "# optimizer = keras.optimizers.SGD(learning_rate = 0.01, momentum = 0.0, nesterov = False)\n",
        "optimizer = 'SGD'"
      ],
      "execution_count": 16,
      "outputs": []
    },
    {
      "cell_type": "code",
      "metadata": {
        "id": "qUqLPYxYTl9F"
      },
      "source": [
        "model1.compile(loss='categorical_crossentropy',optimizer=optimizer, metrics=['accuracy'])"
      ],
      "execution_count": 17,
      "outputs": []
    },
    {
      "cell_type": "code",
      "metadata": {
        "colab": {
          "base_uri": "https://localhost:8080/"
        },
        "id": "JzHs4vHMUA_3",
        "outputId": "4b07f741-03dd-48fc-fa45-36d560b5a8ee"
      },
      "source": [
        "print(model1.summary())"
      ],
      "execution_count": 18,
      "outputs": [
        {
          "output_type": "stream",
          "text": [
            "Model: \"sequential\"\n",
            "_________________________________________________________________\n",
            "Layer (type)                 Output Shape              Param #   \n",
            "=================================================================\n",
            "conv2d (Conv2D)              (None, 32, 32, 32)        896       \n",
            "_________________________________________________________________\n",
            "dropout (Dropout)            (None, 32, 32, 32)        0         \n",
            "_________________________________________________________________\n",
            "max_pooling2d (MaxPooling2D) (None, 16, 16, 32)        0         \n",
            "_________________________________________________________________\n",
            "dropout_1 (Dropout)          (None, 16, 16, 32)        0         \n",
            "_________________________________________________________________\n",
            "conv2d_1 (Conv2D)            (None, 16, 16, 64)        18496     \n",
            "_________________________________________________________________\n",
            "max_pooling2d_1 (MaxPooling2 (None, 8, 8, 64)          0         \n",
            "_________________________________________________________________\n",
            "dropout_2 (Dropout)          (None, 8, 8, 64)          0         \n",
            "_________________________________________________________________\n",
            "flatten (Flatten)            (None, 4096)              0         \n",
            "_________________________________________________________________\n",
            "dropout_3 (Dropout)          (None, 4096)              0         \n",
            "_________________________________________________________________\n",
            "dense (Dense)                (None, 64)                262208    \n",
            "_________________________________________________________________\n",
            "dropout_4 (Dropout)          (None, 64)                0         \n",
            "_________________________________________________________________\n",
            "dense_1 (Dense)              (None, 10)                650       \n",
            "_________________________________________________________________\n",
            "activation (Activation)      (None, 10)                0         \n",
            "=================================================================\n",
            "Total params: 282,250\n",
            "Trainable params: 282,250\n",
            "Non-trainable params: 0\n",
            "_________________________________________________________________\n",
            "None\n"
          ],
          "name": "stdout"
        }
      ]
    },
    {
      "cell_type": "code",
      "metadata": {
        "colab": {
          "base_uri": "https://localhost:8080/"
        },
        "id": "I6LDgCTOUHSQ",
        "outputId": "7bb43736-4430-49a9-a15d-de476fa416f5"
      },
      "source": [
        "# numpy.random.seed(seed)\n",
        "history1 = model1.fit(X_train, y_train, validation_data=(X_test,y_test),epochs=epochs, batch_size=64)"
      ],
      "execution_count": 19,
      "outputs": [
        {
          "output_type": "stream",
          "text": [
            "Epoch 1/100\n",
            "657/657 [==============================] - 38s 13ms/step - loss: 2.2555 - accuracy: 0.1467 - val_loss: 2.0411 - val_accuracy: 0.2782\n",
            "Epoch 2/100\n",
            "657/657 [==============================] - 7s 11ms/step - loss: 1.9969 - accuracy: 0.2736 - val_loss: 1.9219 - val_accuracy: 0.3398\n",
            "Epoch 3/100\n",
            "657/657 [==============================] - 7s 11ms/step - loss: 1.8688 - accuracy: 0.3325 - val_loss: 1.7912 - val_accuracy: 0.3836\n",
            "Epoch 4/100\n",
            "657/657 [==============================] - 7s 11ms/step - loss: 1.7509 - accuracy: 0.3741 - val_loss: 1.7647 - val_accuracy: 0.3755\n",
            "Epoch 5/100\n",
            "657/657 [==============================] - 7s 10ms/step - loss: 1.6617 - accuracy: 0.4003 - val_loss: 1.6414 - val_accuracy: 0.4233\n",
            "Epoch 6/100\n",
            "657/657 [==============================] - 7s 10ms/step - loss: 1.5749 - accuracy: 0.4356 - val_loss: 1.5239 - val_accuracy: 0.4714\n",
            "Epoch 7/100\n",
            "657/657 [==============================] - 7s 10ms/step - loss: 1.5300 - accuracy: 0.4499 - val_loss: 1.4643 - val_accuracy: 0.5005\n",
            "Epoch 8/100\n",
            "657/657 [==============================] - 7s 10ms/step - loss: 1.4785 - accuracy: 0.4713 - val_loss: 1.4221 - val_accuracy: 0.5035\n",
            "Epoch 9/100\n",
            "657/657 [==============================] - 7s 10ms/step - loss: 1.4393 - accuracy: 0.4780 - val_loss: 1.3912 - val_accuracy: 0.5318\n",
            "Epoch 10/100\n",
            "657/657 [==============================] - 7s 11ms/step - loss: 1.4060 - accuracy: 0.4954 - val_loss: 1.3537 - val_accuracy: 0.5396\n",
            "Epoch 11/100\n",
            "657/657 [==============================] - 7s 11ms/step - loss: 1.3790 - accuracy: 0.5030 - val_loss: 1.3935 - val_accuracy: 0.5086\n",
            "Epoch 12/100\n",
            "657/657 [==============================] - 7s 11ms/step - loss: 1.3555 - accuracy: 0.5133 - val_loss: 1.3108 - val_accuracy: 0.5522\n",
            "Epoch 13/100\n",
            "657/657 [==============================] - 7s 10ms/step - loss: 1.3445 - accuracy: 0.5208 - val_loss: 1.2983 - val_accuracy: 0.5513\n",
            "Epoch 14/100\n",
            "657/657 [==============================] - 7s 10ms/step - loss: 1.3151 - accuracy: 0.5316 - val_loss: 1.2794 - val_accuracy: 0.5619\n",
            "Epoch 15/100\n",
            "657/657 [==============================] - 7s 10ms/step - loss: 1.2824 - accuracy: 0.5434 - val_loss: 1.3470 - val_accuracy: 0.5128\n",
            "Epoch 16/100\n",
            "657/657 [==============================] - 7s 10ms/step - loss: 1.2743 - accuracy: 0.5445 - val_loss: 1.2360 - val_accuracy: 0.5724\n",
            "Epoch 17/100\n",
            "657/657 [==============================] - 7s 10ms/step - loss: 1.2505 - accuracy: 0.5563 - val_loss: 1.2437 - val_accuracy: 0.5756\n",
            "Epoch 18/100\n",
            "657/657 [==============================] - 7s 10ms/step - loss: 1.2282 - accuracy: 0.5633 - val_loss: 1.2266 - val_accuracy: 0.5822\n",
            "Epoch 19/100\n",
            "657/657 [==============================] - 7s 10ms/step - loss: 1.2191 - accuracy: 0.5676 - val_loss: 1.1680 - val_accuracy: 0.5968\n",
            "Epoch 20/100\n",
            "657/657 [==============================] - 7s 10ms/step - loss: 1.2024 - accuracy: 0.5703 - val_loss: 1.1351 - val_accuracy: 0.6089\n",
            "Epoch 21/100\n",
            "657/657 [==============================] - 7s 10ms/step - loss: 1.1794 - accuracy: 0.5807 - val_loss: 1.2559 - val_accuracy: 0.5517\n",
            "Epoch 22/100\n",
            "657/657 [==============================] - 7s 10ms/step - loss: 1.1731 - accuracy: 0.5825 - val_loss: 1.1283 - val_accuracy: 0.6129\n",
            "Epoch 23/100\n",
            "657/657 [==============================] - 7s 10ms/step - loss: 1.1476 - accuracy: 0.5877 - val_loss: 1.1334 - val_accuracy: 0.6102\n",
            "Epoch 24/100\n",
            "657/657 [==============================] - 7s 10ms/step - loss: 1.1347 - accuracy: 0.5959 - val_loss: 1.1279 - val_accuracy: 0.6097\n",
            "Epoch 25/100\n",
            "657/657 [==============================] - 7s 10ms/step - loss: 1.1119 - accuracy: 0.6031 - val_loss: 1.1814 - val_accuracy: 0.5942\n",
            "Epoch 26/100\n",
            "657/657 [==============================] - 7s 10ms/step - loss: 1.1093 - accuracy: 0.6089 - val_loss: 1.0946 - val_accuracy: 0.6271\n",
            "Epoch 27/100\n",
            "657/657 [==============================] - 7s 10ms/step - loss: 1.1011 - accuracy: 0.6058 - val_loss: 1.0732 - val_accuracy: 0.6294\n",
            "Epoch 28/100\n",
            "657/657 [==============================] - 7s 10ms/step - loss: 1.0922 - accuracy: 0.6115 - val_loss: 1.0441 - val_accuracy: 0.6437\n",
            "Epoch 29/100\n",
            "657/657 [==============================] - 7s 10ms/step - loss: 1.0816 - accuracy: 0.6122 - val_loss: 1.1573 - val_accuracy: 0.5866\n",
            "Epoch 30/100\n",
            "657/657 [==============================] - 7s 10ms/step - loss: 1.0625 - accuracy: 0.6192 - val_loss: 1.0428 - val_accuracy: 0.6430\n",
            "Epoch 31/100\n",
            "657/657 [==============================] - 7s 10ms/step - loss: 1.0556 - accuracy: 0.6217 - val_loss: 1.0253 - val_accuracy: 0.6472\n",
            "Epoch 32/100\n",
            "657/657 [==============================] - 7s 10ms/step - loss: 1.0450 - accuracy: 0.6272 - val_loss: 1.0554 - val_accuracy: 0.6333\n",
            "Epoch 33/100\n",
            "657/657 [==============================] - 7s 10ms/step - loss: 1.0314 - accuracy: 0.6338 - val_loss: 1.0949 - val_accuracy: 0.6184\n",
            "Epoch 34/100\n",
            "657/657 [==============================] - 7s 10ms/step - loss: 1.0154 - accuracy: 0.6403 - val_loss: 1.0062 - val_accuracy: 0.6549\n",
            "Epoch 35/100\n",
            "657/657 [==============================] - 7s 10ms/step - loss: 1.0158 - accuracy: 0.6415 - val_loss: 0.9783 - val_accuracy: 0.6649\n",
            "Epoch 36/100\n",
            "657/657 [==============================] - 7s 10ms/step - loss: 0.9948 - accuracy: 0.6453 - val_loss: 0.9692 - val_accuracy: 0.6654\n",
            "Epoch 37/100\n",
            "657/657 [==============================] - 7s 10ms/step - loss: 0.9904 - accuracy: 0.6487 - val_loss: 1.0052 - val_accuracy: 0.6524\n",
            "Epoch 38/100\n",
            "657/657 [==============================] - 7s 10ms/step - loss: 0.9978 - accuracy: 0.6466 - val_loss: 0.9800 - val_accuracy: 0.6601\n",
            "Epoch 39/100\n",
            "657/657 [==============================] - 7s 10ms/step - loss: 0.9795 - accuracy: 0.6484 - val_loss: 0.9736 - val_accuracy: 0.6602\n",
            "Epoch 40/100\n",
            "657/657 [==============================] - 7s 10ms/step - loss: 0.9736 - accuracy: 0.6508 - val_loss: 0.9453 - val_accuracy: 0.6739\n",
            "Epoch 41/100\n",
            "657/657 [==============================] - 7s 10ms/step - loss: 0.9668 - accuracy: 0.6579 - val_loss: 0.9537 - val_accuracy: 0.6640\n",
            "Epoch 42/100\n",
            "657/657 [==============================] - 7s 10ms/step - loss: 0.9613 - accuracy: 0.6580 - val_loss: 0.9512 - val_accuracy: 0.6714\n",
            "Epoch 43/100\n",
            "657/657 [==============================] - 7s 10ms/step - loss: 0.9443 - accuracy: 0.6644 - val_loss: 0.9690 - val_accuracy: 0.6723\n",
            "Epoch 44/100\n",
            "657/657 [==============================] - 7s 10ms/step - loss: 0.9460 - accuracy: 0.6658 - val_loss: 0.9201 - val_accuracy: 0.6848\n",
            "Epoch 45/100\n",
            "657/657 [==============================] - 7s 10ms/step - loss: 0.9366 - accuracy: 0.6664 - val_loss: 0.9988 - val_accuracy: 0.6514\n",
            "Epoch 46/100\n",
            "657/657 [==============================] - 7s 10ms/step - loss: 0.9317 - accuracy: 0.6732 - val_loss: 0.9769 - val_accuracy: 0.6602\n",
            "Epoch 47/100\n",
            "657/657 [==============================] - 7s 10ms/step - loss: 0.9202 - accuracy: 0.6689 - val_loss: 0.9362 - val_accuracy: 0.6787\n",
            "Epoch 48/100\n",
            "657/657 [==============================] - 7s 10ms/step - loss: 0.9208 - accuracy: 0.6709 - val_loss: 0.9355 - val_accuracy: 0.6698\n",
            "Epoch 49/100\n",
            "657/657 [==============================] - 7s 10ms/step - loss: 0.9053 - accuracy: 0.6769 - val_loss: 0.9149 - val_accuracy: 0.6858\n",
            "Epoch 50/100\n",
            "657/657 [==============================] - 7s 10ms/step - loss: 0.9029 - accuracy: 0.6776 - val_loss: 0.9079 - val_accuracy: 0.6862\n",
            "Epoch 51/100\n",
            "657/657 [==============================] - 7s 10ms/step - loss: 0.8958 - accuracy: 0.6807 - val_loss: 0.8919 - val_accuracy: 0.6936\n",
            "Epoch 52/100\n",
            "657/657 [==============================] - 7s 10ms/step - loss: 0.8897 - accuracy: 0.6831 - val_loss: 0.9076 - val_accuracy: 0.6850\n",
            "Epoch 53/100\n",
            "657/657 [==============================] - 7s 10ms/step - loss: 0.8783 - accuracy: 0.6860 - val_loss: 0.9090 - val_accuracy: 0.6865\n",
            "Epoch 54/100\n",
            "657/657 [==============================] - 7s 10ms/step - loss: 0.8825 - accuracy: 0.6848 - val_loss: 0.8956 - val_accuracy: 0.6908\n",
            "Epoch 55/100\n",
            "657/657 [==============================] - 7s 10ms/step - loss: 0.8698 - accuracy: 0.6917 - val_loss: 0.9065 - val_accuracy: 0.6866\n",
            "Epoch 56/100\n",
            "657/657 [==============================] - 7s 10ms/step - loss: 0.8674 - accuracy: 0.6912 - val_loss: 0.8742 - val_accuracy: 0.6988\n",
            "Epoch 57/100\n",
            "657/657 [==============================] - 7s 10ms/step - loss: 0.8602 - accuracy: 0.6966 - val_loss: 0.8927 - val_accuracy: 0.6895\n",
            "Epoch 58/100\n",
            "657/657 [==============================] - 7s 10ms/step - loss: 0.8644 - accuracy: 0.6929 - val_loss: 0.8860 - val_accuracy: 0.6892\n",
            "Epoch 59/100\n",
            "657/657 [==============================] - 7s 10ms/step - loss: 0.8510 - accuracy: 0.6961 - val_loss: 0.8664 - val_accuracy: 0.6984\n",
            "Epoch 60/100\n",
            "657/657 [==============================] - 7s 10ms/step - loss: 0.8423 - accuracy: 0.6970 - val_loss: 0.8888 - val_accuracy: 0.6871\n",
            "Epoch 61/100\n",
            "657/657 [==============================] - 7s 10ms/step - loss: 0.8202 - accuracy: 0.7099 - val_loss: 0.9077 - val_accuracy: 0.6836\n",
            "Epoch 62/100\n",
            "657/657 [==============================] - 7s 10ms/step - loss: 0.8330 - accuracy: 0.7003 - val_loss: 0.8842 - val_accuracy: 0.6943\n",
            "Epoch 63/100\n",
            "657/657 [==============================] - 7s 10ms/step - loss: 0.8218 - accuracy: 0.7035 - val_loss: 0.8871 - val_accuracy: 0.6913\n",
            "Epoch 64/100\n",
            "657/657 [==============================] - 7s 10ms/step - loss: 0.8251 - accuracy: 0.7058 - val_loss: 0.8673 - val_accuracy: 0.6970\n",
            "Epoch 65/100\n",
            "657/657 [==============================] - 7s 10ms/step - loss: 0.8108 - accuracy: 0.7123 - val_loss: 0.8612 - val_accuracy: 0.7026\n",
            "Epoch 66/100\n",
            "657/657 [==============================] - 7s 10ms/step - loss: 0.8104 - accuracy: 0.7138 - val_loss: 0.8650 - val_accuracy: 0.6976\n",
            "Epoch 67/100\n",
            "657/657 [==============================] - 7s 10ms/step - loss: 0.7994 - accuracy: 0.7162 - val_loss: 0.9441 - val_accuracy: 0.6721\n",
            "Epoch 68/100\n",
            "657/657 [==============================] - 7s 11ms/step - loss: 0.8043 - accuracy: 0.7152 - val_loss: 0.8620 - val_accuracy: 0.7003\n",
            "Epoch 69/100\n",
            "657/657 [==============================] - 7s 10ms/step - loss: 0.8167 - accuracy: 0.7114 - val_loss: 0.8508 - val_accuracy: 0.7056\n",
            "Epoch 70/100\n",
            "657/657 [==============================] - 7s 10ms/step - loss: 0.7846 - accuracy: 0.7174 - val_loss: 0.8445 - val_accuracy: 0.7092\n",
            "Epoch 71/100\n",
            "657/657 [==============================] - 7s 10ms/step - loss: 0.7921 - accuracy: 0.7147 - val_loss: 0.8491 - val_accuracy: 0.7040\n",
            "Epoch 72/100\n",
            "657/657 [==============================] - 7s 10ms/step - loss: 0.7824 - accuracy: 0.7212 - val_loss: 0.8580 - val_accuracy: 0.7009\n",
            "Epoch 73/100\n",
            "657/657 [==============================] - 7s 10ms/step - loss: 0.7787 - accuracy: 0.7225 - val_loss: 0.8361 - val_accuracy: 0.7089\n",
            "Epoch 74/100\n",
            "657/657 [==============================] - 7s 10ms/step - loss: 0.7887 - accuracy: 0.7181 - val_loss: 0.8504 - val_accuracy: 0.7047\n",
            "Epoch 75/100\n",
            "657/657 [==============================] - 7s 10ms/step - loss: 0.7623 - accuracy: 0.7281 - val_loss: 0.9869 - val_accuracy: 0.6598\n",
            "Epoch 76/100\n",
            "657/657 [==============================] - 7s 10ms/step - loss: 0.7638 - accuracy: 0.7283 - val_loss: 0.9099 - val_accuracy: 0.6879\n",
            "Epoch 77/100\n",
            "657/657 [==============================] - 7s 10ms/step - loss: 0.7600 - accuracy: 0.7281 - val_loss: 0.8236 - val_accuracy: 0.7172\n",
            "Epoch 78/100\n",
            "657/657 [==============================] - 7s 10ms/step - loss: 0.7543 - accuracy: 0.7304 - val_loss: 0.8466 - val_accuracy: 0.7083\n",
            "Epoch 79/100\n",
            "657/657 [==============================] - 7s 10ms/step - loss: 0.7621 - accuracy: 0.7249 - val_loss: 0.8365 - val_accuracy: 0.7094\n",
            "Epoch 80/100\n",
            "657/657 [==============================] - 7s 10ms/step - loss: 0.7504 - accuracy: 0.7346 - val_loss: 0.8491 - val_accuracy: 0.7050\n",
            "Epoch 81/100\n",
            "657/657 [==============================] - 7s 10ms/step - loss: 0.7421 - accuracy: 0.7365 - val_loss: 0.8657 - val_accuracy: 0.7027\n",
            "Epoch 82/100\n",
            "657/657 [==============================] - 7s 10ms/step - loss: 0.7388 - accuracy: 0.7371 - val_loss: 0.8395 - val_accuracy: 0.7082\n",
            "Epoch 83/100\n",
            "657/657 [==============================] - 7s 10ms/step - loss: 0.7502 - accuracy: 0.7334 - val_loss: 0.8538 - val_accuracy: 0.7066\n",
            "Epoch 84/100\n",
            "657/657 [==============================] - 7s 10ms/step - loss: 0.7357 - accuracy: 0.7410 - val_loss: 0.8181 - val_accuracy: 0.7158\n",
            "Epoch 85/100\n",
            "657/657 [==============================] - 7s 10ms/step - loss: 0.7355 - accuracy: 0.7387 - val_loss: 0.8216 - val_accuracy: 0.7161\n",
            "Epoch 86/100\n",
            "657/657 [==============================] - 7s 10ms/step - loss: 0.7286 - accuracy: 0.7396 - val_loss: 0.8345 - val_accuracy: 0.7147\n",
            "Epoch 87/100\n",
            "657/657 [==============================] - 7s 10ms/step - loss: 0.7288 - accuracy: 0.7412 - val_loss: 0.8037 - val_accuracy: 0.7199\n",
            "Epoch 88/100\n",
            "657/657 [==============================] - 7s 10ms/step - loss: 0.7086 - accuracy: 0.7484 - val_loss: 0.7976 - val_accuracy: 0.7240\n",
            "Epoch 89/100\n",
            "657/657 [==============================] - 7s 10ms/step - loss: 0.7233 - accuracy: 0.7414 - val_loss: 0.8099 - val_accuracy: 0.7181\n",
            "Epoch 90/100\n",
            "657/657 [==============================] - 7s 10ms/step - loss: 0.6978 - accuracy: 0.7523 - val_loss: 0.7989 - val_accuracy: 0.7226\n",
            "Epoch 91/100\n",
            "657/657 [==============================] - 7s 10ms/step - loss: 0.7065 - accuracy: 0.7479 - val_loss: 0.8146 - val_accuracy: 0.7181\n",
            "Epoch 92/100\n",
            "657/657 [==============================] - 7s 10ms/step - loss: 0.7002 - accuracy: 0.7501 - val_loss: 0.7957 - val_accuracy: 0.7214\n",
            "Epoch 93/100\n",
            "657/657 [==============================] - 7s 10ms/step - loss: 0.7014 - accuracy: 0.7469 - val_loss: 0.8093 - val_accuracy: 0.7201\n",
            "Epoch 94/100\n",
            "657/657 [==============================] - 7s 10ms/step - loss: 0.6915 - accuracy: 0.7503 - val_loss: 0.8115 - val_accuracy: 0.7206\n",
            "Epoch 95/100\n",
            "657/657 [==============================] - 7s 10ms/step - loss: 0.6885 - accuracy: 0.7557 - val_loss: 0.8028 - val_accuracy: 0.7213\n",
            "Epoch 96/100\n",
            "657/657 [==============================] - 7s 10ms/step - loss: 0.6886 - accuracy: 0.7509 - val_loss: 0.7886 - val_accuracy: 0.7292\n",
            "Epoch 97/100\n",
            "657/657 [==============================] - 7s 10ms/step - loss: 0.6909 - accuracy: 0.7552 - val_loss: 0.7890 - val_accuracy: 0.7293\n",
            "Epoch 98/100\n",
            "657/657 [==============================] - 7s 10ms/step - loss: 0.6807 - accuracy: 0.7582 - val_loss: 0.7763 - val_accuracy: 0.7324\n",
            "Epoch 99/100\n",
            "657/657 [==============================] - 7s 10ms/step - loss: 0.6791 - accuracy: 0.7555 - val_loss: 0.7953 - val_accuracy: 0.7246\n",
            "Epoch 100/100\n",
            "657/657 [==============================] - 7s 10ms/step - loss: 0.6851 - accuracy: 0.7553 - val_loss: 0.7884 - val_accuracy: 0.7264\n"
          ],
          "name": "stdout"
        }
      ]
    },
    {
      "cell_type": "code",
      "metadata": {
        "colab": {
          "base_uri": "https://localhost:8080/"
        },
        "id": "UrKW5Em4Um7E",
        "outputId": "aafaea88-2633-4302-d423-e684d17b3972"
      },
      "source": [
        "scores1 = model1.evaluate(X_test,y_test,verbose=0)\n",
        "print(\"Accuracy: \",scores1[1]*100)"
      ],
      "execution_count": 20,
      "outputs": [
        {
          "output_type": "stream",
          "text": [
            "Accuracy:  72.64444231987\n"
          ],
          "name": "stdout"
        }
      ]
    },
    {
      "cell_type": "code",
      "metadata": {
        "id": "3J8mFQBpjU8n",
        "colab": {
          "base_uri": "https://localhost:8080/"
        },
        "outputId": "1cc8849b-413e-4eb3-91c8-bb7d528f3b15"
      },
      "source": [
        "scores = model1.evaluate(X_train,y_train,verbose=0)\n",
        "print(\"Accuracy: \",scores[1]*100)"
      ],
      "execution_count": 21,
      "outputs": [
        {
          "output_type": "stream",
          "text": [
            "Accuracy:  84.4261884689331\n"
          ],
          "name": "stdout"
        }
      ]
    },
    {
      "cell_type": "code",
      "metadata": {
        "id": "k1VijILqDmgp",
        "colab": {
          "base_uri": "https://localhost:8080/",
          "height": 299
        },
        "outputId": "8c8e63e8-3246-4720-a1f1-f79cada5c41a"
      },
      "source": [
        "accuracy_plot(history1, epochs)"
      ],
      "execution_count": 22,
      "outputs": [
        {
          "output_type": "display_data",
          "data": {
            "image/png": "[encoded data removed]",
            "text/plain": [
              "<Figure size 432x288 with 1 Axes>"
            ]
          },
          "metadata": {
            "tags": []
          }
        }
      ]
    },
    {
      "cell_type": "code",
      "metadata": {
        "id": "Eyyt4vu9Dk9w",
        "colab": {
          "base_uri": "https://localhost:8080/",
          "height": 299
        },
        "outputId": "ff8a0274-0d54-40ae-e0dc-17b76e5a6f15"
      },
      "source": [
        "loss_plot(history1, epochs)"
      ],
      "execution_count": 23,
      "outputs": [
        {
          "output_type": "display_data",
          "data": {
            "image/png": "[encoded data removed]",
            "text/plain": [
              "<Figure size 432x288 with 1 Axes>"
            ]
          },
          "metadata": {
            "tags": []
          }
        }
      ]
    },
    {
      "cell_type": "markdown",
      "metadata": {
        "id": "iYK_yiEA3Izf"
      },
      "source": [
        " ## variation 2"
      ]
    },
    {
      "cell_type": "code",
      "metadata": {
        "colab": {
          "base_uri": "https://localhost:8080/"
        },
        "id": "LxX5jZAmV3jt",
        "outputId": "dd10cead-daa6-497f-ebd7-7b87571121cf"
      },
      "source": [
        "#designing the model\n",
        "model2 = Sequential()\n",
        "# block 1\n",
        "model2.add(Conv2D(32,(3,3), input_shape = X_train.shape[1:], activation = 'relu', padding = 'same'))\n",
        "# model.add(Dropout(0.2))\n",
        "model2.add(BatchNormalization())\n",
        "model2.add(MaxPooling2D(pool_size = (2,2)))\n",
        "# model.add(Dropout(0.2))\n",
        "\n",
        "# block 2\n",
        "model2.add(Conv2D(64,(3,3), activation = 'relu', padding = 'same'))\n",
        "model2.add(BatchNormalization())\n",
        "model2.add(MaxPooling2D(pool_size = (2,2)))\n",
        "# model.add(Dropout(0.2))\n",
        "\n",
        "# flatten the data to put into dense layers\n",
        "model2.add(Flatten())\n",
        "# model.add(Dropout(0.2))\n",
        "\n",
        "# add dense layer\n",
        "model2.add(Dense(64, kernel_constraint=maxnorm(3), activation = 'relu'))\n",
        "# model.add(Dropout(0.2))\n",
        "\n",
        "model2.add(Dense(class_num))\n",
        "model2.add(Activation('softmax'))\n",
        "\n",
        "# epochs = 100\n",
        "optimizer = 'SGD'\n",
        "\n",
        "model2.compile(loss='categorical_crossentropy',optimizer=optimizer, metrics=['accuracy'])\n",
        "print(model2.summary())\n",
        "history2 = model2.fit(X_train, y_train, validation_data=(X_test,y_test),epochs=epochs, batch_size=64)"
      ],
      "execution_count": 24,
      "outputs": [
        {
          "output_type": "stream",
          "text": [
            "Model: \"sequential_1\"\n",
            "_________________________________________________________________\n",
            "Layer (type)                 Output Shape              Param #   \n",
            "=================================================================\n",
            "conv2d_2 (Conv2D)            (None, 32, 32, 32)        896       \n",
            "_________________________________________________________________\n",
            "batch_normalization (BatchNo (None, 32, 32, 32)        128       \n",
            "_________________________________________________________________\n",
            "max_pooling2d_2 (MaxPooling2 (None, 16, 16, 32)        0         \n",
            "_________________________________________________________________\n",
            "conv2d_3 (Conv2D)            (None, 16, 16, 64)        18496     \n",
            "_________________________________________________________________\n",
            "batch_normalization_1 (Batch (None, 16, 16, 64)        256       \n",
            "_________________________________________________________________\n",
            "max_pooling2d_3 (MaxPooling2 (None, 8, 8, 64)          0         \n",
            "_________________________________________________________________\n",
            "flatten_1 (Flatten)          (None, 4096)              0         \n",
            "_________________________________________________________________\n",
            "dense_2 (Dense)              (None, 64)                262208    \n",
            "_________________________________________________________________\n",
            "dense_3 (Dense)              (None, 10)                650       \n",
            "_________________________________________________________________\n",
            "activation_1 (Activation)    (None, 10)                0         \n",
            "=================================================================\n",
            "Total params: 282,634\n",
            "Trainable params: 282,442\n",
            "Non-trainable params: 192\n",
            "_________________________________________________________________\n",
            "None\n",
            "Epoch 1/100\n",
            "657/657 [==============================] - 8s 11ms/step - loss: 1.6883 - accuracy: 0.4058 - val_loss: 2.1695 - val_accuracy: 0.3257\n",
            "Epoch 2/100\n",
            "657/657 [==============================] - 7s 11ms/step - loss: 1.1699 - accuracy: 0.5837 - val_loss: 1.3667 - val_accuracy: 0.5180\n",
            "Epoch 3/100\n",
            "657/657 [==============================] - 7s 11ms/step - loss: 1.0016 - accuracy: 0.6453 - val_loss: 1.1990 - val_accuracy: 0.5736\n",
            "Epoch 4/100\n",
            "657/657 [==============================] - 7s 10ms/step - loss: 0.9021 - accuracy: 0.6865 - val_loss: 1.0195 - val_accuracy: 0.6462\n",
            "Epoch 5/100\n",
            "657/657 [==============================] - 7s 10ms/step - loss: 0.8129 - accuracy: 0.7143 - val_loss: 1.5627 - val_accuracy: 0.5048\n",
            "Epoch 6/100\n",
            "657/657 [==============================] - 7s 10ms/step - loss: 0.7384 - accuracy: 0.7434 - val_loss: 1.1086 - val_accuracy: 0.6247\n",
            "Epoch 7/100\n",
            "657/657 [==============================] - 7s 11ms/step - loss: 0.6658 - accuracy: 0.7668 - val_loss: 2.0621 - val_accuracy: 0.4434\n",
            "Epoch 8/100\n",
            "657/657 [==============================] - 7s 10ms/step - loss: 0.6206 - accuracy: 0.7860 - val_loss: 1.1314 - val_accuracy: 0.6327\n",
            "Epoch 9/100\n",
            "657/657 [==============================] - 7s 10ms/step - loss: 0.5629 - accuracy: 0.8040 - val_loss: 1.0561 - val_accuracy: 0.6539\n",
            "Epoch 10/100\n",
            "657/657 [==============================] - 7s 10ms/step - loss: 0.5113 - accuracy: 0.8254 - val_loss: 1.0943 - val_accuracy: 0.6569\n",
            "Epoch 11/100\n",
            "657/657 [==============================] - 7s 10ms/step - loss: 0.4594 - accuracy: 0.8460 - val_loss: 2.8212 - val_accuracy: 0.4208\n",
            "Epoch 12/100\n",
            "657/657 [==============================] - 7s 10ms/step - loss: 0.4209 - accuracy: 0.8579 - val_loss: 1.3270 - val_accuracy: 0.6212\n",
            "Epoch 13/100\n",
            "657/657 [==============================] - 7s 10ms/step - loss: 0.3678 - accuracy: 0.8782 - val_loss: 1.4757 - val_accuracy: 0.5957\n",
            "Epoch 14/100\n",
            "657/657 [==============================] - 7s 10ms/step - loss: 0.3313 - accuracy: 0.8925 - val_loss: 2.7500 - val_accuracy: 0.4626\n",
            "Epoch 15/100\n",
            "657/657 [==============================] - 7s 10ms/step - loss: 0.2855 - accuracy: 0.9081 - val_loss: 1.4962 - val_accuracy: 0.6069\n",
            "Epoch 16/100\n",
            "657/657 [==============================] - 7s 10ms/step - loss: 0.2493 - accuracy: 0.9221 - val_loss: 1.6126 - val_accuracy: 0.6069\n",
            "Epoch 17/100\n",
            "657/657 [==============================] - 7s 10ms/step - loss: 0.2155 - accuracy: 0.9350 - val_loss: 1.2193 - val_accuracy: 0.6765\n",
            "Epoch 18/100\n",
            "657/657 [==============================] - 7s 10ms/step - loss: 0.1780 - accuracy: 0.9511 - val_loss: 2.7974 - val_accuracy: 0.4735\n",
            "Epoch 19/100\n",
            "657/657 [==============================] - 7s 10ms/step - loss: 0.1524 - accuracy: 0.9575 - val_loss: 1.4375 - val_accuracy: 0.6549\n",
            "Epoch 20/100\n",
            "657/657 [==============================] - 7s 10ms/step - loss: 0.1228 - accuracy: 0.9704 - val_loss: 1.8950 - val_accuracy: 0.6054\n",
            "Epoch 21/100\n",
            "657/657 [==============================] - 7s 10ms/step - loss: 0.1049 - accuracy: 0.9754 - val_loss: 1.4064 - val_accuracy: 0.6780\n",
            "Epoch 22/100\n",
            "657/657 [==============================] - 7s 10ms/step - loss: 0.0826 - accuracy: 0.9841 - val_loss: 1.5988 - val_accuracy: 0.6574\n",
            "Epoch 23/100\n",
            "657/657 [==============================] - 7s 10ms/step - loss: 0.0634 - accuracy: 0.9901 - val_loss: 1.4554 - val_accuracy: 0.6841\n",
            "Epoch 24/100\n",
            "657/657 [==============================] - 7s 10ms/step - loss: 0.0549 - accuracy: 0.9918 - val_loss: 1.4593 - val_accuracy: 0.6868\n",
            "Epoch 25/100\n",
            "657/657 [==============================] - 7s 10ms/step - loss: 0.0443 - accuracy: 0.9951 - val_loss: 4.6541 - val_accuracy: 0.4333\n",
            "Epoch 26/100\n",
            "657/657 [==============================] - 7s 10ms/step - loss: 0.0425 - accuracy: 0.9949 - val_loss: 1.5632 - val_accuracy: 0.6867\n",
            "Epoch 27/100\n",
            "657/657 [==============================] - 7s 10ms/step - loss: 0.0290 - accuracy: 0.9982 - val_loss: 1.5465 - val_accuracy: 0.6885\n",
            "Epoch 28/100\n",
            "657/657 [==============================] - 7s 10ms/step - loss: 0.0238 - accuracy: 0.9990 - val_loss: 1.5622 - val_accuracy: 0.6903\n",
            "Epoch 29/100\n",
            "657/657 [==============================] - 7s 10ms/step - loss: 0.0198 - accuracy: 0.9990 - val_loss: 1.6195 - val_accuracy: 0.6892\n",
            "Epoch 30/100\n",
            "657/657 [==============================] - 7s 10ms/step - loss: 0.0176 - accuracy: 0.9993 - val_loss: 1.6515 - val_accuracy: 0.6903\n",
            "Epoch 31/100\n",
            "657/657 [==============================] - 7s 10ms/step - loss: 0.0146 - accuracy: 0.9997 - val_loss: 1.7023 - val_accuracy: 0.6852\n",
            "Epoch 32/100\n",
            "657/657 [==============================] - 7s 10ms/step - loss: 0.0134 - accuracy: 0.9995 - val_loss: 1.6671 - val_accuracy: 0.6893\n",
            "Epoch 33/100\n",
            "657/657 [==============================] - 7s 10ms/step - loss: 0.0118 - accuracy: 0.9999 - val_loss: 1.6869 - val_accuracy: 0.6931\n",
            "Epoch 34/100\n",
            "657/657 [==============================] - 7s 10ms/step - loss: 0.0108 - accuracy: 0.9999 - val_loss: 1.7085 - val_accuracy: 0.6933\n",
            "Epoch 35/100\n",
            "657/657 [==============================] - 7s 10ms/step - loss: 0.0094 - accuracy: 0.9998 - val_loss: 1.7161 - val_accuracy: 0.6923\n",
            "Epoch 36/100\n",
            "657/657 [==============================] - 7s 10ms/step - loss: 0.0087 - accuracy: 0.9999 - val_loss: 1.7325 - val_accuracy: 0.6946\n",
            "Epoch 37/100\n",
            "657/657 [==============================] - 7s 10ms/step - loss: 0.0078 - accuracy: 0.9999 - val_loss: 1.7984 - val_accuracy: 0.6849\n",
            "Epoch 38/100\n",
            "657/657 [==============================] - 7s 10ms/step - loss: 0.0075 - accuracy: 1.0000 - val_loss: 1.8211 - val_accuracy: 0.6869\n",
            "Epoch 39/100\n",
            "657/657 [==============================] - 7s 10ms/step - loss: 0.0069 - accuracy: 0.9999 - val_loss: 1.7736 - val_accuracy: 0.6964\n",
            "Epoch 40/100\n",
            "657/657 [==============================] - 7s 10ms/step - loss: 0.0062 - accuracy: 1.0000 - val_loss: 1.7903 - val_accuracy: 0.6943\n",
            "Epoch 41/100\n",
            "657/657 [==============================] - 7s 10ms/step - loss: 0.0061 - accuracy: 1.0000 - val_loss: 1.8501 - val_accuracy: 0.6913\n",
            "Epoch 42/100\n",
            "657/657 [==============================] - 7s 10ms/step - loss: 0.0057 - accuracy: 1.0000 - val_loss: 1.8136 - val_accuracy: 0.6939\n",
            "Epoch 43/100\n",
            "657/657 [==============================] - 7s 10ms/step - loss: 0.0053 - accuracy: 1.0000 - val_loss: 1.8361 - val_accuracy: 0.6936\n",
            "Epoch 44/100\n",
            "657/657 [==============================] - 7s 10ms/step - loss: 0.0050 - accuracy: 1.0000 - val_loss: 1.8372 - val_accuracy: 0.6932\n",
            "Epoch 45/100\n",
            "657/657 [==============================] - 7s 10ms/step - loss: 0.0047 - accuracy: 1.0000 - val_loss: 1.8741 - val_accuracy: 0.6931\n",
            "Epoch 46/100\n",
            "657/657 [==============================] - 7s 10ms/step - loss: 0.0046 - accuracy: 1.0000 - val_loss: 1.9795 - val_accuracy: 0.6791\n",
            "Epoch 47/100\n",
            "657/657 [==============================] - 7s 10ms/step - loss: 0.0047 - accuracy: 1.0000 - val_loss: 1.9495 - val_accuracy: 0.6887\n",
            "Epoch 48/100\n",
            "657/657 [==============================] - 7s 10ms/step - loss: 0.0041 - accuracy: 1.0000 - val_loss: 1.8671 - val_accuracy: 0.6951\n",
            "Epoch 49/100\n",
            "657/657 [==============================] - 7s 10ms/step - loss: 0.0040 - accuracy: 1.0000 - val_loss: 1.8996 - val_accuracy: 0.6943\n",
            "Epoch 50/100\n",
            "657/657 [==============================] - 7s 11ms/step - loss: 0.0039 - accuracy: 1.0000 - val_loss: 1.8958 - val_accuracy: 0.6974\n",
            "Epoch 51/100\n",
            "657/657 [==============================] - 7s 10ms/step - loss: 0.0035 - accuracy: 1.0000 - val_loss: 2.5642 - val_accuracy: 0.6258\n",
            "Epoch 52/100\n",
            "657/657 [==============================] - 7s 10ms/step - loss: 0.0055 - accuracy: 0.9998 - val_loss: 1.9627 - val_accuracy: 0.6868\n",
            "Epoch 53/100\n",
            "657/657 [==============================] - 7s 11ms/step - loss: 0.0037 - accuracy: 1.0000 - val_loss: 1.9215 - val_accuracy: 0.6954\n",
            "Epoch 54/100\n",
            "657/657 [==============================] - 7s 10ms/step - loss: 0.0033 - accuracy: 1.0000 - val_loss: 1.9234 - val_accuracy: 0.6960\n",
            "Epoch 55/100\n",
            "657/657 [==============================] - 7s 10ms/step - loss: 0.0033 - accuracy: 1.0000 - val_loss: 1.9332 - val_accuracy: 0.6949\n",
            "Epoch 56/100\n",
            "657/657 [==============================] - 7s 10ms/step - loss: 0.0030 - accuracy: 1.0000 - val_loss: 1.9504 - val_accuracy: 0.6979\n",
            "Epoch 57/100\n",
            "657/657 [==============================] - 7s 10ms/step - loss: 0.0028 - accuracy: 1.0000 - val_loss: 1.9415 - val_accuracy: 0.6964\n",
            "Epoch 58/100\n",
            "657/657 [==============================] - 7s 10ms/step - loss: 0.0027 - accuracy: 1.0000 - val_loss: 1.9603 - val_accuracy: 0.6941\n",
            "Epoch 59/100\n",
            "657/657 [==============================] - 7s 10ms/step - loss: 0.0027 - accuracy: 1.0000 - val_loss: 1.9733 - val_accuracy: 0.6957\n",
            "Epoch 60/100\n",
            "657/657 [==============================] - 7s 10ms/step - loss: 0.0027 - accuracy: 1.0000 - val_loss: 1.9936 - val_accuracy: 0.6954\n",
            "Epoch 61/100\n",
            "657/657 [==============================] - 7s 10ms/step - loss: 0.0025 - accuracy: 1.0000 - val_loss: 1.9805 - val_accuracy: 0.6962\n",
            "Epoch 62/100\n",
            "657/657 [==============================] - 7s 10ms/step - loss: 0.0024 - accuracy: 1.0000 - val_loss: 1.9806 - val_accuracy: 0.6953\n",
            "Epoch 63/100\n",
            "657/657 [==============================] - 7s 10ms/step - loss: 0.0023 - accuracy: 1.0000 - val_loss: 1.9824 - val_accuracy: 0.6966\n",
            "Epoch 64/100\n",
            "657/657 [==============================] - 7s 10ms/step - loss: 0.0023 - accuracy: 1.0000 - val_loss: 1.9928 - val_accuracy: 0.6948\n",
            "Epoch 65/100\n",
            "657/657 [==============================] - 7s 10ms/step - loss: 0.0024 - accuracy: 1.0000 - val_loss: 1.9992 - val_accuracy: 0.6965\n",
            "Epoch 66/100\n",
            "657/657 [==============================] - 7s 10ms/step - loss: 0.0022 - accuracy: 1.0000 - val_loss: 2.0012 - val_accuracy: 0.6944\n",
            "Epoch 67/100\n",
            "657/657 [==============================] - 7s 10ms/step - loss: 0.0021 - accuracy: 1.0000 - val_loss: 2.0100 - val_accuracy: 0.6963\n",
            "Epoch 68/100\n",
            "657/657 [==============================] - 7s 10ms/step - loss: 0.0022 - accuracy: 1.0000 - val_loss: 2.0124 - val_accuracy: 0.6966\n",
            "Epoch 69/100\n",
            "657/657 [==============================] - 7s 11ms/step - loss: 0.0020 - accuracy: 1.0000 - val_loss: 2.0259 - val_accuracy: 0.6956\n",
            "Epoch 70/100\n",
            "657/657 [==============================] - 7s 11ms/step - loss: 0.0020 - accuracy: 1.0000 - val_loss: 2.0229 - val_accuracy: 0.6960\n",
            "Epoch 71/100\n",
            "657/657 [==============================] - 7s 10ms/step - loss: 0.0020 - accuracy: 1.0000 - val_loss: 2.0336 - val_accuracy: 0.6973\n",
            "Epoch 72/100\n",
            "657/657 [==============================] - 7s 11ms/step - loss: 0.0019 - accuracy: 1.0000 - val_loss: 2.0367 - val_accuracy: 0.6971\n",
            "Epoch 73/100\n",
            "657/657 [==============================] - 7s 11ms/step - loss: 0.0019 - accuracy: 1.0000 - val_loss: 2.0383 - val_accuracy: 0.6958\n",
            "Epoch 74/100\n",
            "657/657 [==============================] - 7s 10ms/step - loss: 0.0018 - accuracy: 1.0000 - val_loss: 2.0517 - val_accuracy: 0.6947\n",
            "Epoch 75/100\n",
            "657/657 [==============================] - 7s 10ms/step - loss: 0.0017 - accuracy: 1.0000 - val_loss: 2.1766 - val_accuracy: 0.6771\n",
            "Epoch 76/100\n",
            "657/657 [==============================] - 7s 10ms/step - loss: 0.0028 - accuracy: 0.9999 - val_loss: 2.0578 - val_accuracy: 0.6972\n",
            "Epoch 77/100\n",
            "657/657 [==============================] - 7s 11ms/step - loss: 0.0018 - accuracy: 1.0000 - val_loss: 2.0748 - val_accuracy: 0.6968\n",
            "Epoch 78/100\n",
            "657/657 [==============================] - 7s 10ms/step - loss: 0.0017 - accuracy: 1.0000 - val_loss: 2.0648 - val_accuracy: 0.6961\n",
            "Epoch 79/100\n",
            "657/657 [==============================] - 7s 10ms/step - loss: 0.0018 - accuracy: 1.0000 - val_loss: 2.0671 - val_accuracy: 0.6971\n",
            "Epoch 80/100\n",
            "657/657 [==============================] - 7s 10ms/step - loss: 0.0017 - accuracy: 1.0000 - val_loss: 2.0930 - val_accuracy: 0.6949\n",
            "Epoch 81/100\n",
            "657/657 [==============================] - 7s 10ms/step - loss: 0.0016 - accuracy: 1.0000 - val_loss: 2.0879 - val_accuracy: 0.6961\n",
            "Epoch 82/100\n",
            "657/657 [==============================] - 7s 11ms/step - loss: 0.0016 - accuracy: 1.0000 - val_loss: 2.0997 - val_accuracy: 0.6952\n",
            "Epoch 83/100\n",
            "657/657 [==============================] - 7s 10ms/step - loss: 0.0016 - accuracy: 1.0000 - val_loss: 2.0903 - val_accuracy: 0.6968\n",
            "Epoch 84/100\n",
            "657/657 [==============================] - 7s 10ms/step - loss: 0.0015 - accuracy: 1.0000 - val_loss: 2.1013 - val_accuracy: 0.6963\n",
            "Epoch 85/100\n",
            "657/657 [==============================] - 7s 11ms/step - loss: 0.0015 - accuracy: 1.0000 - val_loss: 2.1041 - val_accuracy: 0.6973\n",
            "Epoch 86/100\n",
            "657/657 [==============================] - 7s 10ms/step - loss: 0.0015 - accuracy: 1.0000 - val_loss: 2.1011 - val_accuracy: 0.6961\n",
            "Epoch 87/100\n",
            "657/657 [==============================] - 7s 10ms/step - loss: 0.0013 - accuracy: 1.0000 - val_loss: 2.0982 - val_accuracy: 0.6948\n",
            "Epoch 88/100\n",
            "657/657 [==============================] - 7s 10ms/step - loss: 0.0014 - accuracy: 1.0000 - val_loss: 2.1077 - val_accuracy: 0.6968\n",
            "Epoch 89/100\n",
            "657/657 [==============================] - 7s 11ms/step - loss: 0.0013 - accuracy: 1.0000 - val_loss: 2.1295 - val_accuracy: 0.6951\n",
            "Epoch 90/100\n",
            "657/657 [==============================] - 7s 10ms/step - loss: 0.0013 - accuracy: 1.0000 - val_loss: 2.1510 - val_accuracy: 0.6933\n",
            "Epoch 91/100\n",
            "657/657 [==============================] - 7s 11ms/step - loss: 0.0014 - accuracy: 1.0000 - val_loss: 2.1249 - val_accuracy: 0.6974\n",
            "Epoch 92/100\n",
            "657/657 [==============================] - 7s 11ms/step - loss: 0.0012 - accuracy: 1.0000 - val_loss: 2.1595 - val_accuracy: 0.6961\n",
            "Epoch 93/100\n",
            "657/657 [==============================] - 7s 11ms/step - loss: 0.0013 - accuracy: 1.0000 - val_loss: 2.1366 - val_accuracy: 0.6968\n",
            "Epoch 94/100\n",
            "657/657 [==============================] - 7s 11ms/step - loss: 0.0013 - accuracy: 1.0000 - val_loss: 2.1472 - val_accuracy: 0.6948\n",
            "Epoch 95/100\n",
            "657/657 [==============================] - 7s 11ms/step - loss: 0.0015 - accuracy: 0.9999 - val_loss: 2.1457 - val_accuracy: 0.6962\n",
            "Epoch 96/100\n",
            "657/657 [==============================] - 7s 11ms/step - loss: 0.0013 - accuracy: 1.0000 - val_loss: 2.1431 - val_accuracy: 0.6957\n",
            "Epoch 97/100\n",
            "657/657 [==============================] - 7s 11ms/step - loss: 0.0012 - accuracy: 1.0000 - val_loss: 2.1439 - val_accuracy: 0.6962\n",
            "Epoch 98/100\n",
            "657/657 [==============================] - 7s 11ms/step - loss: 0.0012 - accuracy: 1.0000 - val_loss: 2.1494 - val_accuracy: 0.6977\n",
            "Epoch 99/100\n",
            "657/657 [==============================] - 7s 11ms/step - loss: 0.0011 - accuracy: 1.0000 - val_loss: 2.1630 - val_accuracy: 0.6951\n",
            "Epoch 100/100\n",
            "657/657 [==============================] - 7s 11ms/step - loss: 0.0011 - accuracy: 1.0000 - val_loss: 2.1588 - val_accuracy: 0.6964\n"
          ],
          "name": "stdout"
        }
      ]
    },
    {
      "cell_type": "code",
      "metadata": {
        "colab": {
          "base_uri": "https://localhost:8080/"
        },
        "id": "3Iod-avY3Qa2",
        "outputId": "a69236c8-443a-4c67-da09-0ffffa537b75"
      },
      "source": [
        "scores2 = model2.evaluate(X_test,y_test,verbose=0)\n",
        "print(\"Accuracy: \",scores2[1]*100)"
      ],
      "execution_count": 25,
      "outputs": [
        {
          "output_type": "stream",
          "text": [
            "Accuracy:  84.4261884689331\n"
          ],
          "name": "stdout"
        }
      ]
    },
    {
      "cell_type": "code",
      "metadata": {
        "id": "E1e5FVhRDbfV",
        "colab": {
          "base_uri": "https://localhost:8080/",
          "height": 299
        },
        "outputId": "884d1b90-c418-44f3-eafd-3ebec1111927"
      },
      "source": [
        "accuracy_plot(history2, epochs)"
      ],
      "execution_count": 26,
      "outputs": [
        {
          "output_type": "display_data",
          "data": {
            "image/png": "[encoded data removed]",
            "text/plain": [
              "<Figure size 432x288 with 1 Axes>"
            ]
          },
          "metadata": {
            "tags": []
          }
        }
      ]
    },
    {
      "cell_type": "code",
      "metadata": {
        "id": "jJgJPB7IDfY_",
        "colab": {
          "base_uri": "https://localhost:8080/",
          "height": 299
        },
        "outputId": "008b543c-3d68-4c10-86ae-5a29013cc170"
      },
      "source": [
        "loss_plot(history2, epochs)"
      ],
      "execution_count": 27,
      "outputs": [
        {
          "output_type": "display_data",
          "data": {
            "image/png": "[encoded data removed]",
            "text/plain": [
              "<Figure size 432x288 with 1 Axes>"
            ]
          },
          "metadata": {
            "tags": []
          }
        }
      ]
    },
    {
      "cell_type": "markdown",
      "metadata": {
        "id": "ZWRe_Dna5suz"
      },
      "source": [
        "## variation 3"
      ]
    },
    {
      "cell_type": "code",
      "metadata": {
        "colab": {
          "base_uri": "https://localhost:8080/"
        },
        "id": "nQV8B39D5Ykr",
        "outputId": "b8f2cef3-6edb-44da-b436-c6c5274c76cc"
      },
      "source": [
        "#designing the model\n",
        "model3 = Sequential()\n",
        "# block 1\n",
        "model3.add(Conv2D(32,(3,3), input_shape = X_train.shape[1:], activation = 'relu', padding = 'same'))\n",
        "# model.add(Dropout(0.2))\n",
        "model3.add(BatchNormalization())\n",
        "model3.add(MaxPooling2D(pool_size = (2,2)))\n",
        "model3.add(Dropout(0.2))\n",
        "\n",
        "# block 2\n",
        "model3.add(Conv2D(64,(3,3), activation = 'relu', padding = 'same'))\n",
        "model3.add(BatchNormalization())\n",
        "model3.add(MaxPooling2D(pool_size = (2,2)))\n",
        "model3.add(Dropout(0.2))\n",
        "\n",
        "# block 3\n",
        "model3.add(Conv2D(128,(3,3), activation = 'relu', padding = 'same'))\n",
        "model3.add(BatchNormalization())\n",
        "model3.add(MaxPooling2D(pool_size = (2,2)))\n",
        "model3.add(Dropout(0.2))\n",
        "\n",
        "# flatten the data to put into dense layers\n",
        "model3.add(Flatten())\n",
        "model3.add(Dropout(0.2))\n",
        "\n",
        "# add dense layer\n",
        "model3.add(Dense(64, kernel_constraint=maxnorm(3), activation = 'relu'))\n",
        "model3.add(Dropout(0.2))\n",
        "\n",
        "model3.add(Dense(class_num))\n",
        "model3.add(Activation('softmax'))\n",
        "\n",
        "# epochs = 100\n",
        "optimizer = 'SGD'\n",
        "\n",
        "model3.compile(loss='categorical_crossentropy',optimizer=optimizer, metrics=['accuracy'])\n",
        "print(model3.summary())\n",
        "history3 = model3.fit(X_train, y_train, validation_data=(X_test,y_test),epochs=epochs, batch_size=64)"
      ],
      "execution_count": 28,
      "outputs": [
        {
          "output_type": "stream",
          "text": [
            "Model: \"sequential_2\"\n",
            "_________________________________________________________________\n",
            "Layer (type)                 Output Shape              Param #   \n",
            "=================================================================\n",
            "conv2d_4 (Conv2D)            (None, 32, 32, 32)        896       \n",
            "_________________________________________________________________\n",
            "batch_normalization_2 (Batch (None, 32, 32, 32)        128       \n",
            "_________________________________________________________________\n",
            "max_pooling2d_4 (MaxPooling2 (None, 16, 16, 32)        0         \n",
            "_________________________________________________________________\n",
            "dropout_5 (Dropout)          (None, 16, 16, 32)        0         \n",
            "_________________________________________________________________\n",
            "conv2d_5 (Conv2D)            (None, 16, 16, 64)        18496     \n",
            "_________________________________________________________________\n",
            "batch_normalization_3 (Batch (None, 16, 16, 64)        256       \n",
            "_________________________________________________________________\n",
            "max_pooling2d_5 (MaxPooling2 (None, 8, 8, 64)          0         \n",
            "_________________________________________________________________\n",
            "dropout_6 (Dropout)          (None, 8, 8, 64)          0         \n",
            "_________________________________________________________________\n",
            "conv2d_6 (Conv2D)            (None, 8, 8, 128)         73856     \n",
            "_________________________________________________________________\n",
            "batch_normalization_4 (Batch (None, 8, 8, 128)         512       \n",
            "_________________________________________________________________\n",
            "max_pooling2d_6 (MaxPooling2 (None, 4, 4, 128)         0         \n",
            "_________________________________________________________________\n",
            "dropout_7 (Dropout)          (None, 4, 4, 128)         0         \n",
            "_________________________________________________________________\n",
            "flatten_2 (Flatten)          (None, 2048)              0         \n",
            "_________________________________________________________________\n",
            "dropout_8 (Dropout)          (None, 2048)              0         \n",
            "_________________________________________________________________\n",
            "dense_4 (Dense)              (None, 64)                131136    \n",
            "_________________________________________________________________\n",
            "dropout_9 (Dropout)          (None, 64)                0         \n",
            "_________________________________________________________________\n",
            "dense_5 (Dense)              (None, 10)                650       \n",
            "_________________________________________________________________\n",
            "activation_2 (Activation)    (None, 10)                0         \n",
            "=================================================================\n",
            "Total params: 225,930\n",
            "Trainable params: 225,482\n",
            "Non-trainable params: 448\n",
            "_________________________________________________________________\n",
            "None\n",
            "Epoch 1/100\n",
            "657/657 [==============================] - 11s 15ms/step - loss: 2.1558 - accuracy: 0.2508 - val_loss: 1.5766 - val_accuracy: 0.4341\n",
            "Epoch 2/100\n",
            "657/657 [==============================] - 9s 14ms/step - loss: 1.6061 - accuracy: 0.4099 - val_loss: 1.4180 - val_accuracy: 0.4795\n",
            "Epoch 3/100\n",
            "657/657 [==============================] - 9s 14ms/step - loss: 1.4765 - accuracy: 0.4614 - val_loss: 2.3794 - val_accuracy: 0.2956\n",
            "Epoch 4/100\n",
            "657/657 [==============================] - 9s 14ms/step - loss: 1.4055 - accuracy: 0.4887 - val_loss: 1.5104 - val_accuracy: 0.4662\n",
            "Epoch 5/100\n",
            "657/657 [==============================] - 9s 14ms/step - loss: 1.3257 - accuracy: 0.5179 - val_loss: 2.8170 - val_accuracy: 0.3556\n",
            "Epoch 6/100\n",
            "657/657 [==============================] - 9s 14ms/step - loss: 1.2744 - accuracy: 0.5380 - val_loss: 1.2492 - val_accuracy: 0.5639\n",
            "Epoch 7/100\n",
            "657/657 [==============================] - 9s 14ms/step - loss: 1.2234 - accuracy: 0.5590 - val_loss: 1.5459 - val_accuracy: 0.4831\n",
            "Epoch 8/100\n",
            "657/657 [==============================] - 9s 14ms/step - loss: 1.1678 - accuracy: 0.5818 - val_loss: 1.5976 - val_accuracy: 0.4538\n",
            "Epoch 9/100\n",
            "657/657 [==============================] - 9s 14ms/step - loss: 1.1388 - accuracy: 0.5917 - val_loss: 1.2043 - val_accuracy: 0.5807\n",
            "Epoch 10/100\n",
            "657/657 [==============================] - 9s 14ms/step - loss: 1.1066 - accuracy: 0.6070 - val_loss: 0.9616 - val_accuracy: 0.6586\n",
            "Epoch 11/100\n",
            "657/657 [==============================] - 9s 14ms/step - loss: 1.0710 - accuracy: 0.6241 - val_loss: 1.1996 - val_accuracy: 0.5671\n",
            "Epoch 12/100\n",
            "657/657 [==============================] - 9s 14ms/step - loss: 1.0544 - accuracy: 0.6235 - val_loss: 1.0938 - val_accuracy: 0.6316\n",
            "Epoch 13/100\n",
            "657/657 [==============================] - 9s 14ms/step - loss: 1.0229 - accuracy: 0.6367 - val_loss: 1.0181 - val_accuracy: 0.6474\n",
            "Epoch 14/100\n",
            "657/657 [==============================] - 9s 14ms/step - loss: 0.9843 - accuracy: 0.6468 - val_loss: 1.1297 - val_accuracy: 0.6079\n",
            "Epoch 15/100\n",
            "657/657 [==============================] - 9s 14ms/step - loss: 0.9703 - accuracy: 0.6575 - val_loss: 1.2786 - val_accuracy: 0.5830\n",
            "Epoch 16/100\n",
            "657/657 [==============================] - 9s 14ms/step - loss: 0.9531 - accuracy: 0.6615 - val_loss: 0.9099 - val_accuracy: 0.6814\n",
            "Epoch 17/100\n",
            "657/657 [==============================] - 9s 14ms/step - loss: 0.9413 - accuracy: 0.6681 - val_loss: 0.9391 - val_accuracy: 0.6739\n",
            "Epoch 18/100\n",
            "657/657 [==============================] - 9s 14ms/step - loss: 0.9148 - accuracy: 0.6777 - val_loss: 1.0545 - val_accuracy: 0.6316\n",
            "Epoch 19/100\n",
            "657/657 [==============================] - 9s 14ms/step - loss: 0.9007 - accuracy: 0.6813 - val_loss: 0.8396 - val_accuracy: 0.7047\n",
            "Epoch 20/100\n",
            "657/657 [==============================] - 9s 14ms/step - loss: 0.8863 - accuracy: 0.6889 - val_loss: 0.8802 - val_accuracy: 0.6870\n",
            "Epoch 21/100\n",
            "657/657 [==============================] - 9s 14ms/step - loss: 0.8694 - accuracy: 0.6918 - val_loss: 0.9215 - val_accuracy: 0.6761\n",
            "Epoch 22/100\n",
            "657/657 [==============================] - 9s 14ms/step - loss: 0.8848 - accuracy: 0.6872 - val_loss: 1.0592 - val_accuracy: 0.6498\n",
            "Epoch 23/100\n",
            "657/657 [==============================] - 9s 13ms/step - loss: 0.8497 - accuracy: 0.6990 - val_loss: 0.9155 - val_accuracy: 0.6818\n",
            "Epoch 24/100\n",
            "657/657 [==============================] - 9s 14ms/step - loss: 0.8312 - accuracy: 0.7027 - val_loss: 0.8998 - val_accuracy: 0.6902\n",
            "Epoch 25/100\n",
            "657/657 [==============================] - 9s 14ms/step - loss: 0.8252 - accuracy: 0.7107 - val_loss: 1.0932 - val_accuracy: 0.6247\n",
            "Epoch 26/100\n",
            "657/657 [==============================] - 9s 14ms/step - loss: 0.8131 - accuracy: 0.7097 - val_loss: 0.8400 - val_accuracy: 0.7073\n",
            "Epoch 27/100\n",
            "657/657 [==============================] - 9s 14ms/step - loss: 0.7963 - accuracy: 0.7177 - val_loss: 0.9528 - val_accuracy: 0.6818\n",
            "Epoch 28/100\n",
            "657/657 [==============================] - 9s 14ms/step - loss: 0.7934 - accuracy: 0.7211 - val_loss: 0.8281 - val_accuracy: 0.7075\n",
            "Epoch 29/100\n",
            "657/657 [==============================] - 9s 13ms/step - loss: 0.7911 - accuracy: 0.7189 - val_loss: 0.9001 - val_accuracy: 0.6862\n",
            "Epoch 30/100\n",
            "657/657 [==============================] - 9s 14ms/step - loss: 0.7824 - accuracy: 0.7227 - val_loss: 0.7472 - val_accuracy: 0.7408\n",
            "Epoch 31/100\n",
            "657/657 [==============================] - 9s 14ms/step - loss: 0.7683 - accuracy: 0.7297 - val_loss: 0.9320 - val_accuracy: 0.6712\n",
            "Epoch 32/100\n",
            "657/657 [==============================] - 9s 14ms/step - loss: 0.7558 - accuracy: 0.7334 - val_loss: 0.7752 - val_accuracy: 0.7314\n",
            "Epoch 33/100\n",
            "657/657 [==============================] - 9s 14ms/step - loss: 0.7643 - accuracy: 0.7296 - val_loss: 0.7544 - val_accuracy: 0.7401\n",
            "Epoch 34/100\n",
            "657/657 [==============================] - 9s 14ms/step - loss: 0.7513 - accuracy: 0.7343 - val_loss: 0.7514 - val_accuracy: 0.7378\n",
            "Epoch 35/100\n",
            "657/657 [==============================] - 9s 14ms/step - loss: 0.7334 - accuracy: 0.7396 - val_loss: 0.7615 - val_accuracy: 0.7381\n",
            "Epoch 36/100\n",
            "657/657 [==============================] - 9s 14ms/step - loss: 0.7324 - accuracy: 0.7446 - val_loss: 0.8097 - val_accuracy: 0.7247\n",
            "Epoch 37/100\n",
            "657/657 [==============================] - 9s 14ms/step - loss: 0.7171 - accuracy: 0.7440 - val_loss: 0.9898 - val_accuracy: 0.6848\n",
            "Epoch 38/100\n",
            "657/657 [==============================] - 9s 14ms/step - loss: 0.7154 - accuracy: 0.7472 - val_loss: 0.7774 - val_accuracy: 0.7329\n",
            "Epoch 39/100\n",
            "657/657 [==============================] - 9s 14ms/step - loss: 0.7172 - accuracy: 0.7467 - val_loss: 0.8026 - val_accuracy: 0.7207\n",
            "Epoch 40/100\n",
            "657/657 [==============================] - 9s 14ms/step - loss: 0.7050 - accuracy: 0.7502 - val_loss: 0.9670 - val_accuracy: 0.6778\n",
            "Epoch 41/100\n",
            "657/657 [==============================] - 9s 14ms/step - loss: 0.6948 - accuracy: 0.7571 - val_loss: 1.0085 - val_accuracy: 0.6699\n",
            "Epoch 42/100\n",
            "657/657 [==============================] - 9s 14ms/step - loss: 0.7020 - accuracy: 0.7506 - val_loss: 0.6900 - val_accuracy: 0.7633\n",
            "Epoch 43/100\n",
            "657/657 [==============================] - 9s 13ms/step - loss: 0.6892 - accuracy: 0.7542 - val_loss: 0.7429 - val_accuracy: 0.7466\n",
            "Epoch 44/100\n",
            "657/657 [==============================] - 9s 13ms/step - loss: 0.6774 - accuracy: 0.7602 - val_loss: 0.9556 - val_accuracy: 0.6812\n",
            "Epoch 45/100\n",
            "657/657 [==============================] - 9s 14ms/step - loss: 0.6731 - accuracy: 0.7603 - val_loss: 0.7794 - val_accuracy: 0.7324\n",
            "Epoch 46/100\n",
            "657/657 [==============================] - 9s 14ms/step - loss: 0.6744 - accuracy: 0.7625 - val_loss: 1.1370 - val_accuracy: 0.6431\n",
            "Epoch 47/100\n",
            "657/657 [==============================] - 9s 14ms/step - loss: 0.6617 - accuracy: 0.7674 - val_loss: 0.7760 - val_accuracy: 0.7391\n",
            "Epoch 48/100\n",
            "657/657 [==============================] - 9s 14ms/step - loss: 0.6551 - accuracy: 0.7670 - val_loss: 2.8044 - val_accuracy: 0.4092\n",
            "Epoch 49/100\n",
            "657/657 [==============================] - 9s 14ms/step - loss: 0.6562 - accuracy: 0.7666 - val_loss: 0.6449 - val_accuracy: 0.7794\n",
            "Epoch 50/100\n",
            "657/657 [==============================] - 9s 14ms/step - loss: 0.6463 - accuracy: 0.7685 - val_loss: 0.7436 - val_accuracy: 0.7417\n",
            "Epoch 51/100\n",
            "657/657 [==============================] - 9s 14ms/step - loss: 0.6403 - accuracy: 0.7739 - val_loss: 0.6956 - val_accuracy: 0.7605\n",
            "Epoch 52/100\n",
            "657/657 [==============================] - 9s 14ms/step - loss: 0.6428 - accuracy: 0.7715 - val_loss: 0.6856 - val_accuracy: 0.7609\n",
            "Epoch 53/100\n",
            "657/657 [==============================] - 9s 14ms/step - loss: 0.6240 - accuracy: 0.7769 - val_loss: 1.4638 - val_accuracy: 0.5991\n",
            "Epoch 54/100\n",
            "657/657 [==============================] - 9s 14ms/step - loss: 0.6193 - accuracy: 0.7795 - val_loss: 0.8213 - val_accuracy: 0.7251\n",
            "Epoch 55/100\n",
            "657/657 [==============================] - 9s 14ms/step - loss: 0.6315 - accuracy: 0.7763 - val_loss: 0.9308 - val_accuracy: 0.6946\n",
            "Epoch 56/100\n",
            "657/657 [==============================] - 9s 14ms/step - loss: 0.6195 - accuracy: 0.7752 - val_loss: 0.6653 - val_accuracy: 0.7683\n",
            "Epoch 57/100\n",
            "657/657 [==============================] - 9s 14ms/step - loss: 0.6212 - accuracy: 0.7755 - val_loss: 0.6702 - val_accuracy: 0.7702\n",
            "Epoch 58/100\n",
            "657/657 [==============================] - 9s 14ms/step - loss: 0.6057 - accuracy: 0.7836 - val_loss: 0.9771 - val_accuracy: 0.6976\n",
            "Epoch 59/100\n",
            "657/657 [==============================] - 9s 14ms/step - loss: 0.6020 - accuracy: 0.7862 - val_loss: 0.6372 - val_accuracy: 0.7832\n",
            "Epoch 60/100\n",
            "657/657 [==============================] - 9s 14ms/step - loss: 0.6073 - accuracy: 0.7851 - val_loss: 0.8407 - val_accuracy: 0.7232\n",
            "Epoch 61/100\n",
            "657/657 [==============================] - 9s 14ms/step - loss: 0.5940 - accuracy: 0.7875 - val_loss: 0.6623 - val_accuracy: 0.7757\n",
            "Epoch 62/100\n",
            "657/657 [==============================] - 9s 14ms/step - loss: 0.5883 - accuracy: 0.7923 - val_loss: 0.6653 - val_accuracy: 0.7691\n",
            "Epoch 63/100\n",
            "657/657 [==============================] - 9s 14ms/step - loss: 0.5759 - accuracy: 0.7952 - val_loss: 0.7718 - val_accuracy: 0.7442\n",
            "Epoch 64/100\n",
            "657/657 [==============================] - 9s 14ms/step - loss: 0.5818 - accuracy: 0.7948 - val_loss: 0.9752 - val_accuracy: 0.7016\n",
            "Epoch 65/100\n",
            "657/657 [==============================] - 9s 14ms/step - loss: 0.5793 - accuracy: 0.7944 - val_loss: 0.6992 - val_accuracy: 0.7589\n",
            "Epoch 66/100\n",
            "657/657 [==============================] - 9s 14ms/step - loss: 0.5759 - accuracy: 0.7938 - val_loss: 0.6750 - val_accuracy: 0.7730\n",
            "Epoch 67/100\n",
            "657/657 [==============================] - 9s 14ms/step - loss: 0.5633 - accuracy: 0.7996 - val_loss: 0.7834 - val_accuracy: 0.7449\n",
            "Epoch 68/100\n",
            "657/657 [==============================] - 9s 14ms/step - loss: 0.5676 - accuracy: 0.7993 - val_loss: 0.7530 - val_accuracy: 0.7494\n",
            "Epoch 69/100\n",
            "657/657 [==============================] - 9s 14ms/step - loss: 0.5699 - accuracy: 0.7976 - val_loss: 1.0001 - val_accuracy: 0.6938\n",
            "Epoch 70/100\n",
            "657/657 [==============================] - 9s 14ms/step - loss: 0.5601 - accuracy: 0.7958 - val_loss: 0.6018 - val_accuracy: 0.7904\n",
            "Epoch 71/100\n",
            "657/657 [==============================] - 9s 14ms/step - loss: 0.5690 - accuracy: 0.7972 - val_loss: 0.6310 - val_accuracy: 0.7852\n",
            "Epoch 72/100\n",
            "657/657 [==============================] - 9s 14ms/step - loss: 0.5542 - accuracy: 0.8042 - val_loss: 0.6822 - val_accuracy: 0.7677\n",
            "Epoch 73/100\n",
            "657/657 [==============================] - 9s 14ms/step - loss: 0.5594 - accuracy: 0.8027 - val_loss: 0.6612 - val_accuracy: 0.7758\n",
            "Epoch 74/100\n",
            "657/657 [==============================] - 9s 14ms/step - loss: 0.5482 - accuracy: 0.8055 - val_loss: 0.6046 - val_accuracy: 0.7923\n",
            "Epoch 75/100\n",
            "657/657 [==============================] - 9s 14ms/step - loss: 0.5530 - accuracy: 0.8016 - val_loss: 0.8704 - val_accuracy: 0.7256\n",
            "Epoch 76/100\n",
            "657/657 [==============================] - 9s 14ms/step - loss: 0.5333 - accuracy: 0.8071 - val_loss: 0.6214 - val_accuracy: 0.7887\n",
            "Epoch 77/100\n",
            "657/657 [==============================] - 9s 14ms/step - loss: 0.5449 - accuracy: 0.8058 - val_loss: 0.7334 - val_accuracy: 0.7591\n",
            "Epoch 78/100\n",
            "657/657 [==============================] - 9s 14ms/step - loss: 0.5364 - accuracy: 0.8084 - val_loss: 0.6581 - val_accuracy: 0.7752\n",
            "Epoch 79/100\n",
            "657/657 [==============================] - 9s 14ms/step - loss: 0.5291 - accuracy: 0.8123 - val_loss: 0.8073 - val_accuracy: 0.7381\n",
            "Epoch 80/100\n",
            "657/657 [==============================] - 9s 14ms/step - loss: 0.5324 - accuracy: 0.8108 - val_loss: 0.6327 - val_accuracy: 0.7882\n",
            "Epoch 81/100\n",
            "657/657 [==============================] - 9s 14ms/step - loss: 0.5251 - accuracy: 0.8113 - val_loss: 0.6743 - val_accuracy: 0.7772\n",
            "Epoch 82/100\n",
            "657/657 [==============================] - 9s 14ms/step - loss: 0.5204 - accuracy: 0.8142 - val_loss: 0.6083 - val_accuracy: 0.7957\n",
            "Epoch 83/100\n",
            "657/657 [==============================] - 9s 14ms/step - loss: 0.5315 - accuracy: 0.8085 - val_loss: 0.6257 - val_accuracy: 0.7931\n",
            "Epoch 84/100\n",
            "657/657 [==============================] - 9s 14ms/step - loss: 0.5257 - accuracy: 0.8109 - val_loss: 0.7159 - val_accuracy: 0.7641\n",
            "Epoch 85/100\n",
            "657/657 [==============================] - 9s 14ms/step - loss: 0.5123 - accuracy: 0.8187 - val_loss: 0.7088 - val_accuracy: 0.7658\n",
            "Epoch 86/100\n",
            "657/657 [==============================] - 9s 14ms/step - loss: 0.5082 - accuracy: 0.8196 - val_loss: 0.6587 - val_accuracy: 0.7861\n",
            "Epoch 87/100\n",
            "657/657 [==============================] - 9s 14ms/step - loss: 0.5025 - accuracy: 0.8212 - val_loss: 0.5754 - val_accuracy: 0.8037\n",
            "Epoch 88/100\n",
            "657/657 [==============================] - 9s 14ms/step - loss: 0.5123 - accuracy: 0.8181 - val_loss: 0.6107 - val_accuracy: 0.7957\n",
            "Epoch 89/100\n",
            "657/657 [==============================] - 9s 14ms/step - loss: 0.5044 - accuracy: 0.8188 - val_loss: 0.7641 - val_accuracy: 0.7588\n",
            "Epoch 90/100\n",
            "657/657 [==============================] - 9s 14ms/step - loss: 0.4972 - accuracy: 0.8208 - val_loss: 0.7068 - val_accuracy: 0.7703\n",
            "Epoch 91/100\n",
            "657/657 [==============================] - 9s 14ms/step - loss: 0.4947 - accuracy: 0.8252 - val_loss: 0.6106 - val_accuracy: 0.7943\n",
            "Epoch 92/100\n",
            "657/657 [==============================] - 9s 14ms/step - loss: 0.4878 - accuracy: 0.8242 - val_loss: 0.6550 - val_accuracy: 0.7789\n",
            "Epoch 93/100\n",
            "657/657 [==============================] - 9s 14ms/step - loss: 0.4954 - accuracy: 0.8229 - val_loss: 0.6598 - val_accuracy: 0.7833\n",
            "Epoch 94/100\n",
            "657/657 [==============================] - 9s 14ms/step - loss: 0.4934 - accuracy: 0.8246 - val_loss: 0.7244 - val_accuracy: 0.7619\n",
            "Epoch 95/100\n",
            "657/657 [==============================] - 9s 14ms/step - loss: 0.4899 - accuracy: 0.8269 - val_loss: 0.9785 - val_accuracy: 0.6986\n",
            "Epoch 96/100\n",
            "657/657 [==============================] - 9s 14ms/step - loss: 0.5044 - accuracy: 0.8190 - val_loss: 0.5770 - val_accuracy: 0.8052\n",
            "Epoch 97/100\n",
            "657/657 [==============================] - 9s 14ms/step - loss: 0.4917 - accuracy: 0.8223 - val_loss: 1.0724 - val_accuracy: 0.6924\n",
            "Epoch 98/100\n",
            "657/657 [==============================] - 9s 14ms/step - loss: 0.4887 - accuracy: 0.8216 - val_loss: 0.8038 - val_accuracy: 0.7389\n",
            "Epoch 99/100\n",
            "657/657 [==============================] - 9s 14ms/step - loss: 0.4855 - accuracy: 0.8274 - val_loss: 0.5561 - val_accuracy: 0.8143\n",
            "Epoch 100/100\n",
            "657/657 [==============================] - 9s 14ms/step - loss: 0.4731 - accuracy: 0.8314 - val_loss: 1.2244 - val_accuracy: 0.6556\n"
          ],
          "name": "stdout"
        }
      ]
    },
    {
      "cell_type": "code",
      "metadata": {
        "colab": {
          "base_uri": "https://localhost:8080/"
        },
        "id": "zKK0q7jK5-jE",
        "outputId": "7bbba25f-7419-479b-cb67-6e1ba4f9602b"
      },
      "source": [
        "scores3 = model3.evaluate(X_test,y_test,verbose=0)\n",
        "print(\"Accuracy: \",scores3[1]*100)"
      ],
      "execution_count": 29,
      "outputs": [
        {
          "output_type": "stream",
          "text": [
            "Accuracy:  84.4261884689331\n"
          ],
          "name": "stdout"
        }
      ]
    },
    {
      "cell_type": "code",
      "metadata": {
        "colab": {
          "base_uri": "https://localhost:8080/"
        },
        "id": "KFPfKrNwRCZe",
        "outputId": "95f7cc92-be91-4e5a-f6a6-d61e02012afa"
      },
      "source": [
        "scores3 = model3.evaluate(X_train,y_train,verbose=0)\n",
        "print(\"Accuracy: \",scores3[1]*100)"
      ],
      "execution_count": 32,
      "outputs": [
        {
          "output_type": "stream",
          "text": [
            "Accuracy:  72.01428413391113\n"
          ],
          "name": "stdout"
        }
      ]
    },
    {
      "cell_type": "code",
      "metadata": {
        "colab": {
          "base_uri": "https://localhost:8080/",
          "height": 299
        },
        "id": "aaazKDfaRJ2T",
        "outputId": "333de35a-6fca-4501-bf70-73fdf5a30592"
      },
      "source": [
        "accuracy_plot(history3, epochs)"
      ],
      "execution_count": 34,
      "outputs": [
        {
          "output_type": "display_data",
          "data": {
            "image/png": "[encoded data removed]",
            "text/plain": [
              "<Figure size 432x288 with 1 Axes>"
            ]
          },
          "metadata": {
            "tags": []
          }
        }
      ]
    },
    {
      "cell_type": "code",
      "metadata": {
        "colab": {
          "base_uri": "https://localhost:8080/",
          "height": 299
        },
        "id": "KBKjWaK-97va",
        "outputId": "5cd9c6ab-f343-40b1-b3da-b1732d8e9e81"
      },
      "source": [
        "loss_plot(history3, epochs)"
      ],
      "execution_count": 35,
      "outputs": [
        {
          "output_type": "display_data",
          "data": {
            "image/png": "[encoded data removed]",
            "text/plain": [
              "<Figure size 432x288 with 1 Axes>"
            ]
          },
          "metadata": {
            "tags": []
          }
        }
      ]
    }
  ]
}