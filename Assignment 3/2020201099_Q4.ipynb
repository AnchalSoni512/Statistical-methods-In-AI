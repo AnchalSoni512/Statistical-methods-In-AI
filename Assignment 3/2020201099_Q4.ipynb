{
  "nbformat": 4,
  "nbformat_minor": 0,
  "metadata": {
    "accelerator": "GPU",
    "colab": {
      "name": "anchalq4.ipynb",
      "provenance": [],
      "collapsed_sections": []
    },
    "kernelspec": {
      "display_name": "Python 3",
      "name": "python3"
    },
    "language_info": {
      "name": "python"
    }
  },
  "cells": [
    {
      "cell_type": "code",
      "metadata": {
        "id": "UbvvUZlA3kyp",
        "colab": {
          "base_uri": "https://localhost:8080/"
        },
        "outputId": "0b67d148-daba-4f55-d649-33e63fb0afa2"
      },
      "source": [
        "!pip install -q -U tensorflow-addons"
      ],
      "execution_count": 2,
      "outputs": [
        {
          "output_type": "stream",
          "text": [
            "\u001b[?25l\r\u001b[K     |▌                               | 10kB 17.5MB/s eta 0:00:01\r\u001b[K     |█                               | 20kB 11.5MB/s eta 0:00:01\r\u001b[K     |█▍                              | 30kB 8.7MB/s eta 0:00:01\r\u001b[K     |█▉                              | 40kB 7.2MB/s eta 0:00:01\r\u001b[K     |██▎                             | 51kB 3.8MB/s eta 0:00:01\r\u001b[K     |██▉                             | 61kB 4.4MB/s eta 0:00:01\r\u001b[K     |███▎                            | 71kB 4.6MB/s eta 0:00:01\r\u001b[K     |███▊                            | 81kB 4.8MB/s eta 0:00:01\r\u001b[K     |████▏                           | 92kB 5.0MB/s eta 0:00:01\r\u001b[K     |████▋                           | 102kB 3.8MB/s eta 0:00:01\r\u001b[K     |█████▏                          | 112kB 3.8MB/s eta 0:00:01\r\u001b[K     |█████▋                          | 122kB 3.8MB/s eta 0:00:01\r\u001b[K     |██████                          | 133kB 3.8MB/s eta 0:00:01\r\u001b[K     |██████▌                         | 143kB 3.8MB/s eta 0:00:01\r\u001b[K     |███████                         | 153kB 3.8MB/s eta 0:00:01\r\u001b[K     |███████▌                        | 163kB 3.8MB/s eta 0:00:01\r\u001b[K     |████████                        | 174kB 3.8MB/s eta 0:00:01\r\u001b[K     |████████▍                       | 184kB 3.8MB/s eta 0:00:01\r\u001b[K     |████████▉                       | 194kB 3.8MB/s eta 0:00:01\r\u001b[K     |█████████▎                      | 204kB 3.8MB/s eta 0:00:01\r\u001b[K     |█████████▉                      | 215kB 3.8MB/s eta 0:00:01\r\u001b[K     |██████████▎                     | 225kB 3.8MB/s eta 0:00:01\r\u001b[K     |██████████▊                     | 235kB 3.8MB/s eta 0:00:01\r\u001b[K     |███████████▏                    | 245kB 3.8MB/s eta 0:00:01\r\u001b[K     |███████████▋                    | 256kB 3.8MB/s eta 0:00:01\r\u001b[K     |████████████▏                   | 266kB 3.8MB/s eta 0:00:01\r\u001b[K     |████████████▋                   | 276kB 3.8MB/s eta 0:00:01\r\u001b[K     |█████████████                   | 286kB 3.8MB/s eta 0:00:01\r\u001b[K     |█████████████▌                  | 296kB 3.8MB/s eta 0:00:01\r\u001b[K     |██████████████                  | 307kB 3.8MB/s eta 0:00:01\r\u001b[K     |██████████████▍                 | 317kB 3.8MB/s eta 0:00:01\r\u001b[K     |███████████████                 | 327kB 3.8MB/s eta 0:00:01\r\u001b[K     |███████████████▍                | 337kB 3.8MB/s eta 0:00:01\r\u001b[K     |███████████████▉                | 348kB 3.8MB/s eta 0:00:01\r\u001b[K     |████████████████▎               | 358kB 3.8MB/s eta 0:00:01\r\u001b[K     |████████████████▊               | 368kB 3.8MB/s eta 0:00:01\r\u001b[K     |█████████████████▎              | 378kB 3.8MB/s eta 0:00:01\r\u001b[K     |█████████████████▊              | 389kB 3.8MB/s eta 0:00:01\r\u001b[K     |██████████████████▏             | 399kB 3.8MB/s eta 0:00:01\r\u001b[K     |██████████████████▋             | 409kB 3.8MB/s eta 0:00:01\r\u001b[K     |███████████████████             | 419kB 3.8MB/s eta 0:00:01\r\u001b[K     |███████████████████▋            | 430kB 3.8MB/s eta 0:00:01\r\u001b[K     |████████████████████            | 440kB 3.8MB/s eta 0:00:01\r\u001b[K     |████████████████████▌           | 450kB 3.8MB/s eta 0:00:01\r\u001b[K     |█████████████████████           | 460kB 3.8MB/s eta 0:00:01\r\u001b[K     |█████████████████████▍          | 471kB 3.8MB/s eta 0:00:01\r\u001b[K     |██████████████████████          | 481kB 3.8MB/s eta 0:00:01\r\u001b[K     |██████████████████████▍         | 491kB 3.8MB/s eta 0:00:01\r\u001b[K     |██████████████████████▉         | 501kB 3.8MB/s eta 0:00:01\r\u001b[K     |███████████████████████▎        | 512kB 3.8MB/s eta 0:00:01\r\u001b[K     |███████████████████████▊        | 522kB 3.8MB/s eta 0:00:01\r\u001b[K     |████████████████████████▎       | 532kB 3.8MB/s eta 0:00:01\r\u001b[K     |████████████████████████▊       | 542kB 3.8MB/s eta 0:00:01\r\u001b[K     |█████████████████████████▏      | 552kB 3.8MB/s eta 0:00:01\r\u001b[K     |█████████████████████████▋      | 563kB 3.8MB/s eta 0:00:01\r\u001b[K     |██████████████████████████      | 573kB 3.8MB/s eta 0:00:01\r\u001b[K     |██████████████████████████▋     | 583kB 3.8MB/s eta 0:00:01\r\u001b[K     |███████████████████████████     | 593kB 3.8MB/s eta 0:00:01\r\u001b[K     |███████████████████████████▌    | 604kB 3.8MB/s eta 0:00:01\r\u001b[K     |████████████████████████████    | 614kB 3.8MB/s eta 0:00:01\r\u001b[K     |████████████████████████████▍   | 624kB 3.8MB/s eta 0:00:01\r\u001b[K     |████████████████████████████▉   | 634kB 3.8MB/s eta 0:00:01\r\u001b[K     |█████████████████████████████▍  | 645kB 3.8MB/s eta 0:00:01\r\u001b[K     |█████████████████████████████▉  | 655kB 3.8MB/s eta 0:00:01\r\u001b[K     |██████████████████████████████▎ | 665kB 3.8MB/s eta 0:00:01\r\u001b[K     |██████████████████████████████▊ | 675kB 3.8MB/s eta 0:00:01\r\u001b[K     |███████████████████████████████▏| 686kB 3.8MB/s eta 0:00:01\r\u001b[K     |███████████████████████████████▊| 696kB 3.8MB/s eta 0:00:01\r\u001b[K     |████████████████████████████████| 706kB 3.8MB/s \n",
            "\u001b[?25h"
          ],
          "name": "stdout"
        }
      ]
    },
    {
      "cell_type": "markdown",
      "metadata": {
        "id": "ozkyddCbfNEW"
      },
      "source": [
        "# PART 1 Implement a Siamese network on the given dataset"
      ]
    },
    {
      "cell_type": "code",
      "metadata": {
        "id": "EVcObVUsC2C4"
      },
      "source": [
        "# importing libraries\n",
        "import numpy as np\n",
        "import tensorflow as tf\n",
        "from tensorflow import keras\n",
        "from keras.datasets import mnist\n",
        "from keras.models import Model\n",
        "from keras.layers import Input\n",
        "from keras.layers import Lambda \n",
        "from keras.layers import Dense\n",
        "from keras.layers import Flatten\n",
        "from keras import backend\n",
        "from keras.models import Sequential\n",
        "from keras.losses import BinaryCrossentropy\n",
        "from sklearn.model_selection import train_test_split\n",
        "import tensorflow_addons as tfa\n",
        "import random\n",
        "from tabulate import tabulate"
      ],
      "execution_count": 3,
      "outputs": []
    },
    {
      "cell_type": "code",
      "metadata": {
        "id": "KE7vbUqsvb1Q",
        "colab": {
          "base_uri": "https://localhost:8080/"
        },
        "outputId": "a16dc1f3-14e4-449b-af02-adee8ae7f32a"
      },
      "source": [
        "# loading the dataset\n",
        "(trainX, trainy), (testX, testy) = mnist.load_data()"
      ],
      "execution_count": 4,
      "outputs": [
        {
          "output_type": "stream",
          "text": [
            "Downloading data from https://storage.googleapis.com/tensorflow/tf-keras-datasets/mnist.npz\n",
            "11493376/11490434 [==============================] - 0s 0us/step\n"
          ],
          "name": "stdout"
        }
      ]
    },
    {
      "cell_type": "code",
      "metadata": {
        "id": "3B8kNwxMxRBP"
      },
      "source": [
        "trainX = trainX.astype('float32')/255.0\n",
        "testX = testX.astype('float32')/255.0"
      ],
      "execution_count": 5,
      "outputs": []
    },
    {
      "cell_type": "code",
      "metadata": {
        "id": "uSXgruyoyoyQ"
      },
      "source": [
        "trainX, valX, trainy, valy = train_test_split(trainX, trainy, test_size=0.2, shuffle=True, random_state=200)"
      ],
      "execution_count": 6,
      "outputs": []
    },
    {
      "cell_type": "code",
      "metadata": {
        "id": "pRsGJN7yvZUB"
      },
      "source": [
        "# NUM_CLASSES = 10\n",
        "# EPOCHS = 10\n",
        "# INPUT_SHAPE = trainX.shape[1:]\n",
        "# BATCH_SIZE=32\n",
        "constvar_dec = {}\n",
        "constvar_dec[\"NUM_CLASSES\"] = 10 \n",
        "constvar_dec[\"EPOCHS\"] = 10\n",
        "constvar_dec['INPUT_SHAPE'] = trainX.shape[1:]\n",
        "constvar_dec['BATCH_SIZE'] = 32"
      ],
      "execution_count": 7,
      "outputs": []
    },
    {
      "cell_type": "code",
      "metadata": {
        "id": "o5p4tbqVy6k-"
      },
      "source": [
        "class siamese_network:\n",
        "\n",
        "  def __init__(self,var):\n",
        "    self.var = var\n",
        "\n",
        "  def euclidean_distance_output_shape(self, shape):\n",
        "    shape1=[]\n",
        "    shape2=[]\n",
        "    shape1, shape2 = shapes\n",
        "    return (shape1[0], 1)\n",
        "    # return (shape[0][0],1)\n",
        "\n",
        "  def contrastive_loss(self, y, y_pred):\n",
        "    first_term = y*backend.square(y_pred) \n",
        "    second_term = (1-y)*backend.square(backend.maximum(1-y_pred,0))\n",
        "    c_l = first_term + second_term\n",
        "    return backend.mean(c_l)\n",
        "    # return backend.mean(y*backend.square(y_pred) + (1-y)*backend.square(backend.maximum(1-y_pred,0)))\n",
        "\n",
        "  def create_pairs(self, X, digit_idxs):\n",
        "    # list for pairs of images and their labels\n",
        "    pairs,labels = [],[]\n",
        "    # go over each class\n",
        "    for ci in range(self.var[\"NUM_CLASSES\"]):\n",
        "      # go over each image of a class\n",
        "      for i in range(len(digit_idxs[ci])-1):\n",
        "        # make a pair with 2 images of same class\n",
        "        i1,i2 = digit_idxs[ci][i], digit_idxs[ci][i+1]\n",
        "        pairs += [[X[i1], X[i2]]]\n",
        "        labels += [1]\n",
        "        # make a pair with 2 images of different classes\n",
        "        # i1 = digit_idxs[ci][i]\n",
        "        # the other class should be different\n",
        "        diff_ci = random.randint(1,10)%10\n",
        "        while diff_ci==ci:\n",
        "          diff_ci = random.randint(1,10)%10\n",
        "        i2 = random.randint(0, len(digit_idxs[diff_ci])-1)\n",
        "        pairs += [[X[i1], X[i2]]]\n",
        "        labels += [0]\n",
        "    return np.array(pairs, dtype=np.float32), np.array(labels, dtype=np.float32)\n",
        "\n",
        "  def met_accuracy(self, y, y_pred):\n",
        "    acr = backend.equal(y, backend.cast(y_pred < 0.5, y.dtype))\n",
        "    acr = backend.mean(acr)\n",
        "    return acr\n",
        "\n",
        "  def get_accuracy(self, model, pairs, y):\n",
        "    y_pred = model.predict([pairs[:,0], pairs[:,1]])\n",
        "    y_pred = y_pred.flatten()<0.5\n",
        "    return np.mean(y_pred==y)\n",
        "\n",
        "  def print_train_test_acc(self, model, train_pairs, test_pairs, train_y, test_y):\n",
        "    acc = [self.get_accuracy(model, train_pairs, train_y),self.get_accuracy(model, test_pairs, test_y)]\n",
        "    print('Train Set Accuracy: ',acc[0] )\n",
        "    print('Test Set Accuracy: ', acc[1] )\n",
        "    return acc\n",
        "\n",
        "  def euclidean_distance(self, tensor):\n",
        "    ed = backend.maximum(backend.sum(backend.square(tensor[0] - tensor[1]), axis=1, keepdims=True),backend.epsilon())\n",
        "    ed = backend.sqrt(ed)\n",
        "    return ed\n",
        "\n",
        "  def get_model(self, model, loss, optimizer, acc_met, train_pairs, train_y, val_pairs, val_y):\n",
        "    model.compile(loss=loss, optimizer=optimizer, metrics=[acc_met])\n",
        "    model.fit(\n",
        "              [train_pairs[:,0],\n",
        "              train_pairs[:,1]],\n",
        "              train_y,\n",
        "              validation_data=([val_pairs[:,0],\n",
        "                                val_pairs[:,1]],\n",
        "                                val_y),\n",
        "              batch_size=self.var[\"BATCH_SIZE\"],\n",
        "              epochs=self.var[\"EPOCHS\"])\n",
        "    return model"
      ],
      "execution_count": 8,
      "outputs": []
    },
    {
      "cell_type": "code",
      "metadata": {
        "id": "Q5YsgeiFyU4w"
      },
      "source": [
        "# get indexes for each class in train, test, val arrays\n",
        "train_digit_idxs = [np.where(trainy == i)[0] for i in range(constvar_dec[\"NUM_CLASSES\"])]\n",
        "validate_digit_idxs = [np.where(valy == i)[0] for i in range(constvar_dec[\"NUM_CLASSES\"])]\n",
        "test_digit_idxs = [np.where(testy == i)[0] for i in range(constvar_dec[\"NUM_CLASSES\"])]\n"
      ],
      "execution_count": 9,
      "outputs": []
    },
    {
      "cell_type": "code",
      "metadata": {
        "id": "1mwuqglhNdl6"
      },
      "source": [
        "siamese_net = siamese_network(constvar_dec)\n",
        "# get a lot of pairs of images where each pair can have same type or different type\n",
        "train_pairs, train_y = siamese_net.create_pairs(trainX, train_digit_idxs)\n",
        "validate_pairs, validate_y = siamese_net.create_pairs(valX, validate_digit_idxs)\n",
        "test_pairs, test_y = siamese_net.create_pairs(testX, test_digit_idxs)"
      ],
      "execution_count": 10,
      "outputs": []
    },
    {
      "cell_type": "code",
      "metadata": {
        "id": "IMeV8QZeyzoQ"
      },
      "source": [
        "base_model = Sequential([\n",
        "                      Input(shape=constvar_dec[\"INPUT_SHAPE\"]),\n",
        "                      Flatten(),\n",
        "                      Dense(256, activation='relu'),\n",
        "                      Dense(256, activation='relu'),\n",
        "                      Dense(256, activation='relu'),\n",
        "                      Lambda(lambda  x: backend.l2_normalize(x,axis=1)),\n",
        "])\n",
        "input1 = Input(shape=constvar_dec[\"INPUT_SHAPE\"])\n",
        "input2 = Input(shape=constvar_dec[\"INPUT_SHAPE\"])\n",
        "processed1 = base_model(input1)\n",
        "processed2 = base_model(input2)\n",
        "distance = Lambda(siamese_net.euclidean_distance, output_shape=siamese_net.euclidean_distance_output_shape)([processed1, processed2])\n",
        "model = Model([input1, input2], distance)"
      ],
      "execution_count": 11,
      "outputs": []
    },
    {
      "cell_type": "markdown",
      "metadata": {
        "id": "xBteShqhe9_3"
      },
      "source": [
        "# PART 2 and PART 3 Use different loss functions with different optimisers"
      ]
    },
    {
      "cell_type": "markdown",
      "metadata": {
        "id": "W40q5A1c13UB"
      },
      "source": [
        "## Contrastive Loss"
      ]
    },
    {
      "cell_type": "markdown",
      "metadata": {
        "id": "zc33PEa6yl11"
      },
      "source": [
        "#### RMSprop"
      ]
    },
    {
      "cell_type": "code",
      "metadata": {
        "id": "quzDAU5Hy8fY",
        "colab": {
          "base_uri": "https://localhost:8080/"
        },
        "outputId": "488d0c8a-7fd8-4a62-9d92-ef6365e2b8fb"
      },
      "source": [
        "model = siamese_net.get_model(model, siamese_net.contrastive_loss, 'rmsprop', siamese_net.met_accuracy, train_pairs, train_y, validate_pairs, validate_y)"
      ],
      "execution_count": 12,
      "outputs": [
        {
          "output_type": "stream",
          "text": [
            "Epoch 1/10\n",
            "3000/3000 [==============================] - 27s 9ms/step - loss: 0.1038 - met_accuracy: 0.8669 - val_loss: 0.0713 - val_met_accuracy: 0.9160\n",
            "Epoch 2/10\n",
            "3000/3000 [==============================] - 25s 8ms/step - loss: 0.0636 - met_accuracy: 0.9253 - val_loss: 0.0679 - val_met_accuracy: 0.9195\n",
            "Epoch 3/10\n",
            "3000/3000 [==============================] - 25s 8ms/step - loss: 0.0577 - met_accuracy: 0.9341 - val_loss: 0.0649 - val_met_accuracy: 0.9224\n",
            "Epoch 4/10\n",
            "3000/3000 [==============================] - 25s 8ms/step - loss: 0.0530 - met_accuracy: 0.9398 - val_loss: 0.0638 - val_met_accuracy: 0.9258\n",
            "Epoch 5/10\n",
            "3000/3000 [==============================] - 25s 8ms/step - loss: 0.0528 - met_accuracy: 0.9389 - val_loss: 0.0656 - val_met_accuracy: 0.9218\n",
            "Epoch 6/10\n",
            "3000/3000 [==============================] - 25s 8ms/step - loss: 0.0502 - met_accuracy: 0.9432 - val_loss: 0.0635 - val_met_accuracy: 0.9255\n",
            "Epoch 7/10\n",
            "3000/3000 [==============================] - 25s 8ms/step - loss: 0.0495 - met_accuracy: 0.9438 - val_loss: 0.0640 - val_met_accuracy: 0.9258\n",
            "Epoch 8/10\n",
            "3000/3000 [==============================] - 25s 8ms/step - loss: 0.0480 - met_accuracy: 0.9453 - val_loss: 0.0623 - val_met_accuracy: 0.9281\n",
            "Epoch 9/10\n",
            "3000/3000 [==============================] - 25s 8ms/step - loss: 0.0484 - met_accuracy: 0.9446 - val_loss: 0.0632 - val_met_accuracy: 0.9263\n",
            "Epoch 10/10\n",
            "3000/3000 [==============================] - 25s 8ms/step - loss: 0.0474 - met_accuracy: 0.9460 - val_loss: 0.0641 - val_met_accuracy: 0.9251\n"
          ],
          "name": "stdout"
        }
      ]
    },
    {
      "cell_type": "code",
      "metadata": {
        "colab": {
          "base_uri": "https://localhost:8080/"
        },
        "id": "IZNR5BZQydUv",
        "outputId": "d68890e3-db2c-44a4-918e-8f6096431e03"
      },
      "source": [
        "acc11 = siamese_net.print_train_test_acc(model, train_pairs,test_pairs, train_y, test_y)"
      ],
      "execution_count": 13,
      "outputs": [
        {
          "output_type": "stream",
          "text": [
            "Train Set Accuracy:  0.9471035632423421\n",
            "Test Set Accuracy:  0.9317817817817818\n"
          ],
          "name": "stdout"
        }
      ]
    },
    {
      "cell_type": "markdown",
      "metadata": {
        "id": "b-J2prvWyoMm"
      },
      "source": [
        "#### Adam\n"
      ]
    },
    {
      "cell_type": "code",
      "metadata": {
        "id": "qjB5ld6DypWI",
        "colab": {
          "base_uri": "https://localhost:8080/"
        },
        "outputId": "14981955-71f0-42e9-eebe-6af325de6674"
      },
      "source": [
        "model = siamese_net.get_model(model, siamese_net.contrastive_loss, 'adam', siamese_net.met_accuracy, train_pairs, train_y, validate_pairs, validate_y)"
      ],
      "execution_count": 14,
      "outputs": [
        {
          "output_type": "stream",
          "text": [
            "Epoch 1/10\n",
            "3000/3000 [==============================] - 22s 7ms/step - loss: 0.0491 - met_accuracy: 0.9432 - val_loss: 0.0624 - val_met_accuracy: 0.9267\n",
            "Epoch 2/10\n",
            "3000/3000 [==============================] - 21s 7ms/step - loss: 0.0462 - met_accuracy: 0.9464 - val_loss: 0.0633 - val_met_accuracy: 0.9260\n",
            "Epoch 3/10\n",
            "3000/3000 [==============================] - 21s 7ms/step - loss: 0.0456 - met_accuracy: 0.9461 - val_loss: 0.0648 - val_met_accuracy: 0.9240\n",
            "Epoch 4/10\n",
            "3000/3000 [==============================] - 21s 7ms/step - loss: 0.0442 - met_accuracy: 0.9474 - val_loss: 0.0642 - val_met_accuracy: 0.9259\n",
            "Epoch 5/10\n",
            "3000/3000 [==============================] - 22s 7ms/step - loss: 0.0433 - met_accuracy: 0.9480 - val_loss: 0.0652 - val_met_accuracy: 0.9243\n",
            "Epoch 6/10\n",
            "3000/3000 [==============================] - 22s 7ms/step - loss: 0.0426 - met_accuracy: 0.9482 - val_loss: 0.0628 - val_met_accuracy: 0.9284\n",
            "Epoch 7/10\n",
            "3000/3000 [==============================] - 22s 7ms/step - loss: 0.0418 - met_accuracy: 0.9484 - val_loss: 0.0642 - val_met_accuracy: 0.9255\n",
            "Epoch 8/10\n",
            "3000/3000 [==============================] - 22s 7ms/step - loss: 0.0409 - met_accuracy: 0.9494 - val_loss: 0.0651 - val_met_accuracy: 0.9247\n",
            "Epoch 9/10\n",
            "3000/3000 [==============================] - 21s 7ms/step - loss: 0.0400 - met_accuracy: 0.9500 - val_loss: 0.0660 - val_met_accuracy: 0.9243\n",
            "Epoch 10/10\n",
            "3000/3000 [==============================] - 21s 7ms/step - loss: 0.0391 - met_accuracy: 0.9506 - val_loss: 0.0645 - val_met_accuracy: 0.9260\n"
          ],
          "name": "stdout"
        }
      ]
    },
    {
      "cell_type": "code",
      "metadata": {
        "id": "yDtus0UeyrdW",
        "colab": {
          "base_uri": "https://localhost:8080/"
        },
        "outputId": "b856ae57-4a46-4af7-b533-b661882ae97e"
      },
      "source": [
        "acc12 = siamese_net.print_train_test_acc(model, train_pairs, test_pairs, train_y, test_y)"
      ],
      "execution_count": 15,
      "outputs": [
        {
          "output_type": "stream",
          "text": [
            "Train Set Accuracy:  0.9527088976870182\n",
            "Test Set Accuracy:  0.9303803803803804\n"
          ],
          "name": "stdout"
        }
      ]
    },
    {
      "cell_type": "markdown",
      "metadata": {
        "id": "6tZTx68KywM2"
      },
      "source": [
        "#### Mini batch gradient descent"
      ]
    },
    {
      "cell_type": "code",
      "metadata": {
        "id": "tFo-gK9wyzIe",
        "colab": {
          "base_uri": "https://localhost:8080/"
        },
        "outputId": "870ca2f1-5901-4b14-f36d-07beccd3ad3d"
      },
      "source": [
        "model = siamese_net.get_model(model, siamese_net.contrastive_loss, 'sgd', siamese_net.met_accuracy, train_pairs, train_y, validate_pairs, validate_y)"
      ],
      "execution_count": 16,
      "outputs": [
        {
          "output_type": "stream",
          "text": [
            "Epoch 1/10\n",
            "3000/3000 [==============================] - 21s 7ms/step - loss: 0.0371 - met_accuracy: 0.9520 - val_loss: 0.0641 - val_met_accuracy: 0.9273\n",
            "Epoch 2/10\n",
            "3000/3000 [==============================] - 20s 7ms/step - loss: 0.0362 - met_accuracy: 0.9530 - val_loss: 0.0639 - val_met_accuracy: 0.9275\n",
            "Epoch 3/10\n",
            "3000/3000 [==============================] - 20s 7ms/step - loss: 0.0360 - met_accuracy: 0.9530 - val_loss: 0.0638 - val_met_accuracy: 0.9275\n",
            "Epoch 4/10\n",
            "3000/3000 [==============================] - 20s 7ms/step - loss: 0.0356 - met_accuracy: 0.9537 - val_loss: 0.0637 - val_met_accuracy: 0.9279\n",
            "Epoch 5/10\n",
            "3000/3000 [==============================] - 20s 7ms/step - loss: 0.0346 - met_accuracy: 0.9549 - val_loss: 0.0636 - val_met_accuracy: 0.9278\n",
            "Epoch 6/10\n",
            "3000/3000 [==============================] - 20s 7ms/step - loss: 0.0354 - met_accuracy: 0.9538 - val_loss: 0.0635 - val_met_accuracy: 0.9280\n",
            "Epoch 7/10\n",
            "3000/3000 [==============================] - 20s 7ms/step - loss: 0.0361 - met_accuracy: 0.9527 - val_loss: 0.0635 - val_met_accuracy: 0.9283\n",
            "Epoch 8/10\n",
            "3000/3000 [==============================] - 20s 7ms/step - loss: 0.0350 - met_accuracy: 0.9543 - val_loss: 0.0634 - val_met_accuracy: 0.9282\n",
            "Epoch 9/10\n",
            "3000/3000 [==============================] - 20s 7ms/step - loss: 0.0354 - met_accuracy: 0.9533 - val_loss: 0.0634 - val_met_accuracy: 0.9283\n",
            "Epoch 10/10\n",
            "3000/3000 [==============================] - 20s 7ms/step - loss: 0.0355 - met_accuracy: 0.9531 - val_loss: 0.0634 - val_met_accuracy: 0.9285\n"
          ],
          "name": "stdout"
        }
      ]
    },
    {
      "cell_type": "code",
      "metadata": {
        "id": "bEOrZKQry173",
        "colab": {
          "base_uri": "https://localhost:8080/"
        },
        "outputId": "0e55fddb-99b6-4f63-a3f1-32568eb53d96"
      },
      "source": [
        "acc13 = siamese_net.print_train_test_acc(model, train_pairs, test_pairs, train_y, test_y)"
      ],
      "execution_count": 17,
      "outputs": [
        {
          "output_type": "stream",
          "text": [
            "Train Set Accuracy:  0.9536153365284434\n",
            "Test Set Accuracy:  0.9313313313313313\n"
          ],
          "name": "stdout"
        }
      ]
    },
    {
      "cell_type": "markdown",
      "metadata": {
        "id": "xxcwkkjFMnX_"
      },
      "source": [
        "#### comparison"
      ]
    },
    {
      "cell_type": "code",
      "metadata": {
        "colab": {
          "base_uri": "https://localhost:8080/"
        },
        "id": "yEmKEMLrMmeO",
        "outputId": "79566c4c-1d2d-42b8-dc53-b0b45975c760"
      },
      "source": [
        "# !pip install tabulate\n",
        "table = [['optimizer', 'ACCURACY'],\n",
        "         ['RMS prop',str(acc11[0])],\n",
        "         ['Adam',str(acc12[0])],\n",
        "         ['Mini batch gradient descent',str(acc13[0])]]\n",
        "\n",
        "print()\n",
        "print()\n",
        "print(tabulate(table, headers='firstrow'))"
      ],
      "execution_count": 21,
      "outputs": [
        {
          "output_type": "stream",
          "text": [
            "\n",
            "\n",
            "optimizer                      ACCURACY\n",
            "---------------------------  ----------\n",
            "RMS prop                       0.947104\n",
            "Adam                           0.952709\n",
            "Mini batch gradient descent    0.953615\n"
          ],
          "name": "stdout"
        }
      ]
    },
    {
      "cell_type": "markdown",
      "metadata": {
        "id": "G5TYCavR1_NW"
      },
      "source": [
        "## Cross entropy loss"
      ]
    },
    {
      "cell_type": "markdown",
      "metadata": {
        "id": "3YIQLKLk2FJ3"
      },
      "source": [
        "#### RMSprop"
      ]
    },
    {
      "cell_type": "code",
      "metadata": {
        "id": "NY-wrzvy2BNu",
        "colab": {
          "base_uri": "https://localhost:8080/"
        },
        "outputId": "096565cc-9304-4b4f-f77f-ae7ce9f9c93b"
      },
      "source": [
        "model = siamese_net.get_model(model, BinaryCrossentropy(), 'rmsprop', siamese_net.met_accuracy, train_pairs, train_y, validate_pairs, validate_y)"
      ],
      "execution_count": 22,
      "outputs": [
        {
          "output_type": "stream",
          "text": [
            "Epoch 1/10\n",
            "3000/3000 [==============================] - 27s 9ms/step - loss: 1.1693 - met_accuracy: 0.5709 - val_loss: 0.7311 - val_met_accuracy: 0.5120\n",
            "Epoch 2/10\n",
            "3000/3000 [==============================] - 26s 9ms/step - loss: 0.7038 - met_accuracy: 0.4650 - val_loss: 0.7267 - val_met_accuracy: 0.5043\n",
            "Epoch 3/10\n",
            "3000/3000 [==============================] - 26s 9ms/step - loss: 0.6853 - met_accuracy: 0.4338 - val_loss: 0.7283 - val_met_accuracy: 0.5066\n",
            "Epoch 4/10\n",
            "3000/3000 [==============================] - 26s 9ms/step - loss: 0.6743 - met_accuracy: 0.4152 - val_loss: 0.7318 - val_met_accuracy: 0.5084\n",
            "Epoch 5/10\n",
            "3000/3000 [==============================] - 25s 8ms/step - loss: 0.6633 - met_accuracy: 0.3960 - val_loss: 0.7276 - val_met_accuracy: 0.5005\n",
            "Epoch 6/10\n",
            "3000/3000 [==============================] - 25s 8ms/step - loss: 0.6552 - met_accuracy: 0.3852 - val_loss: 0.7353 - val_met_accuracy: 0.5069\n",
            "Epoch 7/10\n",
            "3000/3000 [==============================] - 26s 9ms/step - loss: 0.6473 - met_accuracy: 0.3726 - val_loss: 0.7451 - val_met_accuracy: 0.5050\n",
            "Epoch 8/10\n",
            "3000/3000 [==============================] - 26s 9ms/step - loss: 0.6420 - met_accuracy: 0.3624 - val_loss: 0.7422 - val_met_accuracy: 0.5116\n",
            "Epoch 9/10\n",
            "3000/3000 [==============================] - 25s 8ms/step - loss: 0.6356 - met_accuracy: 0.3561 - val_loss: 0.7384 - val_met_accuracy: 0.5059\n",
            "Epoch 10/10\n",
            "3000/3000 [==============================] - 25s 8ms/step - loss: 0.6305 - met_accuracy: 0.3492 - val_loss: 0.7468 - val_met_accuracy: 0.5079\n"
          ],
          "name": "stdout"
        }
      ]
    },
    {
      "cell_type": "code",
      "metadata": {
        "id": "g8kM1brI2Qf-",
        "colab": {
          "base_uri": "https://localhost:8080/"
        },
        "outputId": "c6b9db41-3db7-4efb-d6b9-5478cc276b18"
      },
      "source": [
        "acc21 = siamese_net.print_train_test_acc(model, train_pairs, test_pairs, train_y, test_y)"
      ],
      "execution_count": 23,
      "outputs": [
        {
          "output_type": "stream",
          "text": [
            "Train Set Accuracy:  0.3369660345905397\n",
            "Test Set Accuracy:  0.5535535535535535\n"
          ],
          "name": "stdout"
        }
      ]
    },
    {
      "cell_type": "markdown",
      "metadata": {
        "id": "hTweqVvi2TQ3"
      },
      "source": [
        "#### Adam"
      ]
    },
    {
      "cell_type": "code",
      "metadata": {
        "id": "dc6xyov_2UzX",
        "colab": {
          "base_uri": "https://localhost:8080/"
        },
        "outputId": "6cfa5349-4772-48a5-9d7c-499ac0b6d447"
      },
      "source": [
        "model = siamese_net.get_model(model, BinaryCrossentropy(), 'adam', siamese_net.met_accuracy, train_pairs, train_y, validate_pairs, validate_y)"
      ],
      "execution_count": 24,
      "outputs": [
        {
          "output_type": "stream",
          "text": [
            "Epoch 1/10\n",
            "3000/3000 [==============================] - 22s 7ms/step - loss: 0.6272 - met_accuracy: 0.3457 - val_loss: 0.7469 - val_met_accuracy: 0.5105\n",
            "Epoch 2/10\n",
            "3000/3000 [==============================] - 21s 7ms/step - loss: 0.6198 - met_accuracy: 0.3357 - val_loss: 0.7453 - val_met_accuracy: 0.5067\n",
            "Epoch 3/10\n",
            "3000/3000 [==============================] - 21s 7ms/step - loss: 0.6154 - met_accuracy: 0.3317 - val_loss: 0.7456 - val_met_accuracy: 0.5148\n",
            "Epoch 4/10\n",
            "3000/3000 [==============================] - 22s 7ms/step - loss: 0.6100 - met_accuracy: 0.3271 - val_loss: 0.7468 - val_met_accuracy: 0.5071\n",
            "Epoch 5/10\n",
            "3000/3000 [==============================] - 22s 7ms/step - loss: 0.6046 - met_accuracy: 0.3200 - val_loss: 0.7446 - val_met_accuracy: 0.5053\n",
            "Epoch 6/10\n",
            "3000/3000 [==============================] - 21s 7ms/step - loss: 0.5979 - met_accuracy: 0.3144 - val_loss: 0.7569 - val_met_accuracy: 0.5074\n",
            "Epoch 7/10\n",
            "3000/3000 [==============================] - 22s 7ms/step - loss: 0.5921 - met_accuracy: 0.3050 - val_loss: 0.7735 - val_met_accuracy: 0.5086\n",
            "Epoch 8/10\n",
            "3000/3000 [==============================] - 22s 7ms/step - loss: 0.5878 - met_accuracy: 0.3030 - val_loss: 0.7554 - val_met_accuracy: 0.5083\n",
            "Epoch 9/10\n",
            "3000/3000 [==============================] - 22s 7ms/step - loss: 0.5839 - met_accuracy: 0.2993 - val_loss: 0.7620 - val_met_accuracy: 0.5061\n",
            "Epoch 10/10\n",
            "3000/3000 [==============================] - 22s 7ms/step - loss: 0.5778 - met_accuracy: 0.2961 - val_loss: 0.7594 - val_met_accuracy: 0.5040\n"
          ],
          "name": "stdout"
        }
      ]
    },
    {
      "cell_type": "code",
      "metadata": {
        "id": "yaRQBRQj2Wa-",
        "colab": {
          "base_uri": "https://localhost:8080/"
        },
        "outputId": "ebba3c41-cf24-4365-f39a-b91d0ccb776c"
      },
      "source": [
        "acc22 = siamese_net.print_train_test_acc(model, train_pairs, test_pairs, train_y, test_y)"
      ],
      "execution_count": 25,
      "outputs": [
        {
          "output_type": "stream",
          "text": [
            "Train Set Accuracy:  0.2703375703271515\n",
            "Test Set Accuracy:  0.5424924924924925\n"
          ],
          "name": "stdout"
        }
      ]
    },
    {
      "cell_type": "markdown",
      "metadata": {
        "id": "5-7AUBTf2a1n"
      },
      "source": [
        "#### Mini batch gradient descent"
      ]
    },
    {
      "cell_type": "code",
      "metadata": {
        "id": "CcWGcYB72dEP",
        "colab": {
          "base_uri": "https://localhost:8080/"
        },
        "outputId": "6cff08e6-9a3b-4098-c637-0c689dbf3e97"
      },
      "source": [
        "model = siamese_net.get_model(model, BinaryCrossentropy(), 'sgd', siamese_net.met_accuracy, train_pairs, train_y, validate_pairs, validate_y)"
      ],
      "execution_count": 26,
      "outputs": [
        {
          "output_type": "stream",
          "text": [
            "Epoch 1/10\n",
            "3000/3000 [==============================] - 21s 7ms/step - loss: 0.5630 - met_accuracy: 0.2722 - val_loss: 0.7952 - val_met_accuracy: 0.5044\n",
            "Epoch 2/10\n",
            "3000/3000 [==============================] - 20s 7ms/step - loss: 0.5536 - met_accuracy: 0.2734 - val_loss: 0.8001 - val_met_accuracy: 0.5043\n",
            "Epoch 3/10\n",
            "3000/3000 [==============================] - 20s 7ms/step - loss: 0.5502 - met_accuracy: 0.2702 - val_loss: 0.8050 - val_met_accuracy: 0.5045\n",
            "Epoch 4/10\n",
            "3000/3000 [==============================] - 20s 7ms/step - loss: 0.5468 - met_accuracy: 0.2682 - val_loss: 0.8042 - val_met_accuracy: 0.5034\n",
            "Epoch 5/10\n",
            "3000/3000 [==============================] - 20s 7ms/step - loss: 0.5474 - met_accuracy: 0.2705 - val_loss: 0.8153 - val_met_accuracy: 0.5029\n",
            "Epoch 6/10\n",
            "3000/3000 [==============================] - 20s 7ms/step - loss: 0.5467 - met_accuracy: 0.2689 - val_loss: 0.8191 - val_met_accuracy: 0.5037\n",
            "Epoch 7/10\n",
            "3000/3000 [==============================] - 20s 7ms/step - loss: 0.5450 - met_accuracy: 0.2699 - val_loss: 0.8148 - val_met_accuracy: 0.5017\n",
            "Epoch 8/10\n",
            "3000/3000 [==============================] - 20s 7ms/step - loss: 0.5436 - met_accuracy: 0.2668 - val_loss: 0.8134 - val_met_accuracy: 0.5027\n",
            "Epoch 9/10\n",
            "3000/3000 [==============================] - 21s 7ms/step - loss: 0.5425 - met_accuracy: 0.2667 - val_loss: 0.8217 - val_met_accuracy: 0.5041\n",
            "Epoch 10/10\n",
            "3000/3000 [==============================] - 20s 7ms/step - loss: 0.5437 - met_accuracy: 0.2690 - val_loss: 0.8180 - val_met_accuracy: 0.5028\n"
          ],
          "name": "stdout"
        }
      ]
    },
    {
      "cell_type": "code",
      "metadata": {
        "id": "xGMXQooc2ejH",
        "colab": {
          "base_uri": "https://localhost:8080/"
        },
        "outputId": "52151b8b-6036-47fb-ea07-a01fd9f0365a"
      },
      "source": [
        "acc23 = siamese_net.print_train_test_acc(model, train_pairs, test_pairs, train_y, test_y)"
      ],
      "execution_count": 27,
      "outputs": [
        {
          "output_type": "stream",
          "text": [
            "Train Set Accuracy:  0.2665034382162951\n",
            "Test Set Accuracy:  0.5383883883883884\n"
          ],
          "name": "stdout"
        }
      ]
    },
    {
      "cell_type": "markdown",
      "metadata": {
        "id": "vNLJ0mFGNzkZ"
      },
      "source": [
        "#### comparison"
      ]
    },
    {
      "cell_type": "code",
      "metadata": {
        "colab": {
          "base_uri": "https://localhost:8080/"
        },
        "id": "T8QvdS1HN13f",
        "outputId": "21b6c9c5-63d7-4d9b-9d99-fb23536f0029"
      },
      "source": [
        "table = [['optimizer', 'ACCURACY'],\n",
        "         ['RMS prop',str(acc21[0])],\n",
        "         ['Adam',str(acc22[0])],\n",
        "         ['Mini batch gradient descent',str(acc23[0])]]\n",
        "\n",
        "print()\n",
        "print()\n",
        "print(tabulate(table, headers='firstrow'))"
      ],
      "execution_count": 28,
      "outputs": [
        {
          "output_type": "stream",
          "text": [
            "\n",
            "\n",
            "optimizer                      ACCURACY\n",
            "---------------------------  ----------\n",
            "RMS prop                       0.336966\n",
            "Adam                           0.270338\n",
            "Mini batch gradient descent    0.266503\n"
          ],
          "name": "stdout"
        }
      ]
    },
    {
      "cell_type": "markdown",
      "metadata": {
        "id": "3P4k8XYY3qwe"
      },
      "source": [
        "## Triplet Loss"
      ]
    },
    {
      "cell_type": "markdown",
      "metadata": {
        "id": "B0SgfE753yLp"
      },
      "source": [
        "#### RMSprop"
      ]
    },
    {
      "cell_type": "code",
      "metadata": {
        "id": "Jy1PSdh23t9p",
        "colab": {
          "base_uri": "https://localhost:8080/"
        },
        "outputId": "c22e32aa-569e-4042-9345-a67ce1092ecc"
      },
      "source": [
        "model = siamese_net.get_model(model, tfa.losses.TripletSemiHardLoss(), 'rmsprop', siamese_net.met_accuracy, train_pairs, train_y, validate_pairs, validate_y)"
      ],
      "execution_count": 29,
      "outputs": [
        {
          "output_type": "stream",
          "text": [
            "Epoch 1/10\n",
            "3000/3000 [==============================] - 35s 11ms/step - loss: 0.9735 - met_accuracy: 0.3875 - val_loss: 0.9790 - val_met_accuracy: 0.5048\n",
            "Epoch 2/10\n",
            "3000/3000 [==============================] - 32s 11ms/step - loss: 0.9710 - met_accuracy: 0.4646 - val_loss: 0.9790 - val_met_accuracy: 0.5036\n",
            "Epoch 3/10\n",
            "3000/3000 [==============================] - 31s 10ms/step - loss: 0.9699 - met_accuracy: 0.4730 - val_loss: 0.9797 - val_met_accuracy: 0.5024\n",
            "Epoch 4/10\n",
            "3000/3000 [==============================] - 31s 10ms/step - loss: 0.9688 - met_accuracy: 0.4814 - val_loss: 0.9802 - val_met_accuracy: 0.5010\n",
            "Epoch 5/10\n",
            "3000/3000 [==============================] - 31s 10ms/step - loss: 0.9686 - met_accuracy: 0.4824 - val_loss: 0.9798 - val_met_accuracy: 0.5019\n",
            "Epoch 6/10\n",
            "3000/3000 [==============================] - 31s 10ms/step - loss: 0.9681 - met_accuracy: 0.4854 - val_loss: 0.9804 - val_met_accuracy: 0.5020\n",
            "Epoch 7/10\n",
            "3000/3000 [==============================] - 31s 10ms/step - loss: 0.9663 - met_accuracy: 0.4854 - val_loss: 0.9805 - val_met_accuracy: 0.5023\n",
            "Epoch 8/10\n",
            "3000/3000 [==============================] - 31s 10ms/step - loss: 0.9659 - met_accuracy: 0.4897 - val_loss: 0.9806 - val_met_accuracy: 0.5023\n",
            "Epoch 9/10\n",
            "3000/3000 [==============================] - 31s 10ms/step - loss: 0.9648 - met_accuracy: 0.4914 - val_loss: 0.9800 - val_met_accuracy: 0.5013\n",
            "Epoch 10/10\n",
            "3000/3000 [==============================] - 31s 10ms/step - loss: 0.9635 - met_accuracy: 0.4917 - val_loss: 0.9804 - val_met_accuracy: 0.5019\n"
          ],
          "name": "stdout"
        }
      ]
    },
    {
      "cell_type": "code",
      "metadata": {
        "id": "1uIbo7664vy3",
        "colab": {
          "base_uri": "https://localhost:8080/"
        },
        "outputId": "16e91dc8-dc21-48d0-c6fa-48ef475e80f1"
      },
      "source": [
        "acc31 = siamese_net.print_train_test_acc(model, train_pairs, test_pairs, train_y, test_y)"
      ],
      "execution_count": 30,
      "outputs": [
        {
          "output_type": "stream",
          "text": [
            "Train Set Accuracy:  0.4927797457803709\n",
            "Test Set Accuracy:  0.5142642642642643\n"
          ],
          "name": "stdout"
        }
      ]
    },
    {
      "cell_type": "markdown",
      "metadata": {
        "id": "GCb_8YAX43BZ"
      },
      "source": [
        "#### Adam"
      ]
    },
    {
      "cell_type": "code",
      "metadata": {
        "id": "Q86UmBlV44hQ",
        "colab": {
          "base_uri": "https://localhost:8080/"
        },
        "outputId": "d9c26668-0147-44ff-edfb-93882831d66c"
      },
      "source": [
        "model = siamese_net.get_model(model, tfa.losses.TripletSemiHardLoss(), 'adam', siamese_net.met_accuracy, train_pairs, train_y, validate_pairs, validate_y)"
      ],
      "execution_count": 31,
      "outputs": [
        {
          "output_type": "stream",
          "text": [
            "Epoch 1/10\n",
            "3000/3000 [==============================] - 27s 9ms/step - loss: 0.9641 - met_accuracy: 0.4928 - val_loss: 0.9803 - val_met_accuracy: 0.5020\n",
            "Epoch 2/10\n",
            "3000/3000 [==============================] - 27s 9ms/step - loss: 0.9639 - met_accuracy: 0.4909 - val_loss: 0.9800 - val_met_accuracy: 0.5029\n",
            "Epoch 3/10\n",
            "3000/3000 [==============================] - 26s 9ms/step - loss: 0.9633 - met_accuracy: 0.4922 - val_loss: 0.9802 - val_met_accuracy: 0.5015\n",
            "Epoch 4/10\n",
            "3000/3000 [==============================] - 27s 9ms/step - loss: 0.9623 - met_accuracy: 0.4951 - val_loss: 0.9808 - val_met_accuracy: 0.5024\n",
            "Epoch 5/10\n",
            "3000/3000 [==============================] - 27s 9ms/step - loss: 0.9611 - met_accuracy: 0.4997 - val_loss: 0.9801 - val_met_accuracy: 0.5015\n",
            "Epoch 6/10\n",
            "3000/3000 [==============================] - 26s 9ms/step - loss: 0.9603 - met_accuracy: 0.4952 - val_loss: 0.9808 - val_met_accuracy: 0.5023\n",
            "Epoch 7/10\n",
            "3000/3000 [==============================] - 26s 9ms/step - loss: 0.9589 - met_accuracy: 0.4987 - val_loss: 0.9804 - val_met_accuracy: 0.5009\n",
            "Epoch 8/10\n",
            "3000/3000 [==============================] - 27s 9ms/step - loss: 0.9581 - met_accuracy: 0.4936 - val_loss: 0.9807 - val_met_accuracy: 0.5019\n",
            "Epoch 9/10\n",
            "3000/3000 [==============================] - 27s 9ms/step - loss: 0.9567 - met_accuracy: 0.4999 - val_loss: 0.9808 - val_met_accuracy: 0.5018\n",
            "Epoch 10/10\n",
            "3000/3000 [==============================] - 27s 9ms/step - loss: 0.9558 - met_accuracy: 0.5008 - val_loss: 0.9808 - val_met_accuracy: 0.5019\n"
          ],
          "name": "stdout"
        }
      ]
    },
    {
      "cell_type": "code",
      "metadata": {
        "id": "5ziyA1Ap5YLs",
        "colab": {
          "base_uri": "https://localhost:8080/"
        },
        "outputId": "b9bd33d7-9192-41b1-e18b-0bb08c00b54a"
      },
      "source": [
        "acc32 = siamese_net.print_train_test_acc(model, train_pairs, test_pairs, train_y, test_y)"
      ],
      "execution_count": 32,
      "outputs": [
        {
          "output_type": "stream",
          "text": [
            "Train Set Accuracy:  0.4994790581371119\n",
            "Test Set Accuracy:  0.5118118118118118\n"
          ],
          "name": "stdout"
        }
      ]
    },
    {
      "cell_type": "markdown",
      "metadata": {
        "id": "JB-lGKGE5dmO"
      },
      "source": [
        "#### Mini batch gradient descent"
      ]
    },
    {
      "cell_type": "code",
      "metadata": {
        "id": "nC2KJFjW5eOI",
        "colab": {
          "base_uri": "https://localhost:8080/"
        },
        "outputId": "c6800fe5-2fdf-40a9-a4b3-78e9e7fc4c81"
      },
      "source": [
        "model = siamese_net.get_model(model, tfa.losses.TripletSemiHardLoss(), 'sgd', siamese_net.met_accuracy, train_pairs, train_y, validate_pairs, validate_y)"
      ],
      "execution_count": 33,
      "outputs": [
        {
          "output_type": "stream",
          "text": [
            "Epoch 1/10\n",
            "3000/3000 [==============================] - 26s 8ms/step - loss: 0.9493 - met_accuracy: 0.4948 - val_loss: 0.9808 - val_met_accuracy: 0.5018\n",
            "Epoch 2/10\n",
            "3000/3000 [==============================] - 25s 8ms/step - loss: 0.9421 - met_accuracy: 0.5024 - val_loss: 0.9810 - val_met_accuracy: 0.5016\n",
            "Epoch 3/10\n",
            "3000/3000 [==============================] - 25s 8ms/step - loss: 0.9393 - met_accuracy: 0.5016 - val_loss: 0.9809 - val_met_accuracy: 0.5017\n",
            "Epoch 4/10\n",
            "3000/3000 [==============================] - 25s 8ms/step - loss: 0.9387 - met_accuracy: 0.5001 - val_loss: 0.9809 - val_met_accuracy: 0.5017\n",
            "Epoch 5/10\n",
            "3000/3000 [==============================] - 25s 8ms/step - loss: 0.9376 - met_accuracy: 0.5013 - val_loss: 0.9808 - val_met_accuracy: 0.5014\n",
            "Epoch 6/10\n",
            "3000/3000 [==============================] - 25s 8ms/step - loss: 0.9373 - met_accuracy: 0.5006 - val_loss: 0.9809 - val_met_accuracy: 0.5016\n",
            "Epoch 7/10\n",
            "3000/3000 [==============================] - 25s 8ms/step - loss: 0.9368 - met_accuracy: 0.5001 - val_loss: 0.9808 - val_met_accuracy: 0.5017\n",
            "Epoch 8/10\n",
            "3000/3000 [==============================] - 25s 8ms/step - loss: 0.9360 - met_accuracy: 0.4985 - val_loss: 0.9809 - val_met_accuracy: 0.5015\n",
            "Epoch 9/10\n",
            "3000/3000 [==============================] - 24s 8ms/step - loss: 0.9352 - met_accuracy: 0.5014 - val_loss: 0.9807 - val_met_accuracy: 0.5015\n",
            "Epoch 10/10\n",
            "3000/3000 [==============================] - 25s 8ms/step - loss: 0.9333 - met_accuracy: 0.5007 - val_loss: 0.9807 - val_met_accuracy: 0.5015\n"
          ],
          "name": "stdout"
        }
      ]
    },
    {
      "cell_type": "code",
      "metadata": {
        "id": "RaadUean5kdo",
        "colab": {
          "base_uri": "https://localhost:8080/"
        },
        "outputId": "c907a782-748f-45dc-be29-1aba05f09b7b"
      },
      "source": [
        "acc33 = siamese_net.print_train_test_acc(model, train_pairs, test_pairs, train_y, test_y)"
      ],
      "execution_count": 34,
      "outputs": [
        {
          "output_type": "stream",
          "text": [
            "Train Set Accuracy:  0.5014377995415712\n",
            "Test Set Accuracy:  0.5092092092092092\n"
          ],
          "name": "stdout"
        }
      ]
    },
    {
      "cell_type": "markdown",
      "metadata": {
        "id": "GN8kta6KOnL6"
      },
      "source": [
        "#### comparison"
      ]
    },
    {
      "cell_type": "code",
      "metadata": {
        "colab": {
          "base_uri": "https://localhost:8080/"
        },
        "id": "8VyG_7jvOpRh",
        "outputId": "2f2f3b6b-950f-4110-d382-0a1f92a14820"
      },
      "source": [
        "table = [['optimizer', 'ACCURACY'], ['RMS prop',str(acc21[0])], ['Adam',str(acc22[0])], ['Mini batch gradient descent',str(acc31[1])]]\n",
        "print()\n",
        "print()\n",
        "print(tabulate(table, headers='firstrow'))"
      ],
      "execution_count": 35,
      "outputs": [
        {
          "output_type": "stream",
          "text": [
            "\n",
            "\n",
            "optimizer                      ACCURACY\n",
            "---------------------------  ----------\n",
            "RMS prop                       0.336966\n",
            "Adam                           0.270338\n",
            "Mini batch gradient descent    0.514264\n"
          ],
          "name": "stdout"
        }
      ]
    },
    {
      "cell_type": "markdown",
      "metadata": {
        "id": "wm37kdDGO4fu"
      },
      "source": [
        "### comparison of three losses"
      ]
    },
    {
      "cell_type": "code",
      "metadata": {
        "colab": {
          "base_uri": "https://localhost:8080/"
        },
        "id": "dnk1sTZLO7Iw",
        "outputId": "fe6402d5-5037-404b-de42-395acf2cb4e8"
      },
      "source": [
        "table = [['Loss Function', 'ACCURACY'], ['Contrastive',str(acc13[0])], ['Cross entropy',str(acc21[1])], ['tripple loss',str(acc23[0])]]\n",
        "\n",
        "print()\n",
        "print()\n",
        "print(tabulate(table, headers='firstrow'))"
      ],
      "execution_count": 36,
      "outputs": [
        {
          "output_type": "stream",
          "text": [
            "\n",
            "\n",
            "Loss Function      ACCURACY\n",
            "---------------  ----------\n",
            "Contrastive        0.953615\n",
            "Cross entropy      0.553554\n",
            "tripple loss       0.266503\n"
          ],
          "name": "stdout"
        }
      ]
    },
    {
      "cell_type": "markdown",
      "metadata": {
        "id": "FwTjb9wCf_kR"
      },
      "source": [
        "# PART 4"
      ]
    },
    {
      "cell_type": "markdown",
      "metadata": {
        "id": "0pDBZQP-gyer"
      },
      "source": [
        "## Hyper Parameter Optimization to improve the accuracy"
      ]
    },
    {
      "cell_type": "code",
      "metadata": {
        "id": "3AHRnzNMgEa7"
      },
      "source": [
        "# reducing batcch size\n",
        "constvar_dec2 = {}\n",
        "constvar_dec2[\"NUM_CLASSES\"] = 10 \n",
        "constvar_dec2[\"EPOCHS\"] = 10\n",
        "constvar_dec2['INPUT_SHAPE'] = trainX.shape[1:]\n",
        "constvar_dec2['BATCH_SIZE'] = 16\n",
        "siamese_net2 = siamese_network(constvar_dec2)"
      ],
      "execution_count": 37,
      "outputs": []
    },
    {
      "cell_type": "code",
      "metadata": {
        "colab": {
          "base_uri": "https://localhost:8080/"
        },
        "id": "nmX4inmSLV9w",
        "outputId": "b5d15dc0-5a14-4bec-e7d6-5707e0a9d79d"
      },
      "source": [
        "# tuning hyperparameters of adam optimiser\n",
        "opt = Adam(lr=0.01, beta_1=0.9)\n",
        "model = siamese_net2.get_model(model, siamese_net2.contrastive_loss,optimizer=opt, siamese_net2.met_accuracy, train_pairs, train_y, validate_pairs, validate_y)"
      ],
      "execution_count": 39,
      "outputs": [
        {
          "output_type": "stream",
          "text": [
            "Epoch 1/10\n",
            "5999/5999 [==============================] - 44s 7ms/step - loss: 0.1643 - met_accuracy: 0.7701 - val_loss: 0.0728 - val_met_accuracy: 0.9177\n",
            "Epoch 2/10\n",
            "5999/5999 [==============================] - 43s 7ms/step - loss: 0.0602 - met_accuracy: 0.9334 - val_loss: 0.0663 - val_met_accuracy: 0.9215\n",
            "Epoch 3/10\n",
            "5999/5999 [==============================] - 43s 7ms/step - loss: 0.0499 - met_accuracy: 0.9435 - val_loss: 0.0666 - val_met_accuracy: 0.9229\n",
            "Epoch 4/10\n",
            "5999/5999 [==============================] - 43s 7ms/step - loss: 0.0465 - met_accuracy: 0.9462 - val_loss: 0.0653 - val_met_accuracy: 0.9228\n",
            "Epoch 5/10\n",
            "5999/5999 [==============================] - 44s 7ms/step - loss: 0.0432 - met_accuracy: 0.9491 - val_loss: 0.0651 - val_met_accuracy: 0.9247\n",
            "Epoch 6/10\n",
            "5999/5999 [==============================] - 46s 8ms/step - loss: 0.0441 - met_accuracy: 0.9473 - val_loss: 0.0653 - val_met_accuracy: 0.9252\n",
            "Epoch 7/10\n",
            "5999/5999 [==============================] - 52s 9ms/step - loss: 0.0406 - met_accuracy: 0.9509 - val_loss: 0.0666 - val_met_accuracy: 0.9244\n",
            "Epoch 8/10\n",
            "5999/5999 [==============================] - 46s 8ms/step - loss: 0.0403 - met_accuracy: 0.9505 - val_loss: 0.0659 - val_met_accuracy: 0.9248\n",
            "Epoch 9/10\n",
            "5999/5999 [==============================] - 47s 8ms/step - loss: 0.0397 - met_accuracy: 0.9504 - val_loss: 0.0660 - val_met_accuracy: 0.9239\n",
            "Epoch 10/10\n",
            "5999/5999 [==============================] - 46s 8ms/step - loss: 0.0390 - met_accuracy: 0.9507 - val_loss: 0.0666 - val_met_accuracy: 0.9243\n"
          ],
          "name": "stdout"
        }
      ]
    },
    {
      "cell_type": "code",
      "metadata": {
        "colab": {
          "base_uri": "https://localhost:8080/"
        },
        "id": "AhNiVrZkKrZa",
        "outputId": "b211ad78-05b8-4f9c-ffad-c2dfaadf11f1"
      },
      "source": [
        "print('Hyperparameter Tuned:- Reduced batch size, Changed Learning Rate, Added beta_1 for Adam optimiser')\n",
        "acc = siamese_net2.print_train_test_acc(model, train_pairs, test_pairs, train_y, test_y)"
      ],
      "execution_count": 40,
      "outputs": [
        {
          "output_type": "stream",
          "text": [
            "Hyperparameter Tuned:- Reduced batch size, Changed Learning Rate, Added beta_1 for Adam optimiser\n",
            "Train Set Accuracy:  0.952542196290894\n",
            "Test Set Accuracy:  0.9268768768768769\n"
          ],
          "name": "stdout"
        }
      ]
    },
    {
      "cell_type": "markdown",
      "metadata": {
        "id": "FWUg2B1izwGx"
      },
      "source": [
        "# PART 5"
      ]
    },
    {
      "cell_type": "markdown",
      "metadata": {
        "id": "N-BbfbT0eXbu"
      },
      "source": [
        "## Pros of Siamese Networks\n",
        "1. It only requires a few training examples of each class to recognize samples of that class.\n",
        "2. It Can learn semantic similarity\n",
        "\n",
        "## Cons of Siamese Networks\n",
        "1. It needs more training time as it operates on pairs of training samples per class. \n",
        "2. It provides output in the form of distance from each class, not the probability of a test sample to belong to a class."
      ]
    }
  ]
}